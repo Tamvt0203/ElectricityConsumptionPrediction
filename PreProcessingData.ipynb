{
 "cells": [
  {
   "cell_type": "markdown",
   "metadata": {},
   "source": [
    "# Bài toán:\n",
    "- Dự báo sản lượng điện cho 1 khách hàng, trong thời gian 2 năm rưỡi (từ 2022 đến nay)\n",
    "- Cần độ chính xác cao và hệ số k để điều chỉnh kết quả sau khi dự báo"
   ]
  },
  {
   "cell_type": "markdown",
   "metadata": {},
   "source": [
    "#### IMPORT CÁC THƯ VIỆN CẦN THIẾT"
   ]
  },
  {
   "cell_type": "code",
   "execution_count": 1,
   "metadata": {},
   "outputs": [],
   "source": [
    "import numpy as np\n",
    "import pandas as pd\n",
    "import matplotlib.pyplot as plt\n",
    "import seaborn as sns\n",
    "from datetime import timedelta, datetime, time\n",
    "import holidays\n",
    "from sklearn.model_selection import train_test_split\n",
    "from pandas.plotting import register_matplotlib_converters\n",
    "from statsmodels.graphics.tsaplots import plot_acf, plot_pacf\n",
    "register_matplotlib_converters()"
   ]
  },
  {
   "cell_type": "markdown",
   "metadata": {},
   "source": [
    "#### ĐỌC DỮ LIỆU TỪ FILE CSV"
   ]
  },
  {
   "cell_type": "markdown",
   "metadata": {},
   "source": [
    "Đọc dữ liệu từ file KH.csv, nhưng chỉ lấy dữ liệu năm 2023, 2024, bỏ năm 2022"
   ]
  },
  {
   "cell_type": "code",
   "execution_count": 2,
   "metadata": {},
   "outputs": [
    {
     "data": {
      "text/html": [
       "<div>\n",
       "<style scoped>\n",
       "    .dataframe tbody tr th:only-of-type {\n",
       "        vertical-align: middle;\n",
       "    }\n",
       "\n",
       "    .dataframe tbody tr th {\n",
       "        vertical-align: top;\n",
       "    }\n",
       "\n",
       "    .dataframe thead th {\n",
       "        text-align: right;\n",
       "    }\n",
       "</style>\n",
       "<table border=\"1\" class=\"dataframe\">\n",
       "  <thead>\n",
       "    <tr style=\"text-align: right;\">\n",
       "      <th></th>\n",
       "      <th>ma_dviqly</th>\n",
       "      <th>ma_khang</th>\n",
       "      <th>IMEI</th>\n",
       "      <th>TIME</th>\n",
       "      <th>BT</th>\n",
       "      <th>CD</th>\n",
       "      <th>TD</th>\n",
       "      <th>SG</th>\n",
       "    </tr>\n",
       "  </thead>\n",
       "  <tbody>\n",
       "    <tr>\n",
       "      <th>0</th>\n",
       "      <td>PP0100</td>\n",
       "      <td>PP01000633003</td>\n",
       "      <td>3.531960e+15</td>\n",
       "      <td>09/01/2022 00:00</td>\n",
       "      <td>2016.6</td>\n",
       "      <td>816.2</td>\n",
       "      <td>290.04</td>\n",
       "      <td>3122.84</td>\n",
       "    </tr>\n",
       "    <tr>\n",
       "      <th>1</th>\n",
       "      <td>PP0100</td>\n",
       "      <td>PP01000633003</td>\n",
       "      <td>3.531960e+15</td>\n",
       "      <td>09/01/2022 01:00</td>\n",
       "      <td>2016.6</td>\n",
       "      <td>816.2</td>\n",
       "      <td>290.10</td>\n",
       "      <td>3122.90</td>\n",
       "    </tr>\n",
       "    <tr>\n",
       "      <th>2</th>\n",
       "      <td>PP0100</td>\n",
       "      <td>PP01000633003</td>\n",
       "      <td>3.531960e+15</td>\n",
       "      <td>09/01/2022 02:00</td>\n",
       "      <td>2016.6</td>\n",
       "      <td>816.2</td>\n",
       "      <td>290.15</td>\n",
       "      <td>3122.96</td>\n",
       "    </tr>\n",
       "    <tr>\n",
       "      <th>3</th>\n",
       "      <td>PP0100</td>\n",
       "      <td>PP01000633003</td>\n",
       "      <td>3.531960e+15</td>\n",
       "      <td>09/01/2022 03:00</td>\n",
       "      <td>2016.6</td>\n",
       "      <td>816.2</td>\n",
       "      <td>290.21</td>\n",
       "      <td>3123.01</td>\n",
       "    </tr>\n",
       "    <tr>\n",
       "      <th>4</th>\n",
       "      <td>PP0100</td>\n",
       "      <td>PP01000633003</td>\n",
       "      <td>3.531960e+15</td>\n",
       "      <td>09/01/2022 04:00</td>\n",
       "      <td>2016.6</td>\n",
       "      <td>816.2</td>\n",
       "      <td>290.26</td>\n",
       "      <td>3123.06</td>\n",
       "    </tr>\n",
       "  </tbody>\n",
       "</table>\n",
       "</div>"
      ],
      "text/plain": [
       "  ma_dviqly       ma_khang          IMEI              TIME      BT     CD  \\\n",
       "0    PP0100  PP01000633003  3.531960e+15  09/01/2022 00:00  2016.6  816.2   \n",
       "1    PP0100  PP01000633003  3.531960e+15  09/01/2022 01:00  2016.6  816.2   \n",
       "2    PP0100  PP01000633003  3.531960e+15  09/01/2022 02:00  2016.6  816.2   \n",
       "3    PP0100  PP01000633003  3.531960e+15  09/01/2022 03:00  2016.6  816.2   \n",
       "4    PP0100  PP01000633003  3.531960e+15  09/01/2022 04:00  2016.6  816.2   \n",
       "\n",
       "       TD       SG  \n",
       "0  290.04  3122.84  \n",
       "1  290.10  3122.90  \n",
       "2  290.15  3122.96  \n",
       "3  290.21  3123.01  \n",
       "4  290.26  3123.06  "
      ]
     },
     "execution_count": 2,
     "metadata": {},
     "output_type": "execute_result"
    }
   ],
   "source": [
    "temp_df = pd.read_csv(\"KH.csv\")\n",
    "temp_df.head()"
   ]
  },
  {
   "cell_type": "code",
   "execution_count": 3,
   "metadata": {},
   "outputs": [
    {
     "name": "stdout",
     "output_type": "stream",
     "text": [
      "<class 'pandas.core.frame.DataFrame'>\n",
      "RangeIndex: 14956 entries, 0 to 14955\n",
      "Data columns (total 8 columns):\n",
      " #   Column     Non-Null Count  Dtype  \n",
      "---  ------     --------------  -----  \n",
      " 0   ma_dviqly  14956 non-null  object \n",
      " 1   ma_khang   14956 non-null  object \n",
      " 2   IMEI       14956 non-null  float64\n",
      " 3   TIME       14956 non-null  object \n",
      " 4   BT         14956 non-null  float64\n",
      " 5   CD         14956 non-null  float64\n",
      " 6   TD         14956 non-null  float64\n",
      " 7   SG         14956 non-null  float64\n",
      "dtypes: float64(5), object(3)\n",
      "memory usage: 934.9+ KB\n"
     ]
    }
   ],
   "source": [
    "temp_df.info()"
   ]
  },
  {
   "cell_type": "markdown",
   "metadata": {},
   "source": [
    "Đọc dữ liệu từ file 2022.csv để lấy dữ liệu cho năm 2022"
   ]
  },
  {
   "cell_type": "code",
   "execution_count": 4,
   "metadata": {},
   "outputs": [
    {
     "data": {
      "text/html": [
       "<div>\n",
       "<style scoped>\n",
       "    .dataframe tbody tr th:only-of-type {\n",
       "        vertical-align: middle;\n",
       "    }\n",
       "\n",
       "    .dataframe tbody tr th {\n",
       "        vertical-align: top;\n",
       "    }\n",
       "\n",
       "    .dataframe thead th {\n",
       "        text-align: right;\n",
       "    }\n",
       "</style>\n",
       "<table border=\"1\" class=\"dataframe\">\n",
       "  <thead>\n",
       "    <tr style=\"text-align: right;\">\n",
       "      <th></th>\n",
       "      <th>ma_dviqly</th>\n",
       "      <th>ma_khang</th>\n",
       "      <th>IMEI</th>\n",
       "      <th>TIME</th>\n",
       "      <th>BT</th>\n",
       "      <th>CD</th>\n",
       "      <th>TD</th>\n",
       "      <th>SG</th>\n",
       "    </tr>\n",
       "  </thead>\n",
       "  <tbody>\n",
       "    <tr>\n",
       "      <th>0</th>\n",
       "      <td>PP0300</td>\n",
       "      <td>PP01000633003</td>\n",
       "      <td>3.531960e+15</td>\n",
       "      <td>01/01/2022 00:00</td>\n",
       "      <td>2002.68</td>\n",
       "      <td>810.58</td>\n",
       "      <td>287.60</td>\n",
       "      <td>3100.87</td>\n",
       "    </tr>\n",
       "    <tr>\n",
       "      <th>1</th>\n",
       "      <td>PP0300</td>\n",
       "      <td>PP01000633003</td>\n",
       "      <td>3.531960e+15</td>\n",
       "      <td>01/01/2022 01:00</td>\n",
       "      <td>2002.68</td>\n",
       "      <td>810.58</td>\n",
       "      <td>287.66</td>\n",
       "      <td>3100.93</td>\n",
       "    </tr>\n",
       "    <tr>\n",
       "      <th>2</th>\n",
       "      <td>PP0300</td>\n",
       "      <td>PP01000633003</td>\n",
       "      <td>3.531960e+15</td>\n",
       "      <td>01/01/2022 02:00</td>\n",
       "      <td>2002.68</td>\n",
       "      <td>810.58</td>\n",
       "      <td>287.72</td>\n",
       "      <td>3100.99</td>\n",
       "    </tr>\n",
       "    <tr>\n",
       "      <th>3</th>\n",
       "      <td>PP0300</td>\n",
       "      <td>PP01000633003</td>\n",
       "      <td>3.531960e+15</td>\n",
       "      <td>01/01/2022 03:00</td>\n",
       "      <td>2002.68</td>\n",
       "      <td>810.58</td>\n",
       "      <td>287.77</td>\n",
       "      <td>3101.05</td>\n",
       "    </tr>\n",
       "    <tr>\n",
       "      <th>4</th>\n",
       "      <td>PP0300</td>\n",
       "      <td>PP01000633003</td>\n",
       "      <td>3.531960e+15</td>\n",
       "      <td>01/01/2022 04:00</td>\n",
       "      <td>2002.68</td>\n",
       "      <td>810.58</td>\n",
       "      <td>287.83</td>\n",
       "      <td>3101.11</td>\n",
       "    </tr>\n",
       "  </tbody>\n",
       "</table>\n",
       "</div>"
      ],
      "text/plain": [
       "  ma_dviqly       ma_khang          IMEI              TIME       BT      CD  \\\n",
       "0    PP0300  PP01000633003  3.531960e+15  01/01/2022 00:00  2002.68  810.58   \n",
       "1    PP0300  PP01000633003  3.531960e+15  01/01/2022 01:00  2002.68  810.58   \n",
       "2    PP0300  PP01000633003  3.531960e+15  01/01/2022 02:00  2002.68  810.58   \n",
       "3    PP0300  PP01000633003  3.531960e+15  01/01/2022 03:00  2002.68  810.58   \n",
       "4    PP0300  PP01000633003  3.531960e+15  01/01/2022 04:00  2002.68  810.58   \n",
       "\n",
       "       TD       SG  \n",
       "0  287.60  3100.87  \n",
       "1  287.66  3100.93  \n",
       "2  287.72  3100.99  \n",
       "3  287.77  3101.05  \n",
       "4  287.83  3101.11  "
      ]
     },
     "execution_count": 4,
     "metadata": {},
     "output_type": "execute_result"
    }
   ],
   "source": [
    "df_2022 = pd.read_csv(\"2022.csv\", header=None)\n",
    "df_2022.rename(columns=dict(zip(df_2022.columns, temp_df.columns)), inplace=True)\n",
    "df_2022.head()"
   ]
  },
  {
   "cell_type": "code",
   "execution_count": 5,
   "metadata": {},
   "outputs": [
    {
     "name": "stdout",
     "output_type": "stream",
     "text": [
      "<class 'pandas.core.frame.DataFrame'>\n",
      "RangeIndex: 8499 entries, 0 to 8498\n",
      "Data columns (total 8 columns):\n",
      " #   Column     Non-Null Count  Dtype  \n",
      "---  ------     --------------  -----  \n",
      " 0   ma_dviqly  8499 non-null   object \n",
      " 1   ma_khang   8499 non-null   object \n",
      " 2   IMEI       8499 non-null   float64\n",
      " 3   TIME       8499 non-null   object \n",
      " 4   BT         8499 non-null   float64\n",
      " 5   CD         8499 non-null   float64\n",
      " 6   TD         8499 non-null   float64\n",
      " 7   SG         8499 non-null   float64\n",
      "dtypes: float64(5), object(3)\n",
      "memory usage: 531.3+ KB\n"
     ]
    }
   ],
   "source": [
    "df_2022.info()"
   ]
  },
  {
   "cell_type": "markdown",
   "metadata": {},
   "source": [
    "Lấy dữ liệu năm 2023, 2034 cho temp_df"
   ]
  },
  {
   "cell_type": "code",
   "execution_count": 6,
   "metadata": {},
   "outputs": [
    {
     "data": {
      "text/html": [
       "<div>\n",
       "<style scoped>\n",
       "    .dataframe tbody tr th:only-of-type {\n",
       "        vertical-align: middle;\n",
       "    }\n",
       "\n",
       "    .dataframe tbody tr th {\n",
       "        vertical-align: top;\n",
       "    }\n",
       "\n",
       "    .dataframe thead th {\n",
       "        text-align: right;\n",
       "    }\n",
       "</style>\n",
       "<table border=\"1\" class=\"dataframe\">\n",
       "  <thead>\n",
       "    <tr style=\"text-align: right;\">\n",
       "      <th></th>\n",
       "      <th>ma_dviqly</th>\n",
       "      <th>ma_khang</th>\n",
       "      <th>IMEI</th>\n",
       "      <th>TIME</th>\n",
       "      <th>BT</th>\n",
       "      <th>CD</th>\n",
       "      <th>TD</th>\n",
       "      <th>SG</th>\n",
       "      <th>Year</th>\n",
       "    </tr>\n",
       "  </thead>\n",
       "  <tbody>\n",
       "    <tr>\n",
       "      <th>4018</th>\n",
       "      <td>PP0100</td>\n",
       "      <td>PP01000633003</td>\n",
       "      <td>3.531960e+15</td>\n",
       "      <td>2023-01-01 00:00:00</td>\n",
       "      <td>2922.84</td>\n",
       "      <td>1170.45</td>\n",
       "      <td>414.95</td>\n",
       "      <td>4508.25</td>\n",
       "      <td>2023</td>\n",
       "    </tr>\n",
       "    <tr>\n",
       "      <th>4019</th>\n",
       "      <td>PP0100</td>\n",
       "      <td>PP01000633003</td>\n",
       "      <td>3.531960e+15</td>\n",
       "      <td>2023-01-01 01:00:00</td>\n",
       "      <td>2922.84</td>\n",
       "      <td>1170.45</td>\n",
       "      <td>414.99</td>\n",
       "      <td>4508.29</td>\n",
       "      <td>2023</td>\n",
       "    </tr>\n",
       "    <tr>\n",
       "      <th>4020</th>\n",
       "      <td>PP0100</td>\n",
       "      <td>PP01000633003</td>\n",
       "      <td>3.531960e+15</td>\n",
       "      <td>2023-01-01 02:00:00</td>\n",
       "      <td>2922.84</td>\n",
       "      <td>1170.45</td>\n",
       "      <td>415.03</td>\n",
       "      <td>4508.34</td>\n",
       "      <td>2023</td>\n",
       "    </tr>\n",
       "    <tr>\n",
       "      <th>4021</th>\n",
       "      <td>PP0100</td>\n",
       "      <td>PP01000633003</td>\n",
       "      <td>3.531960e+15</td>\n",
       "      <td>2023-01-01 03:00:00</td>\n",
       "      <td>2922.84</td>\n",
       "      <td>1170.45</td>\n",
       "      <td>415.08</td>\n",
       "      <td>4508.38</td>\n",
       "      <td>2023</td>\n",
       "    </tr>\n",
       "    <tr>\n",
       "      <th>4022</th>\n",
       "      <td>PP0100</td>\n",
       "      <td>PP01000633003</td>\n",
       "      <td>3.531960e+15</td>\n",
       "      <td>2023-01-01 04:00:00</td>\n",
       "      <td>2922.84</td>\n",
       "      <td>1170.45</td>\n",
       "      <td>415.12</td>\n",
       "      <td>4508.42</td>\n",
       "      <td>2023</td>\n",
       "    </tr>\n",
       "  </tbody>\n",
       "</table>\n",
       "</div>"
      ],
      "text/plain": [
       "     ma_dviqly       ma_khang          IMEI                TIME       BT  \\\n",
       "4018    PP0100  PP01000633003  3.531960e+15 2023-01-01 00:00:00  2922.84   \n",
       "4019    PP0100  PP01000633003  3.531960e+15 2023-01-01 01:00:00  2922.84   \n",
       "4020    PP0100  PP01000633003  3.531960e+15 2023-01-01 02:00:00  2922.84   \n",
       "4021    PP0100  PP01000633003  3.531960e+15 2023-01-01 03:00:00  2922.84   \n",
       "4022    PP0100  PP01000633003  3.531960e+15 2023-01-01 04:00:00  2922.84   \n",
       "\n",
       "           CD      TD       SG  Year  \n",
       "4018  1170.45  414.95  4508.25  2023  \n",
       "4019  1170.45  414.99  4508.29  2023  \n",
       "4020  1170.45  415.03  4508.34  2023  \n",
       "4021  1170.45  415.08  4508.38  2023  \n",
       "4022  1170.45  415.12  4508.42  2023  "
      ]
     },
     "execution_count": 6,
     "metadata": {},
     "output_type": "execute_result"
    }
   ],
   "source": [
    "temp_df['TIME'] = pd.to_datetime(temp_df['TIME'], format='%d/%m/%Y %H:%M')\n",
    "temp_df['Year'] = temp_df['TIME'].dt.year\n",
    "temp_df = temp_df[temp_df[\"Year\"] != 2022]\n",
    "temp_df.head()"
   ]
  },
  {
   "cell_type": "code",
   "execution_count": 7,
   "metadata": {},
   "outputs": [
    {
     "data": {
      "text/html": [
       "<div>\n",
       "<style scoped>\n",
       "    .dataframe tbody tr th:only-of-type {\n",
       "        vertical-align: middle;\n",
       "    }\n",
       "\n",
       "    .dataframe tbody tr th {\n",
       "        vertical-align: top;\n",
       "    }\n",
       "\n",
       "    .dataframe thead th {\n",
       "        text-align: right;\n",
       "    }\n",
       "</style>\n",
       "<table border=\"1\" class=\"dataframe\">\n",
       "  <thead>\n",
       "    <tr style=\"text-align: right;\">\n",
       "      <th></th>\n",
       "      <th>ma_dviqly</th>\n",
       "      <th>ma_khang</th>\n",
       "      <th>IMEI</th>\n",
       "      <th>TIME</th>\n",
       "      <th>BT</th>\n",
       "      <th>CD</th>\n",
       "      <th>TD</th>\n",
       "      <th>SG</th>\n",
       "    </tr>\n",
       "  </thead>\n",
       "  <tbody>\n",
       "    <tr>\n",
       "      <th>4018</th>\n",
       "      <td>PP0100</td>\n",
       "      <td>PP01000633003</td>\n",
       "      <td>3.531960e+15</td>\n",
       "      <td>2023-01-01 00:00:00</td>\n",
       "      <td>2922.84</td>\n",
       "      <td>1170.45</td>\n",
       "      <td>414.95</td>\n",
       "      <td>4508.25</td>\n",
       "    </tr>\n",
       "    <tr>\n",
       "      <th>4019</th>\n",
       "      <td>PP0100</td>\n",
       "      <td>PP01000633003</td>\n",
       "      <td>3.531960e+15</td>\n",
       "      <td>2023-01-01 01:00:00</td>\n",
       "      <td>2922.84</td>\n",
       "      <td>1170.45</td>\n",
       "      <td>414.99</td>\n",
       "      <td>4508.29</td>\n",
       "    </tr>\n",
       "    <tr>\n",
       "      <th>4020</th>\n",
       "      <td>PP0100</td>\n",
       "      <td>PP01000633003</td>\n",
       "      <td>3.531960e+15</td>\n",
       "      <td>2023-01-01 02:00:00</td>\n",
       "      <td>2922.84</td>\n",
       "      <td>1170.45</td>\n",
       "      <td>415.03</td>\n",
       "      <td>4508.34</td>\n",
       "    </tr>\n",
       "    <tr>\n",
       "      <th>4021</th>\n",
       "      <td>PP0100</td>\n",
       "      <td>PP01000633003</td>\n",
       "      <td>3.531960e+15</td>\n",
       "      <td>2023-01-01 03:00:00</td>\n",
       "      <td>2922.84</td>\n",
       "      <td>1170.45</td>\n",
       "      <td>415.08</td>\n",
       "      <td>4508.38</td>\n",
       "    </tr>\n",
       "    <tr>\n",
       "      <th>4022</th>\n",
       "      <td>PP0100</td>\n",
       "      <td>PP01000633003</td>\n",
       "      <td>3.531960e+15</td>\n",
       "      <td>2023-01-01 04:00:00</td>\n",
       "      <td>2922.84</td>\n",
       "      <td>1170.45</td>\n",
       "      <td>415.12</td>\n",
       "      <td>4508.42</td>\n",
       "    </tr>\n",
       "  </tbody>\n",
       "</table>\n",
       "</div>"
      ],
      "text/plain": [
       "     ma_dviqly       ma_khang          IMEI                TIME       BT  \\\n",
       "4018    PP0100  PP01000633003  3.531960e+15 2023-01-01 00:00:00  2922.84   \n",
       "4019    PP0100  PP01000633003  3.531960e+15 2023-01-01 01:00:00  2922.84   \n",
       "4020    PP0100  PP01000633003  3.531960e+15 2023-01-01 02:00:00  2922.84   \n",
       "4021    PP0100  PP01000633003  3.531960e+15 2023-01-01 03:00:00  2922.84   \n",
       "4022    PP0100  PP01000633003  3.531960e+15 2023-01-01 04:00:00  2922.84   \n",
       "\n",
       "           CD      TD       SG  \n",
       "4018  1170.45  414.95  4508.25  \n",
       "4019  1170.45  414.99  4508.29  \n",
       "4020  1170.45  415.03  4508.34  \n",
       "4021  1170.45  415.08  4508.38  \n",
       "4022  1170.45  415.12  4508.42  "
      ]
     },
     "execution_count": 7,
     "metadata": {},
     "output_type": "execute_result"
    }
   ],
   "source": [
    "temp_df.drop(labels=['Year'], axis='columns', inplace=True)\n",
    "temp_df.head()"
   ]
  },
  {
   "cell_type": "markdown",
   "metadata": {},
   "source": [
    "Gộp temp_df và df_2022 lại thành df_full"
   ]
  },
  {
   "cell_type": "code",
   "execution_count": 8,
   "metadata": {},
   "outputs": [],
   "source": [
    "df_full = pd.concat([df_2022, temp_df])"
   ]
  },
  {
   "cell_type": "markdown",
   "metadata": {},
   "source": [
    "#### KHẢO SÁT SƠ BỘ DỮ LIỆU"
   ]
  },
  {
   "cell_type": "code",
   "execution_count": 9,
   "metadata": {},
   "outputs": [
    {
     "name": "stdout",
     "output_type": "stream",
     "text": [
      "<class 'pandas.core.frame.DataFrame'>\n",
      "Index: 19437 entries, 0 to 14955\n",
      "Data columns (total 8 columns):\n",
      " #   Column     Non-Null Count  Dtype  \n",
      "---  ------     --------------  -----  \n",
      " 0   ma_dviqly  19437 non-null  object \n",
      " 1   ma_khang   19437 non-null  object \n",
      " 2   IMEI       19437 non-null  float64\n",
      " 3   TIME       19437 non-null  object \n",
      " 4   BT         19437 non-null  float64\n",
      " 5   CD         19437 non-null  float64\n",
      " 6   TD         19437 non-null  float64\n",
      " 7   SG         19437 non-null  float64\n",
      "dtypes: float64(5), object(3)\n",
      "memory usage: 1.3+ MB\n"
     ]
    }
   ],
   "source": [
    "df_full.info()"
   ]
  },
  {
   "cell_type": "code",
   "execution_count": 10,
   "metadata": {},
   "outputs": [
    {
     "data": {
      "text/plain": [
       "array(['PP0300', 'PP0100'], dtype=object)"
      ]
     },
     "execution_count": 10,
     "metadata": {},
     "output_type": "execute_result"
    }
   ],
   "source": [
    "df_full['ma_dviqly'].unique()"
   ]
  },
  {
   "cell_type": "code",
   "execution_count": 11,
   "metadata": {},
   "outputs": [
    {
     "data": {
      "text/plain": [
       "array(['PP01000633003'], dtype=object)"
      ]
     },
     "execution_count": 11,
     "metadata": {},
     "output_type": "execute_result"
    }
   ],
   "source": [
    "df_full['ma_khang'].unique()"
   ]
  },
  {
   "cell_type": "code",
   "execution_count": 12,
   "metadata": {},
   "outputs": [
    {
     "data": {
      "text/plain": [
       "array([3.53196e+15])"
      ]
     },
     "execution_count": 12,
     "metadata": {},
     "output_type": "execute_result"
    }
   ],
   "source": [
    "df_full['IMEI'].unique()"
   ]
  },
  {
   "cell_type": "code",
   "execution_count": 13,
   "metadata": {},
   "outputs": [],
   "source": [
    "def check_sum(bt, cd, td, sg):\n",
    "    return sg - (bt + cd + td)"
   ]
  },
  {
   "cell_type": "code",
   "execution_count": 14,
   "metadata": {},
   "outputs": [
    {
     "data": {
      "text/html": [
       "<div>\n",
       "<style scoped>\n",
       "    .dataframe tbody tr th:only-of-type {\n",
       "        vertical-align: middle;\n",
       "    }\n",
       "\n",
       "    .dataframe tbody tr th {\n",
       "        vertical-align: top;\n",
       "    }\n",
       "\n",
       "    .dataframe thead th {\n",
       "        text-align: right;\n",
       "    }\n",
       "</style>\n",
       "<table border=\"1\" class=\"dataframe\">\n",
       "  <thead>\n",
       "    <tr style=\"text-align: right;\">\n",
       "      <th></th>\n",
       "      <th>ma_dviqly</th>\n",
       "      <th>ma_khang</th>\n",
       "      <th>IMEI</th>\n",
       "      <th>TIME</th>\n",
       "      <th>BT</th>\n",
       "      <th>CD</th>\n",
       "      <th>TD</th>\n",
       "      <th>SG</th>\n",
       "      <th>check_sum</th>\n",
       "    </tr>\n",
       "  </thead>\n",
       "  <tbody>\n",
       "    <tr>\n",
       "      <th>0</th>\n",
       "      <td>PP0300</td>\n",
       "      <td>PP01000633003</td>\n",
       "      <td>3.531960e+15</td>\n",
       "      <td>01/01/2022 00:00</td>\n",
       "      <td>2002.68</td>\n",
       "      <td>810.58</td>\n",
       "      <td>287.60</td>\n",
       "      <td>3100.87</td>\n",
       "      <td>0.01</td>\n",
       "    </tr>\n",
       "    <tr>\n",
       "      <th>1</th>\n",
       "      <td>PP0300</td>\n",
       "      <td>PP01000633003</td>\n",
       "      <td>3.531960e+15</td>\n",
       "      <td>01/01/2022 01:00</td>\n",
       "      <td>2002.68</td>\n",
       "      <td>810.58</td>\n",
       "      <td>287.66</td>\n",
       "      <td>3100.93</td>\n",
       "      <td>0.01</td>\n",
       "    </tr>\n",
       "    <tr>\n",
       "      <th>2</th>\n",
       "      <td>PP0300</td>\n",
       "      <td>PP01000633003</td>\n",
       "      <td>3.531960e+15</td>\n",
       "      <td>01/01/2022 02:00</td>\n",
       "      <td>2002.68</td>\n",
       "      <td>810.58</td>\n",
       "      <td>287.72</td>\n",
       "      <td>3100.99</td>\n",
       "      <td>0.01</td>\n",
       "    </tr>\n",
       "    <tr>\n",
       "      <th>3</th>\n",
       "      <td>PP0300</td>\n",
       "      <td>PP01000633003</td>\n",
       "      <td>3.531960e+15</td>\n",
       "      <td>01/01/2022 03:00</td>\n",
       "      <td>2002.68</td>\n",
       "      <td>810.58</td>\n",
       "      <td>287.77</td>\n",
       "      <td>3101.05</td>\n",
       "      <td>0.02</td>\n",
       "    </tr>\n",
       "    <tr>\n",
       "      <th>4</th>\n",
       "      <td>PP0300</td>\n",
       "      <td>PP01000633003</td>\n",
       "      <td>3.531960e+15</td>\n",
       "      <td>01/01/2022 04:00</td>\n",
       "      <td>2002.68</td>\n",
       "      <td>810.58</td>\n",
       "      <td>287.83</td>\n",
       "      <td>3101.11</td>\n",
       "      <td>0.02</td>\n",
       "    </tr>\n",
       "  </tbody>\n",
       "</table>\n",
       "</div>"
      ],
      "text/plain": [
       "  ma_dviqly       ma_khang          IMEI              TIME       BT      CD  \\\n",
       "0    PP0300  PP01000633003  3.531960e+15  01/01/2022 00:00  2002.68  810.58   \n",
       "1    PP0300  PP01000633003  3.531960e+15  01/01/2022 01:00  2002.68  810.58   \n",
       "2    PP0300  PP01000633003  3.531960e+15  01/01/2022 02:00  2002.68  810.58   \n",
       "3    PP0300  PP01000633003  3.531960e+15  01/01/2022 03:00  2002.68  810.58   \n",
       "4    PP0300  PP01000633003  3.531960e+15  01/01/2022 04:00  2002.68  810.58   \n",
       "\n",
       "       TD       SG  check_sum  \n",
       "0  287.60  3100.87       0.01  \n",
       "1  287.66  3100.93       0.01  \n",
       "2  287.72  3100.99       0.01  \n",
       "3  287.77  3101.05       0.02  \n",
       "4  287.83  3101.11       0.02  "
      ]
     },
     "execution_count": 14,
     "metadata": {},
     "output_type": "execute_result"
    }
   ],
   "source": [
    "df_full['check_sum'] = np.vectorize(check_sum)(df_full['BT'], df_full['CD'], df_full['TD'], df_full['SG'])\n",
    "df_full.head()"
   ]
  },
  {
   "cell_type": "code",
   "execution_count": 15,
   "metadata": {},
   "outputs": [
    {
     "data": {
      "text/html": [
       "<div>\n",
       "<style scoped>\n",
       "    .dataframe tbody tr th:only-of-type {\n",
       "        vertical-align: middle;\n",
       "    }\n",
       "\n",
       "    .dataframe tbody tr th {\n",
       "        vertical-align: top;\n",
       "    }\n",
       "\n",
       "    .dataframe thead th {\n",
       "        text-align: right;\n",
       "    }\n",
       "</style>\n",
       "<table border=\"1\" class=\"dataframe\">\n",
       "  <thead>\n",
       "    <tr style=\"text-align: right;\">\n",
       "      <th></th>\n",
       "      <th>ma_dviqly</th>\n",
       "      <th>ma_khang</th>\n",
       "      <th>IMEI</th>\n",
       "      <th>TIME</th>\n",
       "      <th>BT</th>\n",
       "      <th>CD</th>\n",
       "      <th>TD</th>\n",
       "      <th>SG</th>\n",
       "      <th>check_sum</th>\n",
       "    </tr>\n",
       "  </thead>\n",
       "  <tbody>\n",
       "    <tr>\n",
       "      <th>0</th>\n",
       "      <td>PP0300</td>\n",
       "      <td>PP01000633003</td>\n",
       "      <td>3.531960e+15</td>\n",
       "      <td>01/01/2022 00:00</td>\n",
       "      <td>2002.68</td>\n",
       "      <td>810.58</td>\n",
       "      <td>287.60</td>\n",
       "      <td>3100.87</td>\n",
       "      <td>1.000000e-02</td>\n",
       "    </tr>\n",
       "    <tr>\n",
       "      <th>1</th>\n",
       "      <td>PP0300</td>\n",
       "      <td>PP01000633003</td>\n",
       "      <td>3.531960e+15</td>\n",
       "      <td>01/01/2022 01:00</td>\n",
       "      <td>2002.68</td>\n",
       "      <td>810.58</td>\n",
       "      <td>287.66</td>\n",
       "      <td>3100.93</td>\n",
       "      <td>1.000000e-02</td>\n",
       "    </tr>\n",
       "    <tr>\n",
       "      <th>2</th>\n",
       "      <td>PP0300</td>\n",
       "      <td>PP01000633003</td>\n",
       "      <td>3.531960e+15</td>\n",
       "      <td>01/01/2022 02:00</td>\n",
       "      <td>2002.68</td>\n",
       "      <td>810.58</td>\n",
       "      <td>287.72</td>\n",
       "      <td>3100.99</td>\n",
       "      <td>1.000000e-02</td>\n",
       "    </tr>\n",
       "    <tr>\n",
       "      <th>3</th>\n",
       "      <td>PP0300</td>\n",
       "      <td>PP01000633003</td>\n",
       "      <td>3.531960e+15</td>\n",
       "      <td>01/01/2022 03:00</td>\n",
       "      <td>2002.68</td>\n",
       "      <td>810.58</td>\n",
       "      <td>287.77</td>\n",
       "      <td>3101.05</td>\n",
       "      <td>2.000000e-02</td>\n",
       "    </tr>\n",
       "    <tr>\n",
       "      <th>4</th>\n",
       "      <td>PP0300</td>\n",
       "      <td>PP01000633003</td>\n",
       "      <td>3.531960e+15</td>\n",
       "      <td>01/01/2022 04:00</td>\n",
       "      <td>2002.68</td>\n",
       "      <td>810.58</td>\n",
       "      <td>287.83</td>\n",
       "      <td>3101.11</td>\n",
       "      <td>2.000000e-02</td>\n",
       "    </tr>\n",
       "    <tr>\n",
       "      <th>...</th>\n",
       "      <td>...</td>\n",
       "      <td>...</td>\n",
       "      <td>...</td>\n",
       "      <td>...</td>\n",
       "      <td>...</td>\n",
       "      <td>...</td>\n",
       "      <td>...</td>\n",
       "      <td>...</td>\n",
       "      <td>...</td>\n",
       "    </tr>\n",
       "    <tr>\n",
       "      <th>14951</th>\n",
       "      <td>PP0100</td>\n",
       "      <td>PP01000633003</td>\n",
       "      <td>3.531960e+15</td>\n",
       "      <td>2024-07-08 19:00:00</td>\n",
       "      <td>987.20</td>\n",
       "      <td>388.60</td>\n",
       "      <td>135.41</td>\n",
       "      <td>1511.21</td>\n",
       "      <td>-2.273737e-13</td>\n",
       "    </tr>\n",
       "    <tr>\n",
       "      <th>14952</th>\n",
       "      <td>PP0100</td>\n",
       "      <td>PP01000633003</td>\n",
       "      <td>3.531960e+15</td>\n",
       "      <td>2024-07-08 20:00:00</td>\n",
       "      <td>987.20</td>\n",
       "      <td>388.72</td>\n",
       "      <td>135.41</td>\n",
       "      <td>1511.33</td>\n",
       "      <td>-2.273737e-13</td>\n",
       "    </tr>\n",
       "    <tr>\n",
       "      <th>14953</th>\n",
       "      <td>PP0100</td>\n",
       "      <td>PP01000633003</td>\n",
       "      <td>3.531960e+15</td>\n",
       "      <td>2024-07-08 21:00:00</td>\n",
       "      <td>987.29</td>\n",
       "      <td>388.72</td>\n",
       "      <td>135.41</td>\n",
       "      <td>1511.43</td>\n",
       "      <td>1.000000e-02</td>\n",
       "    </tr>\n",
       "    <tr>\n",
       "      <th>14954</th>\n",
       "      <td>PP0100</td>\n",
       "      <td>PP01000633003</td>\n",
       "      <td>3.531960e+15</td>\n",
       "      <td>2024-07-08 22:00:00</td>\n",
       "      <td>987.38</td>\n",
       "      <td>388.72</td>\n",
       "      <td>135.41</td>\n",
       "      <td>1511.52</td>\n",
       "      <td>1.000000e-02</td>\n",
       "    </tr>\n",
       "    <tr>\n",
       "      <th>14955</th>\n",
       "      <td>PP0100</td>\n",
       "      <td>PP01000633003</td>\n",
       "      <td>3.531960e+15</td>\n",
       "      <td>2024-07-08 23:00:00</td>\n",
       "      <td>987.38</td>\n",
       "      <td>388.72</td>\n",
       "      <td>135.49</td>\n",
       "      <td>1511.60</td>\n",
       "      <td>1.000000e-02</td>\n",
       "    </tr>\n",
       "  </tbody>\n",
       "</table>\n",
       "<p>17024 rows × 9 columns</p>\n",
       "</div>"
      ],
      "text/plain": [
       "      ma_dviqly       ma_khang          IMEI                 TIME       BT  \\\n",
       "0        PP0300  PP01000633003  3.531960e+15     01/01/2022 00:00  2002.68   \n",
       "1        PP0300  PP01000633003  3.531960e+15     01/01/2022 01:00  2002.68   \n",
       "2        PP0300  PP01000633003  3.531960e+15     01/01/2022 02:00  2002.68   \n",
       "3        PP0300  PP01000633003  3.531960e+15     01/01/2022 03:00  2002.68   \n",
       "4        PP0300  PP01000633003  3.531960e+15     01/01/2022 04:00  2002.68   \n",
       "...         ...            ...           ...                  ...      ...   \n",
       "14951    PP0100  PP01000633003  3.531960e+15  2024-07-08 19:00:00   987.20   \n",
       "14952    PP0100  PP01000633003  3.531960e+15  2024-07-08 20:00:00   987.20   \n",
       "14953    PP0100  PP01000633003  3.531960e+15  2024-07-08 21:00:00   987.29   \n",
       "14954    PP0100  PP01000633003  3.531960e+15  2024-07-08 22:00:00   987.38   \n",
       "14955    PP0100  PP01000633003  3.531960e+15  2024-07-08 23:00:00   987.38   \n",
       "\n",
       "           CD      TD       SG     check_sum  \n",
       "0      810.58  287.60  3100.87  1.000000e-02  \n",
       "1      810.58  287.66  3100.93  1.000000e-02  \n",
       "2      810.58  287.72  3100.99  1.000000e-02  \n",
       "3      810.58  287.77  3101.05  2.000000e-02  \n",
       "4      810.58  287.83  3101.11  2.000000e-02  \n",
       "...       ...     ...      ...           ...  \n",
       "14951  388.60  135.41  1511.21 -2.273737e-13  \n",
       "14952  388.72  135.41  1511.33 -2.273737e-13  \n",
       "14953  388.72  135.41  1511.43  1.000000e-02  \n",
       "14954  388.72  135.41  1511.52  1.000000e-02  \n",
       "14955  388.72  135.49  1511.60  1.000000e-02  \n",
       "\n",
       "[17024 rows x 9 columns]"
      ]
     },
     "execution_count": 15,
     "metadata": {},
     "output_type": "execute_result"
    }
   ],
   "source": [
    "df_full[df_full['check_sum'] !=0]"
   ]
  },
  {
   "cell_type": "markdown",
   "metadata": {},
   "source": [
    "##### Nhận xét\n",
    "- 2 cột ma_khang, IMEI Chỉ có dữ liệu cho 1 khách hàng -> chính xác\n",
    "- cột ma_dviqly lại có 2 giá trị -> có sự thay đổi trong dữ liệu, ko qtrong\n",
    "- Dữ liệu cột TIME đang ở dạng ngày tháng năm giờ -> cần xử lý thêm để phù hợp với bài toán dự đoán theo tháng\n",
    "- 3 cột BT, CD, TD là chỉ số của công tơ 3 pha, cột SG là tổng của 3 cột này, nhưng vì trong quá trình cộng chưa rõ vì sao mà có sai số (cột check_sum) nên sẽ xử lí cộng lại 3 cột"
   ]
  },
  {
   "cell_type": "markdown",
   "metadata": {},
   "source": [
    "#### KHẢO SÁT TÍNH LIÊN TỤC VỀ THỜI GIAN CỦA DỮ LIỆU"
   ]
  },
  {
   "cell_type": "markdown",
   "metadata": {},
   "source": [
    "Chuyển cột TIME về dạng datetime"
   ]
  },
  {
   "cell_type": "code",
   "execution_count": 16,
   "metadata": {},
   "outputs": [],
   "source": [
    "df_full['TIME'] = pd.to_datetime(df_full['TIME'], format='%d/%m/%Y %H:%M')"
   ]
  },
  {
   "cell_type": "markdown",
   "metadata": {},
   "source": [
    "Ngày bắt đầu"
   ]
  },
  {
   "cell_type": "code",
   "execution_count": 17,
   "metadata": {},
   "outputs": [
    {
     "name": "stdout",
     "output_type": "stream",
     "text": [
      "2022-01-01\n"
     ]
    }
   ],
   "source": [
    "start_date = df_full['TIME'].min().date()\n",
    "print(start_date)"
   ]
  },
  {
   "cell_type": "markdown",
   "metadata": {},
   "source": [
    "Ngày cuối cùng"
   ]
  },
  {
   "cell_type": "code",
   "execution_count": 18,
   "metadata": {},
   "outputs": [
    {
     "name": "stdout",
     "output_type": "stream",
     "text": [
      "2024-07-08\n"
     ]
    }
   ],
   "source": [
    "end_date = df_full['TIME'].max().date()\n",
    "print(end_date)"
   ]
  },
  {
   "cell_type": "markdown",
   "metadata": {},
   "source": [
    "Khoảng cách"
   ]
  },
  {
   "cell_type": "code",
   "execution_count": 19,
   "metadata": {},
   "outputs": [
    {
     "data": {
      "text/plain": [
       "datetime.timedelta(days=919)"
      ]
     },
     "execution_count": 19,
     "metadata": {},
     "output_type": "execute_result"
    }
   ],
   "source": [
    "date_diff = end_date - start_date \n",
    "date_diff"
   ]
  },
  {
   "cell_type": "markdown",
   "metadata": {},
   "source": [
    "=> Số lượng ngày cần có: 920"
   ]
  },
  {
   "cell_type": "markdown",
   "metadata": {},
   "source": [
    "Tạo một cột chỉ chứa thông tin ngày tháng năm"
   ]
  },
  {
   "cell_type": "code",
   "execution_count": 20,
   "metadata": {},
   "outputs": [],
   "source": [
    "df_full['date'] =  df_full['TIME'].dt.date"
   ]
  },
  {
   "cell_type": "code",
   "execution_count": 21,
   "metadata": {},
   "outputs": [
    {
     "data": {
      "text/html": [
       "<div>\n",
       "<style scoped>\n",
       "    .dataframe tbody tr th:only-of-type {\n",
       "        vertical-align: middle;\n",
       "    }\n",
       "\n",
       "    .dataframe tbody tr th {\n",
       "        vertical-align: top;\n",
       "    }\n",
       "\n",
       "    .dataframe thead th {\n",
       "        text-align: right;\n",
       "    }\n",
       "</style>\n",
       "<table border=\"1\" class=\"dataframe\">\n",
       "  <thead>\n",
       "    <tr style=\"text-align: right;\">\n",
       "      <th></th>\n",
       "      <th>ma_dviqly</th>\n",
       "      <th>ma_khang</th>\n",
       "      <th>IMEI</th>\n",
       "      <th>TIME</th>\n",
       "      <th>BT</th>\n",
       "      <th>CD</th>\n",
       "      <th>TD</th>\n",
       "      <th>SG</th>\n",
       "      <th>check_sum</th>\n",
       "      <th>date</th>\n",
       "    </tr>\n",
       "  </thead>\n",
       "  <tbody>\n",
       "    <tr>\n",
       "      <th>0</th>\n",
       "      <td>PP0300</td>\n",
       "      <td>PP01000633003</td>\n",
       "      <td>3.531960e+15</td>\n",
       "      <td>2022-01-01 00:00:00</td>\n",
       "      <td>2002.68</td>\n",
       "      <td>810.58</td>\n",
       "      <td>287.60</td>\n",
       "      <td>3100.87</td>\n",
       "      <td>0.01</td>\n",
       "      <td>2022-01-01</td>\n",
       "    </tr>\n",
       "    <tr>\n",
       "      <th>1</th>\n",
       "      <td>PP0300</td>\n",
       "      <td>PP01000633003</td>\n",
       "      <td>3.531960e+15</td>\n",
       "      <td>2022-01-01 01:00:00</td>\n",
       "      <td>2002.68</td>\n",
       "      <td>810.58</td>\n",
       "      <td>287.66</td>\n",
       "      <td>3100.93</td>\n",
       "      <td>0.01</td>\n",
       "      <td>2022-01-01</td>\n",
       "    </tr>\n",
       "    <tr>\n",
       "      <th>2</th>\n",
       "      <td>PP0300</td>\n",
       "      <td>PP01000633003</td>\n",
       "      <td>3.531960e+15</td>\n",
       "      <td>2022-01-01 02:00:00</td>\n",
       "      <td>2002.68</td>\n",
       "      <td>810.58</td>\n",
       "      <td>287.72</td>\n",
       "      <td>3100.99</td>\n",
       "      <td>0.01</td>\n",
       "      <td>2022-01-01</td>\n",
       "    </tr>\n",
       "    <tr>\n",
       "      <th>3</th>\n",
       "      <td>PP0300</td>\n",
       "      <td>PP01000633003</td>\n",
       "      <td>3.531960e+15</td>\n",
       "      <td>2022-01-01 03:00:00</td>\n",
       "      <td>2002.68</td>\n",
       "      <td>810.58</td>\n",
       "      <td>287.77</td>\n",
       "      <td>3101.05</td>\n",
       "      <td>0.02</td>\n",
       "      <td>2022-01-01</td>\n",
       "    </tr>\n",
       "    <tr>\n",
       "      <th>4</th>\n",
       "      <td>PP0300</td>\n",
       "      <td>PP01000633003</td>\n",
       "      <td>3.531960e+15</td>\n",
       "      <td>2022-01-01 04:00:00</td>\n",
       "      <td>2002.68</td>\n",
       "      <td>810.58</td>\n",
       "      <td>287.83</td>\n",
       "      <td>3101.11</td>\n",
       "      <td>0.02</td>\n",
       "      <td>2022-01-01</td>\n",
       "    </tr>\n",
       "  </tbody>\n",
       "</table>\n",
       "</div>"
      ],
      "text/plain": [
       "  ma_dviqly       ma_khang          IMEI                TIME       BT      CD  \\\n",
       "0    PP0300  PP01000633003  3.531960e+15 2022-01-01 00:00:00  2002.68  810.58   \n",
       "1    PP0300  PP01000633003  3.531960e+15 2022-01-01 01:00:00  2002.68  810.58   \n",
       "2    PP0300  PP01000633003  3.531960e+15 2022-01-01 02:00:00  2002.68  810.58   \n",
       "3    PP0300  PP01000633003  3.531960e+15 2022-01-01 03:00:00  2002.68  810.58   \n",
       "4    PP0300  PP01000633003  3.531960e+15 2022-01-01 04:00:00  2002.68  810.58   \n",
       "\n",
       "       TD       SG  check_sum        date  \n",
       "0  287.60  3100.87       0.01  2022-01-01  \n",
       "1  287.66  3100.93       0.01  2022-01-01  \n",
       "2  287.72  3100.99       0.01  2022-01-01  \n",
       "3  287.77  3101.05       0.02  2022-01-01  \n",
       "4  287.83  3101.11       0.02  2022-01-01  "
      ]
     },
     "execution_count": 21,
     "metadata": {},
     "output_type": "execute_result"
    }
   ],
   "source": [
    "df_full.head()"
   ]
  },
  {
   "cell_type": "markdown",
   "metadata": {},
   "source": [
    "Số ngày có trong dữ liệu"
   ]
  },
  {
   "cell_type": "code",
   "execution_count": 22,
   "metadata": {},
   "outputs": [
    {
     "data": {
      "text/plain": [
       "901"
      ]
     },
     "execution_count": 22,
     "metadata": {},
     "output_type": "execute_result"
    }
   ],
   "source": [
    "len(df_full['date'].unique())"
   ]
  },
  {
   "cell_type": "markdown",
   "metadata": {},
   "source": [
    "##### Nhận xét\n",
    "- Dữ liệu bị thiếu không nhiều: chỉ 901/920 ngày"
   ]
  },
  {
   "cell_type": "markdown",
   "metadata": {},
   "source": [
    "#### XỬ LÝ THÊM CỘT TỔNG SẢN LƯỢNG"
   ]
  },
  {
   "cell_type": "code",
   "execution_count": 23,
   "metadata": {},
   "outputs": [
    {
     "data": {
      "text/html": [
       "<div>\n",
       "<style scoped>\n",
       "    .dataframe tbody tr th:only-of-type {\n",
       "        vertical-align: middle;\n",
       "    }\n",
       "\n",
       "    .dataframe tbody tr th {\n",
       "        vertical-align: top;\n",
       "    }\n",
       "\n",
       "    .dataframe thead th {\n",
       "        text-align: right;\n",
       "    }\n",
       "</style>\n",
       "<table border=\"1\" class=\"dataframe\">\n",
       "  <thead>\n",
       "    <tr style=\"text-align: right;\">\n",
       "      <th></th>\n",
       "      <th>ma_dviqly</th>\n",
       "      <th>ma_khang</th>\n",
       "      <th>IMEI</th>\n",
       "      <th>TIME</th>\n",
       "      <th>BT</th>\n",
       "      <th>CD</th>\n",
       "      <th>TD</th>\n",
       "      <th>SG</th>\n",
       "      <th>check_sum</th>\n",
       "      <th>date</th>\n",
       "      <th>total_usage</th>\n",
       "    </tr>\n",
       "  </thead>\n",
       "  <tbody>\n",
       "    <tr>\n",
       "      <th>0</th>\n",
       "      <td>PP0300</td>\n",
       "      <td>PP01000633003</td>\n",
       "      <td>3.531960e+15</td>\n",
       "      <td>2022-01-01 00:00:00</td>\n",
       "      <td>2002.68</td>\n",
       "      <td>810.58</td>\n",
       "      <td>287.60</td>\n",
       "      <td>3100.87</td>\n",
       "      <td>0.01</td>\n",
       "      <td>2022-01-01</td>\n",
       "      <td>3100.86</td>\n",
       "    </tr>\n",
       "    <tr>\n",
       "      <th>1</th>\n",
       "      <td>PP0300</td>\n",
       "      <td>PP01000633003</td>\n",
       "      <td>3.531960e+15</td>\n",
       "      <td>2022-01-01 01:00:00</td>\n",
       "      <td>2002.68</td>\n",
       "      <td>810.58</td>\n",
       "      <td>287.66</td>\n",
       "      <td>3100.93</td>\n",
       "      <td>0.01</td>\n",
       "      <td>2022-01-01</td>\n",
       "      <td>3100.92</td>\n",
       "    </tr>\n",
       "    <tr>\n",
       "      <th>2</th>\n",
       "      <td>PP0300</td>\n",
       "      <td>PP01000633003</td>\n",
       "      <td>3.531960e+15</td>\n",
       "      <td>2022-01-01 02:00:00</td>\n",
       "      <td>2002.68</td>\n",
       "      <td>810.58</td>\n",
       "      <td>287.72</td>\n",
       "      <td>3100.99</td>\n",
       "      <td>0.01</td>\n",
       "      <td>2022-01-01</td>\n",
       "      <td>3100.98</td>\n",
       "    </tr>\n",
       "    <tr>\n",
       "      <th>3</th>\n",
       "      <td>PP0300</td>\n",
       "      <td>PP01000633003</td>\n",
       "      <td>3.531960e+15</td>\n",
       "      <td>2022-01-01 03:00:00</td>\n",
       "      <td>2002.68</td>\n",
       "      <td>810.58</td>\n",
       "      <td>287.77</td>\n",
       "      <td>3101.05</td>\n",
       "      <td>0.02</td>\n",
       "      <td>2022-01-01</td>\n",
       "      <td>3101.03</td>\n",
       "    </tr>\n",
       "    <tr>\n",
       "      <th>4</th>\n",
       "      <td>PP0300</td>\n",
       "      <td>PP01000633003</td>\n",
       "      <td>3.531960e+15</td>\n",
       "      <td>2022-01-01 04:00:00</td>\n",
       "      <td>2002.68</td>\n",
       "      <td>810.58</td>\n",
       "      <td>287.83</td>\n",
       "      <td>3101.11</td>\n",
       "      <td>0.02</td>\n",
       "      <td>2022-01-01</td>\n",
       "      <td>3101.09</td>\n",
       "    </tr>\n",
       "  </tbody>\n",
       "</table>\n",
       "</div>"
      ],
      "text/plain": [
       "  ma_dviqly       ma_khang          IMEI                TIME       BT      CD  \\\n",
       "0    PP0300  PP01000633003  3.531960e+15 2022-01-01 00:00:00  2002.68  810.58   \n",
       "1    PP0300  PP01000633003  3.531960e+15 2022-01-01 01:00:00  2002.68  810.58   \n",
       "2    PP0300  PP01000633003  3.531960e+15 2022-01-01 02:00:00  2002.68  810.58   \n",
       "3    PP0300  PP01000633003  3.531960e+15 2022-01-01 03:00:00  2002.68  810.58   \n",
       "4    PP0300  PP01000633003  3.531960e+15 2022-01-01 04:00:00  2002.68  810.58   \n",
       "\n",
       "       TD       SG  check_sum        date  total_usage  \n",
       "0  287.60  3100.87       0.01  2022-01-01      3100.86  \n",
       "1  287.66  3100.93       0.01  2022-01-01      3100.92  \n",
       "2  287.72  3100.99       0.01  2022-01-01      3100.98  \n",
       "3  287.77  3101.05       0.02  2022-01-01      3101.03  \n",
       "4  287.83  3101.11       0.02  2022-01-01      3101.09  "
      ]
     },
     "execution_count": 23,
     "metadata": {},
     "output_type": "execute_result"
    }
   ],
   "source": [
    "df_full['total_usage'] = df_full['BT'] + df_full['CD'] + df_full['TD']\n",
    "df_full.head()"
   ]
  },
  {
   "cell_type": "markdown",
   "metadata": {},
   "source": [
    "Kiểm tra lại sai số"
   ]
  },
  {
   "cell_type": "code",
   "execution_count": 24,
   "metadata": {},
   "outputs": [
    {
     "data": {
      "text/html": [
       "<div>\n",
       "<style scoped>\n",
       "    .dataframe tbody tr th:only-of-type {\n",
       "        vertical-align: middle;\n",
       "    }\n",
       "\n",
       "    .dataframe tbody tr th {\n",
       "        vertical-align: top;\n",
       "    }\n",
       "\n",
       "    .dataframe thead th {\n",
       "        text-align: right;\n",
       "    }\n",
       "</style>\n",
       "<table border=\"1\" class=\"dataframe\">\n",
       "  <thead>\n",
       "    <tr style=\"text-align: right;\">\n",
       "      <th></th>\n",
       "      <th>ma_dviqly</th>\n",
       "      <th>ma_khang</th>\n",
       "      <th>IMEI</th>\n",
       "      <th>TIME</th>\n",
       "      <th>BT</th>\n",
       "      <th>CD</th>\n",
       "      <th>TD</th>\n",
       "      <th>SG</th>\n",
       "      <th>check_sum</th>\n",
       "      <th>date</th>\n",
       "      <th>total_usage</th>\n",
       "      <th>check_sum2</th>\n",
       "    </tr>\n",
       "  </thead>\n",
       "  <tbody>\n",
       "    <tr>\n",
       "      <th>0</th>\n",
       "      <td>PP0300</td>\n",
       "      <td>PP01000633003</td>\n",
       "      <td>3.531960e+15</td>\n",
       "      <td>2022-01-01 00:00:00</td>\n",
       "      <td>2002.68</td>\n",
       "      <td>810.58</td>\n",
       "      <td>287.60</td>\n",
       "      <td>3100.87</td>\n",
       "      <td>0.01</td>\n",
       "      <td>2022-01-01</td>\n",
       "      <td>3100.86</td>\n",
       "      <td>0.0</td>\n",
       "    </tr>\n",
       "    <tr>\n",
       "      <th>1</th>\n",
       "      <td>PP0300</td>\n",
       "      <td>PP01000633003</td>\n",
       "      <td>3.531960e+15</td>\n",
       "      <td>2022-01-01 01:00:00</td>\n",
       "      <td>2002.68</td>\n",
       "      <td>810.58</td>\n",
       "      <td>287.66</td>\n",
       "      <td>3100.93</td>\n",
       "      <td>0.01</td>\n",
       "      <td>2022-01-01</td>\n",
       "      <td>3100.92</td>\n",
       "      <td>0.0</td>\n",
       "    </tr>\n",
       "    <tr>\n",
       "      <th>2</th>\n",
       "      <td>PP0300</td>\n",
       "      <td>PP01000633003</td>\n",
       "      <td>3.531960e+15</td>\n",
       "      <td>2022-01-01 02:00:00</td>\n",
       "      <td>2002.68</td>\n",
       "      <td>810.58</td>\n",
       "      <td>287.72</td>\n",
       "      <td>3100.99</td>\n",
       "      <td>0.01</td>\n",
       "      <td>2022-01-01</td>\n",
       "      <td>3100.98</td>\n",
       "      <td>0.0</td>\n",
       "    </tr>\n",
       "    <tr>\n",
       "      <th>3</th>\n",
       "      <td>PP0300</td>\n",
       "      <td>PP01000633003</td>\n",
       "      <td>3.531960e+15</td>\n",
       "      <td>2022-01-01 03:00:00</td>\n",
       "      <td>2002.68</td>\n",
       "      <td>810.58</td>\n",
       "      <td>287.77</td>\n",
       "      <td>3101.05</td>\n",
       "      <td>0.02</td>\n",
       "      <td>2022-01-01</td>\n",
       "      <td>3101.03</td>\n",
       "      <td>0.0</td>\n",
       "    </tr>\n",
       "    <tr>\n",
       "      <th>4</th>\n",
       "      <td>PP0300</td>\n",
       "      <td>PP01000633003</td>\n",
       "      <td>3.531960e+15</td>\n",
       "      <td>2022-01-01 04:00:00</td>\n",
       "      <td>2002.68</td>\n",
       "      <td>810.58</td>\n",
       "      <td>287.83</td>\n",
       "      <td>3101.11</td>\n",
       "      <td>0.02</td>\n",
       "      <td>2022-01-01</td>\n",
       "      <td>3101.09</td>\n",
       "      <td>0.0</td>\n",
       "    </tr>\n",
       "  </tbody>\n",
       "</table>\n",
       "</div>"
      ],
      "text/plain": [
       "  ma_dviqly       ma_khang          IMEI                TIME       BT      CD  \\\n",
       "0    PP0300  PP01000633003  3.531960e+15 2022-01-01 00:00:00  2002.68  810.58   \n",
       "1    PP0300  PP01000633003  3.531960e+15 2022-01-01 01:00:00  2002.68  810.58   \n",
       "2    PP0300  PP01000633003  3.531960e+15 2022-01-01 02:00:00  2002.68  810.58   \n",
       "3    PP0300  PP01000633003  3.531960e+15 2022-01-01 03:00:00  2002.68  810.58   \n",
       "4    PP0300  PP01000633003  3.531960e+15 2022-01-01 04:00:00  2002.68  810.58   \n",
       "\n",
       "       TD       SG  check_sum        date  total_usage  check_sum2  \n",
       "0  287.60  3100.87       0.01  2022-01-01      3100.86         0.0  \n",
       "1  287.66  3100.93       0.01  2022-01-01      3100.92         0.0  \n",
       "2  287.72  3100.99       0.01  2022-01-01      3100.98         0.0  \n",
       "3  287.77  3101.05       0.02  2022-01-01      3101.03         0.0  \n",
       "4  287.83  3101.11       0.02  2022-01-01      3101.09         0.0  "
      ]
     },
     "execution_count": 24,
     "metadata": {},
     "output_type": "execute_result"
    }
   ],
   "source": [
    "df_full['check_sum2'] = np.vectorize(check_sum)(df_full['BT'], df_full['CD'], df_full['TD'], df_full['total_usage'])\n",
    "df_full.head()"
   ]
  },
  {
   "cell_type": "code",
   "execution_count": 25,
   "metadata": {},
   "outputs": [
    {
     "data": {
      "text/html": [
       "<div>\n",
       "<style scoped>\n",
       "    .dataframe tbody tr th:only-of-type {\n",
       "        vertical-align: middle;\n",
       "    }\n",
       "\n",
       "    .dataframe tbody tr th {\n",
       "        vertical-align: top;\n",
       "    }\n",
       "\n",
       "    .dataframe thead th {\n",
       "        text-align: right;\n",
       "    }\n",
       "</style>\n",
       "<table border=\"1\" class=\"dataframe\">\n",
       "  <thead>\n",
       "    <tr style=\"text-align: right;\">\n",
       "      <th></th>\n",
       "      <th>ma_dviqly</th>\n",
       "      <th>ma_khang</th>\n",
       "      <th>IMEI</th>\n",
       "      <th>TIME</th>\n",
       "      <th>BT</th>\n",
       "      <th>CD</th>\n",
       "      <th>TD</th>\n",
       "      <th>SG</th>\n",
       "      <th>check_sum</th>\n",
       "      <th>date</th>\n",
       "      <th>total_usage</th>\n",
       "      <th>check_sum2</th>\n",
       "    </tr>\n",
       "  </thead>\n",
       "  <tbody>\n",
       "  </tbody>\n",
       "</table>\n",
       "</div>"
      ],
      "text/plain": [
       "Empty DataFrame\n",
       "Columns: [ma_dviqly, ma_khang, IMEI, TIME, BT, CD, TD, SG, check_sum, date, total_usage, check_sum2]\n",
       "Index: []"
      ]
     },
     "execution_count": 25,
     "metadata": {},
     "output_type": "execute_result"
    }
   ],
   "source": [
    "df_full[df_full['check_sum2'] !=0]"
   ]
  },
  {
   "cell_type": "markdown",
   "metadata": {},
   "source": [
    "##### Nhận xét\n",
    "- Không có sai số, đã xử lý xong\n"
   ]
  },
  {
   "cell_type": "markdown",
   "metadata": {},
   "source": [
    "#### XỬ LÝ DỮ LIỆU THEO GIỜ THÀNH THEO NGÀY\n",
    "- Cách xử lý: group by theo ngày rồi lấy cột max - min cột tổng sản lượng\n",
    "    - Vấn đề: sẽ có những ngày chỉ lấy được dữ liệu lúc 0h -> sản lượng là 0\n",
    "    - Cách giải quyết: với những ngày như vậy, tìm hiệu sản lượng lúc 0h sáng hôm sau và 0h sáng ngày đó\n",
    "- ~~Cách xử lý: lấy sản lượng ở 0h ngày hôm sau trừ cho sản lượng ở 0h ngày hiện tại~~\n",
    "    - Vấn đề: có nhiều ngày ko có dữ liệu lúc 0h hoặc 23h -> gây ra khó khăn khi tính toán"
   ]
  },
  {
   "cell_type": "code",
   "execution_count": 26,
   "metadata": {},
   "outputs": [],
   "source": [
    "def get_total(arr):\n",
    "    return arr.max() - arr.min()\n"
   ]
  },
  {
   "cell_type": "code",
   "execution_count": 27,
   "metadata": {},
   "outputs": [
    {
     "data": {
      "text/html": [
       "<div>\n",
       "<style scoped>\n",
       "    .dataframe tbody tr th:only-of-type {\n",
       "        vertical-align: middle;\n",
       "    }\n",
       "\n",
       "    .dataframe tbody tr th {\n",
       "        vertical-align: top;\n",
       "    }\n",
       "\n",
       "    .dataframe thead th {\n",
       "        text-align: right;\n",
       "    }\n",
       "</style>\n",
       "<table border=\"1\" class=\"dataframe\">\n",
       "  <thead>\n",
       "    <tr style=\"text-align: right;\">\n",
       "      <th></th>\n",
       "      <th>date</th>\n",
       "      <th>total_usage</th>\n",
       "    </tr>\n",
       "  </thead>\n",
       "  <tbody>\n",
       "    <tr>\n",
       "      <th>0</th>\n",
       "      <td>2022-01-01</td>\n",
       "      <td>1.36</td>\n",
       "    </tr>\n",
       "    <tr>\n",
       "      <th>1</th>\n",
       "      <td>2022-01-02</td>\n",
       "      <td>1.07</td>\n",
       "    </tr>\n",
       "    <tr>\n",
       "      <th>2</th>\n",
       "      <td>2022-01-03</td>\n",
       "      <td>1.33</td>\n",
       "    </tr>\n",
       "    <tr>\n",
       "      <th>3</th>\n",
       "      <td>2022-01-04</td>\n",
       "      <td>3.67</td>\n",
       "    </tr>\n",
       "    <tr>\n",
       "      <th>4</th>\n",
       "      <td>2022-01-05</td>\n",
       "      <td>3.81</td>\n",
       "    </tr>\n",
       "  </tbody>\n",
       "</table>\n",
       "</div>"
      ],
      "text/plain": [
       "         date  total_usage\n",
       "0  2022-01-01         1.36\n",
       "1  2022-01-02         1.07\n",
       "2  2022-01-03         1.33\n",
       "3  2022-01-04         3.67\n",
       "4  2022-01-05         3.81"
      ]
     },
     "execution_count": 27,
     "metadata": {},
     "output_type": "execute_result"
    }
   ],
   "source": [
    "total_usage_df = df_full[['date', 'total_usage']].groupby(['date']).agg(get_total).reset_index()\n",
    "total_usage_df.head()"
   ]
  },
  {
   "cell_type": "code",
   "execution_count": 28,
   "metadata": {},
   "outputs": [
    {
     "name": "stdout",
     "output_type": "stream",
     "text": [
      "<class 'pandas.core.frame.DataFrame'>\n",
      "Index: 19437 entries, 0 to 14955\n",
      "Data columns (total 12 columns):\n",
      " #   Column       Non-Null Count  Dtype         \n",
      "---  ------       --------------  -----         \n",
      " 0   ma_dviqly    19437 non-null  object        \n",
      " 1   ma_khang     19437 non-null  object        \n",
      " 2   IMEI         19437 non-null  float64       \n",
      " 3   TIME         19437 non-null  datetime64[ns]\n",
      " 4   BT           19437 non-null  float64       \n",
      " 5   CD           19437 non-null  float64       \n",
      " 6   TD           19437 non-null  float64       \n",
      " 7   SG           19437 non-null  float64       \n",
      " 8   check_sum    19437 non-null  float64       \n",
      " 9   date         19437 non-null  object        \n",
      " 10  total_usage  19437 non-null  float64       \n",
      " 11  check_sum2   19437 non-null  float64       \n",
      "dtypes: datetime64[ns](1), float64(8), object(3)\n",
      "memory usage: 1.9+ MB\n"
     ]
    }
   ],
   "source": [
    "df_full.info()"
   ]
  },
  {
   "cell_type": "markdown",
   "metadata": {},
   "source": [
    "Kiểm tra total_usage_df có giá trị rỗng không"
   ]
  },
  {
   "cell_type": "code",
   "execution_count": 42,
   "metadata": {},
   "outputs": [
    {
     "data": {
      "text/html": [
       "<div>\n",
       "<style scoped>\n",
       "    .dataframe tbody tr th:only-of-type {\n",
       "        vertical-align: middle;\n",
       "    }\n",
       "\n",
       "    .dataframe tbody tr th {\n",
       "        vertical-align: top;\n",
       "    }\n",
       "\n",
       "    .dataframe thead th {\n",
       "        text-align: right;\n",
       "    }\n",
       "</style>\n",
       "<table border=\"1\" class=\"dataframe\">\n",
       "  <thead>\n",
       "    <tr style=\"text-align: right;\">\n",
       "      <th></th>\n",
       "      <th>date</th>\n",
       "      <th>total_usage</th>\n",
       "    </tr>\n",
       "  </thead>\n",
       "  <tbody>\n",
       "  </tbody>\n",
       "</table>\n",
       "</div>"
      ],
      "text/plain": [
       "Empty DataFrame\n",
       "Columns: [date, total_usage]\n",
       "Index: []"
      ]
     },
     "execution_count": 42,
     "metadata": {},
     "output_type": "execute_result"
    }
   ],
   "source": [
    "total_usage_df[total_usage_df['total_usage'].isnull()==True]"
   ]
  },
  {
   "cell_type": "code",
   "execution_count": 43,
   "metadata": {},
   "outputs": [
    {
     "data": {
      "text/html": [
       "<div>\n",
       "<style scoped>\n",
       "    .dataframe tbody tr th:only-of-type {\n",
       "        vertical-align: middle;\n",
       "    }\n",
       "\n",
       "    .dataframe tbody tr th {\n",
       "        vertical-align: top;\n",
       "    }\n",
       "\n",
       "    .dataframe thead th {\n",
       "        text-align: right;\n",
       "    }\n",
       "</style>\n",
       "<table border=\"1\" class=\"dataframe\">\n",
       "  <thead>\n",
       "    <tr style=\"text-align: right;\">\n",
       "      <th></th>\n",
       "      <th>date</th>\n",
       "      <th>total_usage</th>\n",
       "    </tr>\n",
       "  </thead>\n",
       "  <tbody>\n",
       "  </tbody>\n",
       "</table>\n",
       "</div>"
      ],
      "text/plain": [
       "Empty DataFrame\n",
       "Columns: [date, total_usage]\n",
       "Index: []"
      ]
     },
     "execution_count": 43,
     "metadata": {},
     "output_type": "execute_result"
    }
   ],
   "source": [
    "total_usage_df[total_usage_df['total_usage'].isna()==True]"
   ]
  },
  {
   "cell_type": "code",
   "execution_count": 44,
   "metadata": {},
   "outputs": [],
   "source": [
    "total_usage_df['date'] = pd.to_datetime(total_usage_df['date'])"
   ]
  },
  {
   "cell_type": "code",
   "execution_count": 45,
   "metadata": {},
   "outputs": [
    {
     "name": "stdout",
     "output_type": "stream",
     "text": [
      "<class 'pandas.core.frame.DataFrame'>\n",
      "RangeIndex: 901 entries, 0 to 900\n",
      "Data columns (total 2 columns):\n",
      " #   Column       Non-Null Count  Dtype         \n",
      "---  ------       --------------  -----         \n",
      " 0   date         901 non-null    datetime64[ns]\n",
      " 1   total_usage  901 non-null    float64       \n",
      "dtypes: datetime64[ns](1), float64(1)\n",
      "memory usage: 14.2 KB\n"
     ]
    }
   ],
   "source": [
    "total_usage_df.info()"
   ]
  },
  {
   "cell_type": "markdown",
   "metadata": {},
   "source": [
    "##### Nhận xét\n",
    "- Dữ liệu không có null hay na"
   ]
  },
  {
   "cell_type": "markdown",
   "metadata": {},
   "source": [
    " #### TẠO TIME SERIES LIÊN TỤC VỀ THỜI GIAN"
   ]
  },
  {
   "cell_type": "markdown",
   "metadata": {},
   "source": [
    "Tạo dataframe liên tục từ ngày bắt đầu đến ngày kết thúc"
   ]
  },
  {
   "cell_type": "code",
   "execution_count": 46,
   "metadata": {},
   "outputs": [
    {
     "data": {
      "text/plain": [
       "DatetimeIndex(['2022-01-01', '2022-01-02', '2022-01-03', '2022-01-04',\n",
       "               '2022-01-05', '2022-01-06', '2022-01-07', '2022-01-08',\n",
       "               '2022-01-09', '2022-01-10',\n",
       "               ...\n",
       "               '2024-06-29', '2024-06-30', '2024-07-01', '2024-07-02',\n",
       "               '2024-07-03', '2024-07-04', '2024-07-05', '2024-07-06',\n",
       "               '2024-07-07', '2024-07-08'],\n",
       "              dtype='datetime64[ns]', length=920, freq='D')"
      ]
     },
     "execution_count": 46,
     "metadata": {},
     "output_type": "execute_result"
    }
   ],
   "source": [
    "date_range = pd.date_range(start=start_date, end=end_date)\n",
    "date_range"
   ]
  },
  {
   "cell_type": "code",
   "execution_count": 47,
   "metadata": {},
   "outputs": [
    {
     "data": {
      "text/html": [
       "<div>\n",
       "<style scoped>\n",
       "    .dataframe tbody tr th:only-of-type {\n",
       "        vertical-align: middle;\n",
       "    }\n",
       "\n",
       "    .dataframe tbody tr th {\n",
       "        vertical-align: top;\n",
       "    }\n",
       "\n",
       "    .dataframe thead th {\n",
       "        text-align: right;\n",
       "    }\n",
       "</style>\n",
       "<table border=\"1\" class=\"dataframe\">\n",
       "  <thead>\n",
       "    <tr style=\"text-align: right;\">\n",
       "      <th></th>\n",
       "      <th>date</th>\n",
       "    </tr>\n",
       "  </thead>\n",
       "  <tbody>\n",
       "    <tr>\n",
       "      <th>0</th>\n",
       "      <td>2022-01-01</td>\n",
       "    </tr>\n",
       "    <tr>\n",
       "      <th>1</th>\n",
       "      <td>2022-01-02</td>\n",
       "    </tr>\n",
       "    <tr>\n",
       "      <th>2</th>\n",
       "      <td>2022-01-03</td>\n",
       "    </tr>\n",
       "    <tr>\n",
       "      <th>3</th>\n",
       "      <td>2022-01-04</td>\n",
       "    </tr>\n",
       "    <tr>\n",
       "      <th>4</th>\n",
       "      <td>2022-01-05</td>\n",
       "    </tr>\n",
       "  </tbody>\n",
       "</table>\n",
       "</div>"
      ],
      "text/plain": [
       "        date\n",
       "0 2022-01-01\n",
       "1 2022-01-02\n",
       "2 2022-01-03\n",
       "3 2022-01-04\n",
       "4 2022-01-05"
      ]
     },
     "execution_count": 47,
     "metadata": {},
     "output_type": "execute_result"
    }
   ],
   "source": [
    "date_df = pd.DataFrame(date_range, columns=['date'])\n",
    "date_df.head()"
   ]
  },
  {
   "cell_type": "code",
   "execution_count": 48,
   "metadata": {},
   "outputs": [
    {
     "name": "stdout",
     "output_type": "stream",
     "text": [
      "<class 'pandas.core.frame.DataFrame'>\n",
      "RangeIndex: 920 entries, 0 to 919\n",
      "Data columns (total 1 columns):\n",
      " #   Column  Non-Null Count  Dtype         \n",
      "---  ------  --------------  -----         \n",
      " 0   date    920 non-null    datetime64[ns]\n",
      "dtypes: datetime64[ns](1)\n",
      "memory usage: 7.3 KB\n"
     ]
    }
   ],
   "source": [
    "date_df.info()"
   ]
  },
  {
   "cell_type": "code",
   "execution_count": 49,
   "metadata": {},
   "outputs": [],
   "source": [
    "total_usage_df = date_df.merge(right=total_usage_df, how='left', on=\"date\")"
   ]
  },
  {
   "cell_type": "code",
   "execution_count": 50,
   "metadata": {},
   "outputs": [
    {
     "data": {
      "text/html": [
       "<div>\n",
       "<style scoped>\n",
       "    .dataframe tbody tr th:only-of-type {\n",
       "        vertical-align: middle;\n",
       "    }\n",
       "\n",
       "    .dataframe tbody tr th {\n",
       "        vertical-align: top;\n",
       "    }\n",
       "\n",
       "    .dataframe thead th {\n",
       "        text-align: right;\n",
       "    }\n",
       "</style>\n",
       "<table border=\"1\" class=\"dataframe\">\n",
       "  <thead>\n",
       "    <tr style=\"text-align: right;\">\n",
       "      <th></th>\n",
       "      <th>date</th>\n",
       "      <th>total_usage</th>\n",
       "    </tr>\n",
       "  </thead>\n",
       "  <tbody>\n",
       "    <tr>\n",
       "      <th>0</th>\n",
       "      <td>2022-01-01</td>\n",
       "      <td>1.36</td>\n",
       "    </tr>\n",
       "    <tr>\n",
       "      <th>1</th>\n",
       "      <td>2022-01-02</td>\n",
       "      <td>1.07</td>\n",
       "    </tr>\n",
       "    <tr>\n",
       "      <th>2</th>\n",
       "      <td>2022-01-03</td>\n",
       "      <td>1.33</td>\n",
       "    </tr>\n",
       "    <tr>\n",
       "      <th>3</th>\n",
       "      <td>2022-01-04</td>\n",
       "      <td>3.67</td>\n",
       "    </tr>\n",
       "    <tr>\n",
       "      <th>4</th>\n",
       "      <td>2022-01-05</td>\n",
       "      <td>3.81</td>\n",
       "    </tr>\n",
       "  </tbody>\n",
       "</table>\n",
       "</div>"
      ],
      "text/plain": [
       "        date  total_usage\n",
       "0 2022-01-01         1.36\n",
       "1 2022-01-02         1.07\n",
       "2 2022-01-03         1.33\n",
       "3 2022-01-04         3.67\n",
       "4 2022-01-05         3.81"
      ]
     },
     "execution_count": 50,
     "metadata": {},
     "output_type": "execute_result"
    }
   ],
   "source": [
    "total_usage_df.head()"
   ]
  },
  {
   "cell_type": "code",
   "execution_count": 51,
   "metadata": {},
   "outputs": [
    {
     "name": "stdout",
     "output_type": "stream",
     "text": [
      "<class 'pandas.core.frame.DataFrame'>\n",
      "RangeIndex: 920 entries, 0 to 919\n",
      "Data columns (total 2 columns):\n",
      " #   Column       Non-Null Count  Dtype         \n",
      "---  ------       --------------  -----         \n",
      " 0   date         920 non-null    datetime64[ns]\n",
      " 1   total_usage  901 non-null    float64       \n",
      "dtypes: datetime64[ns](1), float64(1)\n",
      "memory usage: 14.5 KB\n"
     ]
    }
   ],
   "source": [
    "total_usage_df.info()"
   ]
  },
  {
   "cell_type": "code",
   "execution_count": 52,
   "metadata": {},
   "outputs": [
    {
     "data": {
      "text/plain": [
       "<Axes: ylabel='total_usage'>"
      ]
     },
     "execution_count": 52,
     "metadata": {},
     "output_type": "execute_result"
    },
    {
     "data": {
      "image/png": "[encoded data removed]",
      "text/plain": [
       "<Figure size 640x480 with 1 Axes>"
      ]
     },
     "metadata": {},
     "output_type": "display_data"
    }
   ],
   "source": [
    "sns.boxplot(data=total_usage_df, y = 'total_usage')"
   ]
  },
  {
   "cell_type": "markdown",
   "metadata": {},
   "source": [
    "##### Nhận xét:\n",
    "- Đã đúng yêu cầu, gồm 920 ngày và 901 ngày có sản lượng, nhưng có những ngày có sản lượng bằng 0, cần phải xử lí"
   ]
  },
  {
   "cell_type": "markdown",
   "metadata": {},
   "source": [
    "#### TẠO DỮ LIỆU NGÀY LỄ"
   ]
  },
  {
   "cell_type": "code",
   "execution_count": 53,
   "metadata": {},
   "outputs": [
    {
     "name": "stdout",
     "output_type": "stream",
     "text": [
      "<class 'pandas.core.frame.DataFrame'>\n",
      "RangeIndex: 41 entries, 0 to 40\n",
      "Data columns (total 3 columns):\n",
      " #   Column        Non-Null Count  Dtype         \n",
      "---  ------        --------------  -----         \n",
      " 0   datetime      41 non-null     datetime64[ns]\n",
      " 1   Holiday Name  41 non-null     object        \n",
      " 2   year          41 non-null     int32         \n",
      "dtypes: datetime64[ns](1), int32(1), object(1)\n",
      "memory usage: 952.0+ bytes\n"
     ]
    }
   ],
   "source": [
    "vietnam_holidays = holidays.Vietnam(years=[2022, 2023, 2024])\n",
    "\n",
    "# Lấy danh sách các ngày lễ\n",
    "holiday_list = list(vietnam_holidays.items())\n",
    "holiday_df = pd.DataFrame(holiday_list, columns=[\"datetime\", 'Holiday Name'])\n",
    "holiday_df['datetime'] = pd.to_datetime(holiday_df['datetime'])\n",
    "holiday_df['year'] = holiday_df['datetime'].dt.year\n",
    "holiday_df.info()"
   ]
  },
  {
   "cell_type": "code",
   "execution_count": 54,
   "metadata": {},
   "outputs": [
    {
     "data": {
      "text/plain": [
       "array([2024, 2022, 2023], dtype=int32)"
      ]
     },
     "execution_count": 54,
     "metadata": {},
     "output_type": "execute_result"
    }
   ],
   "source": [
    "holiday_df['year'].unique()"
   ]
  },
  {
   "cell_type": "code",
   "execution_count": 55,
   "metadata": {},
   "outputs": [],
   "source": [
    "def isHoliday(date, holiday_df):\n",
    "    return date in holiday_df['datetime'].values"
   ]
  },
  {
   "cell_type": "code",
   "execution_count": 56,
   "metadata": {},
   "outputs": [],
   "source": [
    "total_usage_df['is_holiday'] = np.vectorize(isHoliday, excluded=['holiday_df'])(total_usage_df['date'], holiday_df=holiday_df)"
   ]
  },
  {
   "cell_type": "code",
   "execution_count": 57,
   "metadata": {},
   "outputs": [
    {
     "name": "stdout",
     "output_type": "stream",
     "text": [
      "<class 'pandas.core.frame.DataFrame'>\n",
      "Index: 40 entries, 0 to 851\n",
      "Data columns (total 3 columns):\n",
      " #   Column       Non-Null Count  Dtype         \n",
      "---  ------       --------------  -----         \n",
      " 0   date         40 non-null     datetime64[ns]\n",
      " 1   total_usage  40 non-null     float64       \n",
      " 2   is_holiday   40 non-null     bool          \n",
      "dtypes: bool(1), datetime64[ns](1), float64(1)\n",
      "memory usage: 1000.0 bytes\n"
     ]
    }
   ],
   "source": [
    "total_usage_df[total_usage_df['is_holiday'] == True].info()"
   ]
  },
  {
   "cell_type": "markdown",
   "metadata": {},
   "source": [
    "##### Nhận xét\n",
    "- Dữ liệu ngày lễ đã đủ, do năm 2024 chưa có ngày 2/9 nên chỉ có 40 dòng"
   ]
  },
  {
   "cell_type": "markdown",
   "metadata": {},
   "source": [
    "#### TẠO DỮ LIỆU NHIỆT ĐỘ"
   ]
  },
  {
   "cell_type": "code",
   "execution_count": 58,
   "metadata": {},
   "outputs": [],
   "source": [
    "temp_start_date = start_date.strftime('%Y-%m-%d')\n",
    "temp_end_date = (end_date + timedelta(days=1)).strftime('%Y-%m-%d')"
   ]
  },
  {
   "cell_type": "code",
   "execution_count": 59,
   "metadata": {},
   "outputs": [
    {
     "data": {
      "text/plain": [
       "'2022-01-01'"
      ]
     },
     "execution_count": 59,
     "metadata": {},
     "output_type": "execute_result"
    }
   ],
   "source": [
    "temp_start_date"
   ]
  },
  {
   "cell_type": "code",
   "execution_count": 60,
   "metadata": {},
   "outputs": [
    {
     "data": {
      "text/plain": [
       "'2024-07-09'"
      ]
     },
     "execution_count": 60,
     "metadata": {},
     "output_type": "execute_result"
    }
   ],
   "source": [
    "temp_end_date"
   ]
  },
  {
   "cell_type": "code",
   "execution_count": 61,
   "metadata": {},
   "outputs": [],
   "source": [
    "lat = 16.047079\n",
    "lon = 108.206230"
   ]
  },
  {
   "cell_type": "code",
   "execution_count": 62,
   "metadata": {},
   "outputs": [
    {
     "name": "stdout",
     "output_type": "stream",
     "text": [
      "Coordinates 16.063268661499023°N 108.23863983154297°E\n",
      "Elevation 7.0 m asl\n",
      "Timezone b'Asia/Bangkok' b'+07'\n",
      "Timezone difference to GMT+0 25200 s\n",
      "                         date  temperature\n",
      "0   2021-12-31 17:00:00+00:00    22.066584\n",
      "1   2022-01-01 17:00:00+00:00    21.893663\n",
      "2   2022-01-02 17:00:00+00:00    21.964500\n",
      "3   2022-01-03 17:00:00+00:00    21.991585\n",
      "4   2022-01-04 17:00:00+00:00    22.566584\n",
      "..                        ...          ...\n",
      "916 2024-07-04 17:00:00+00:00    29.187416\n",
      "917 2024-07-05 17:00:00+00:00    29.354088\n",
      "918 2024-07-06 17:00:00+00:00    29.331167\n",
      "919 2024-07-07 17:00:00+00:00    28.595747\n",
      "920 2024-07-08 17:00:00+00:00    29.487417\n",
      "\n",
      "[921 rows x 2 columns]\n"
     ]
    }
   ],
   "source": [
    "import openmeteo_requests\n",
    "\n",
    "import requests_cache\n",
    "import pandas as pd\n",
    "from retry_requests import retry\n",
    "\n",
    "# Setup the Open-Meteo API client with cache and retry on error\n",
    "cache_session = requests_cache.CachedSession('.cache', expire_after = -1)\n",
    "retry_session = retry(cache_session, retries = 5, backoff_factor = 0.2)\n",
    "openmeteo = openmeteo_requests.Client(session = retry_session)\n",
    "\n",
    "# Make sure all required weather variables are listed here\n",
    "# The order of variables in hourly or daily is important to assign them correctly below\n",
    "url = \"https://archive-api.open-meteo.com/v1/archive\"\n",
    "params = {\n",
    "\t\"latitude\": lat,\n",
    "\t\"longitude\": lon,\n",
    "\t\"start_date\": temp_start_date,\n",
    "\t\"end_date\": temp_end_date,\n",
    "\t\"daily\": \"temperature_2m_mean\",\n",
    "\t\"timezone\": \"Asia/Bangkok\"\n",
    "}\n",
    "responses = openmeteo.weather_api(url, params=params)\n",
    "\n",
    "# Process first location. Add a for-loop for multiple locations or weather models\n",
    "response = responses[0]\n",
    "print(f\"Coordinates {response.Latitude()}°N {response.Longitude()}°E\")\n",
    "print(f\"Elevation {response.Elevation()} m asl\")\n",
    "print(f\"Timezone {response.Timezone()} {response.TimezoneAbbreviation()}\")\n",
    "print(f\"Timezone difference to GMT+0 {response.UtcOffsetSeconds()} s\")\n",
    "\n",
    "# Process daily data. The order of variables needs to be the same as requested.\n",
    "daily = response.Daily()\n",
    "daily_temperature_2m_mean = daily.Variables(0).ValuesAsNumpy()\n",
    "\n",
    "daily_data = {\"date\": pd.date_range(\n",
    "\tstart = pd.to_datetime(daily.Time(), unit = \"s\", utc = True),\n",
    "\tend = pd.to_datetime(daily.TimeEnd(), unit = \"s\", utc = True),\n",
    "\tfreq = pd.Timedelta(seconds = daily.Interval()),\n",
    "\tinclusive = \"left\"\n",
    ")}\n",
    "daily_data[\"temperature\"] = daily_temperature_2m_mean\n",
    "\n",
    "daily_dataframe = pd.DataFrame(data = daily_data)\n",
    "print(daily_dataframe)\n",
    "\n"
   ]
  },
  {
   "cell_type": "code",
   "execution_count": 63,
   "metadata": {},
   "outputs": [
    {
     "data": {
      "text/html": [
       "<div>\n",
       "<style scoped>\n",
       "    .dataframe tbody tr th:only-of-type {\n",
       "        vertical-align: middle;\n",
       "    }\n",
       "\n",
       "    .dataframe tbody tr th {\n",
       "        vertical-align: top;\n",
       "    }\n",
       "\n",
       "    .dataframe thead th {\n",
       "        text-align: right;\n",
       "    }\n",
       "</style>\n",
       "<table border=\"1\" class=\"dataframe\">\n",
       "  <thead>\n",
       "    <tr style=\"text-align: right;\">\n",
       "      <th></th>\n",
       "      <th>date</th>\n",
       "      <th>temperature</th>\n",
       "    </tr>\n",
       "  </thead>\n",
       "  <tbody>\n",
       "    <tr>\n",
       "      <th>0</th>\n",
       "      <td>2021-12-31 17:00:00+00:00</td>\n",
       "      <td>22.07</td>\n",
       "    </tr>\n",
       "    <tr>\n",
       "      <th>1</th>\n",
       "      <td>2022-01-01 17:00:00+00:00</td>\n",
       "      <td>21.89</td>\n",
       "    </tr>\n",
       "    <tr>\n",
       "      <th>2</th>\n",
       "      <td>2022-01-02 17:00:00+00:00</td>\n",
       "      <td>21.96</td>\n",
       "    </tr>\n",
       "    <tr>\n",
       "      <th>3</th>\n",
       "      <td>2022-01-03 17:00:00+00:00</td>\n",
       "      <td>21.99</td>\n",
       "    </tr>\n",
       "    <tr>\n",
       "      <th>4</th>\n",
       "      <td>2022-01-04 17:00:00+00:00</td>\n",
       "      <td>22.57</td>\n",
       "    </tr>\n",
       "  </tbody>\n",
       "</table>\n",
       "</div>"
      ],
      "text/plain": [
       "                       date  temperature\n",
       "0 2021-12-31 17:00:00+00:00        22.07\n",
       "1 2022-01-01 17:00:00+00:00        21.89\n",
       "2 2022-01-02 17:00:00+00:00        21.96\n",
       "3 2022-01-03 17:00:00+00:00        21.99\n",
       "4 2022-01-04 17:00:00+00:00        22.57"
      ]
     },
     "execution_count": 63,
     "metadata": {},
     "output_type": "execute_result"
    }
   ],
   "source": [
    "daily_dataframe['temperature'] = daily_dataframe['temperature'].apply(lambda x: np.round(x, 2))\n",
    "daily_dataframe.head()"
   ]
  },
  {
   "cell_type": "code",
   "execution_count": 64,
   "metadata": {},
   "outputs": [
    {
     "data": {
      "text/html": [
       "<div>\n",
       "<style scoped>\n",
       "    .dataframe tbody tr th:only-of-type {\n",
       "        vertical-align: middle;\n",
       "    }\n",
       "\n",
       "    .dataframe tbody tr th {\n",
       "        vertical-align: top;\n",
       "    }\n",
       "\n",
       "    .dataframe thead th {\n",
       "        text-align: right;\n",
       "    }\n",
       "</style>\n",
       "<table border=\"1\" class=\"dataframe\">\n",
       "  <thead>\n",
       "    <tr style=\"text-align: right;\">\n",
       "      <th></th>\n",
       "      <th>date</th>\n",
       "      <th>temperature</th>\n",
       "    </tr>\n",
       "  </thead>\n",
       "  <tbody>\n",
       "    <tr>\n",
       "      <th>916</th>\n",
       "      <td>2024-07-04</td>\n",
       "      <td>29.19</td>\n",
       "    </tr>\n",
       "    <tr>\n",
       "      <th>917</th>\n",
       "      <td>2024-07-05</td>\n",
       "      <td>29.35</td>\n",
       "    </tr>\n",
       "    <tr>\n",
       "      <th>918</th>\n",
       "      <td>2024-07-06</td>\n",
       "      <td>29.33</td>\n",
       "    </tr>\n",
       "    <tr>\n",
       "      <th>919</th>\n",
       "      <td>2024-07-07</td>\n",
       "      <td>28.60</td>\n",
       "    </tr>\n",
       "    <tr>\n",
       "      <th>920</th>\n",
       "      <td>2024-07-08</td>\n",
       "      <td>29.49</td>\n",
       "    </tr>\n",
       "  </tbody>\n",
       "</table>\n",
       "</div>"
      ],
      "text/plain": [
       "          date  temperature\n",
       "916 2024-07-04        29.19\n",
       "917 2024-07-05        29.35\n",
       "918 2024-07-06        29.33\n",
       "919 2024-07-07        28.60\n",
       "920 2024-07-08        29.49"
      ]
     },
     "execution_count": 64,
     "metadata": {},
     "output_type": "execute_result"
    }
   ],
   "source": [
    "daily_dataframe['date'] = daily_dataframe['date'].dt.date\n",
    "daily_dataframe['date'] = pd.to_datetime(daily_dataframe['date'])\n",
    "daily_dataframe.tail()"
   ]
  },
  {
   "cell_type": "code",
   "execution_count": 65,
   "metadata": {},
   "outputs": [
    {
     "data": {
      "text/html": [
       "<div>\n",
       "<style scoped>\n",
       "    .dataframe tbody tr th:only-of-type {\n",
       "        vertical-align: middle;\n",
       "    }\n",
       "\n",
       "    .dataframe tbody tr th {\n",
       "        vertical-align: top;\n",
       "    }\n",
       "\n",
       "    .dataframe thead th {\n",
       "        text-align: right;\n",
       "    }\n",
       "</style>\n",
       "<table border=\"1\" class=\"dataframe\">\n",
       "  <thead>\n",
       "    <tr style=\"text-align: right;\">\n",
       "      <th></th>\n",
       "      <th>date</th>\n",
       "      <th>temperature</th>\n",
       "    </tr>\n",
       "  </thead>\n",
       "  <tbody>\n",
       "    <tr>\n",
       "      <th>916</th>\n",
       "      <td>2024-07-04</td>\n",
       "      <td>29.19</td>\n",
       "    </tr>\n",
       "    <tr>\n",
       "      <th>917</th>\n",
       "      <td>2024-07-05</td>\n",
       "      <td>29.35</td>\n",
       "    </tr>\n",
       "    <tr>\n",
       "      <th>918</th>\n",
       "      <td>2024-07-06</td>\n",
       "      <td>29.33</td>\n",
       "    </tr>\n",
       "    <tr>\n",
       "      <th>919</th>\n",
       "      <td>2024-07-07</td>\n",
       "      <td>28.60</td>\n",
       "    </tr>\n",
       "    <tr>\n",
       "      <th>920</th>\n",
       "      <td>2024-07-08</td>\n",
       "      <td>29.49</td>\n",
       "    </tr>\n",
       "  </tbody>\n",
       "</table>\n",
       "</div>"
      ],
      "text/plain": [
       "          date  temperature\n",
       "916 2024-07-04        29.19\n",
       "917 2024-07-05        29.35\n",
       "918 2024-07-06        29.33\n",
       "919 2024-07-07        28.60\n",
       "920 2024-07-08        29.49"
      ]
     },
     "execution_count": 65,
     "metadata": {},
     "output_type": "execute_result"
    }
   ],
   "source": [
    "daily_dataframe.tail()"
   ]
  },
  {
   "cell_type": "code",
   "execution_count": 66,
   "metadata": {},
   "outputs": [],
   "source": [
    "total_usage_df = pd.merge(total_usage_df, daily_dataframe[['date', 'temperature']], on='date', how='left')"
   ]
  },
  {
   "cell_type": "code",
   "execution_count": 67,
   "metadata": {},
   "outputs": [
    {
     "data": {
      "text/html": [
       "<div>\n",
       "<style scoped>\n",
       "    .dataframe tbody tr th:only-of-type {\n",
       "        vertical-align: middle;\n",
       "    }\n",
       "\n",
       "    .dataframe tbody tr th {\n",
       "        vertical-align: top;\n",
       "    }\n",
       "\n",
       "    .dataframe thead th {\n",
       "        text-align: right;\n",
       "    }\n",
       "</style>\n",
       "<table border=\"1\" class=\"dataframe\">\n",
       "  <thead>\n",
       "    <tr style=\"text-align: right;\">\n",
       "      <th></th>\n",
       "      <th>date</th>\n",
       "      <th>total_usage</th>\n",
       "      <th>is_holiday</th>\n",
       "      <th>temperature</th>\n",
       "    </tr>\n",
       "  </thead>\n",
       "  <tbody>\n",
       "    <tr>\n",
       "      <th>0</th>\n",
       "      <td>2022-01-01</td>\n",
       "      <td>1.36</td>\n",
       "      <td>True</td>\n",
       "      <td>21.89</td>\n",
       "    </tr>\n",
       "    <tr>\n",
       "      <th>1</th>\n",
       "      <td>2022-01-02</td>\n",
       "      <td>1.07</td>\n",
       "      <td>False</td>\n",
       "      <td>21.96</td>\n",
       "    </tr>\n",
       "    <tr>\n",
       "      <th>2</th>\n",
       "      <td>2022-01-03</td>\n",
       "      <td>1.33</td>\n",
       "      <td>True</td>\n",
       "      <td>21.99</td>\n",
       "    </tr>\n",
       "    <tr>\n",
       "      <th>3</th>\n",
       "      <td>2022-01-04</td>\n",
       "      <td>3.67</td>\n",
       "      <td>False</td>\n",
       "      <td>22.57</td>\n",
       "    </tr>\n",
       "    <tr>\n",
       "      <th>4</th>\n",
       "      <td>2022-01-05</td>\n",
       "      <td>3.81</td>\n",
       "      <td>False</td>\n",
       "      <td>22.97</td>\n",
       "    </tr>\n",
       "  </tbody>\n",
       "</table>\n",
       "</div>"
      ],
      "text/plain": [
       "        date  total_usage  is_holiday  temperature\n",
       "0 2022-01-01         1.36        True        21.89\n",
       "1 2022-01-02         1.07       False        21.96\n",
       "2 2022-01-03         1.33        True        21.99\n",
       "3 2022-01-04         3.67       False        22.57\n",
       "4 2022-01-05         3.81       False        22.97"
      ]
     },
     "execution_count": 67,
     "metadata": {},
     "output_type": "execute_result"
    }
   ],
   "source": [
    "total_usage_df.head()"
   ]
  },
  {
   "cell_type": "code",
   "execution_count": 68,
   "metadata": {},
   "outputs": [
    {
     "name": "stdout",
     "output_type": "stream",
     "text": [
      "<class 'pandas.core.frame.DataFrame'>\n",
      "RangeIndex: 920 entries, 0 to 919\n",
      "Data columns (total 4 columns):\n",
      " #   Column       Non-Null Count  Dtype         \n",
      "---  ------       --------------  -----         \n",
      " 0   date         920 non-null    datetime64[ns]\n",
      " 1   total_usage  901 non-null    float64       \n",
      " 2   is_holiday   920 non-null    bool          \n",
      " 3   temperature  920 non-null    float64       \n",
      "dtypes: bool(1), datetime64[ns](1), float64(2)\n",
      "memory usage: 22.6 KB\n"
     ]
    }
   ],
   "source": [
    "total_usage_df.info()"
   ]
  },
  {
   "cell_type": "markdown",
   "metadata": {},
   "source": [
    "##### Nhận xét\n",
    "- Không có giá trị null cột nhiệt độ"
   ]
  },
  {
   "cell_type": "markdown",
   "metadata": {},
   "source": [
    "#### TẠO DỮ LIỆU THỨ TRONG TUẦN"
   ]
  },
  {
   "cell_type": "code",
   "execution_count": 69,
   "metadata": {},
   "outputs": [],
   "source": [
    "total_usage_df['weekday'] = total_usage_df['date'].dt.day_of_week"
   ]
  },
  {
   "cell_type": "code",
   "execution_count": 70,
   "metadata": {},
   "outputs": [
    {
     "data": {
      "text/html": [
       "<div>\n",
       "<style scoped>\n",
       "    .dataframe tbody tr th:only-of-type {\n",
       "        vertical-align: middle;\n",
       "    }\n",
       "\n",
       "    .dataframe tbody tr th {\n",
       "        vertical-align: top;\n",
       "    }\n",
       "\n",
       "    .dataframe thead th {\n",
       "        text-align: right;\n",
       "    }\n",
       "</style>\n",
       "<table border=\"1\" class=\"dataframe\">\n",
       "  <thead>\n",
       "    <tr style=\"text-align: right;\">\n",
       "      <th></th>\n",
       "      <th>date</th>\n",
       "      <th>total_usage</th>\n",
       "      <th>is_holiday</th>\n",
       "      <th>temperature</th>\n",
       "      <th>weekday</th>\n",
       "    </tr>\n",
       "  </thead>\n",
       "  <tbody>\n",
       "    <tr>\n",
       "      <th>0</th>\n",
       "      <td>2022-01-01</td>\n",
       "      <td>1.36</td>\n",
       "      <td>True</td>\n",
       "      <td>21.89</td>\n",
       "      <td>5</td>\n",
       "    </tr>\n",
       "    <tr>\n",
       "      <th>1</th>\n",
       "      <td>2022-01-02</td>\n",
       "      <td>1.07</td>\n",
       "      <td>False</td>\n",
       "      <td>21.96</td>\n",
       "      <td>6</td>\n",
       "    </tr>\n",
       "    <tr>\n",
       "      <th>2</th>\n",
       "      <td>2022-01-03</td>\n",
       "      <td>1.33</td>\n",
       "      <td>True</td>\n",
       "      <td>21.99</td>\n",
       "      <td>0</td>\n",
       "    </tr>\n",
       "    <tr>\n",
       "      <th>3</th>\n",
       "      <td>2022-01-04</td>\n",
       "      <td>3.67</td>\n",
       "      <td>False</td>\n",
       "      <td>22.57</td>\n",
       "      <td>1</td>\n",
       "    </tr>\n",
       "    <tr>\n",
       "      <th>4</th>\n",
       "      <td>2022-01-05</td>\n",
       "      <td>3.81</td>\n",
       "      <td>False</td>\n",
       "      <td>22.97</td>\n",
       "      <td>2</td>\n",
       "    </tr>\n",
       "  </tbody>\n",
       "</table>\n",
       "</div>"
      ],
      "text/plain": [
       "        date  total_usage  is_holiday  temperature  weekday\n",
       "0 2022-01-01         1.36        True        21.89        5\n",
       "1 2022-01-02         1.07       False        21.96        6\n",
       "2 2022-01-03         1.33        True        21.99        0\n",
       "3 2022-01-04         3.67       False        22.57        1\n",
       "4 2022-01-05         3.81       False        22.97        2"
      ]
     },
     "execution_count": 70,
     "metadata": {},
     "output_type": "execute_result"
    }
   ],
   "source": [
    "total_usage_df.head()"
   ]
  },
  {
   "cell_type": "markdown",
   "metadata": {},
   "source": [
    "#### KHẢO SÁT DỮ LIỆU 0"
   ]
  },
  {
   "cell_type": "markdown",
   "metadata": {},
   "source": [
    "Chuẩn bị temp_dataset:\n",
    "- chuyển cột time về datetime\n",
    "- thêm cột date chỉ chứa date, không chứa time\n",
    "- thêm cột time chỉ chứa time, không chứa date\n",
    "- tạo cột sg_2 = tổng 3 cột bt, cd, td"
   ]
  },
  {
   "cell_type": "code",
   "execution_count": 71,
   "metadata": {},
   "outputs": [
    {
     "data": {
      "text/html": [
       "<div>\n",
       "<style scoped>\n",
       "    .dataframe tbody tr th:only-of-type {\n",
       "        vertical-align: middle;\n",
       "    }\n",
       "\n",
       "    .dataframe tbody tr th {\n",
       "        vertical-align: top;\n",
       "    }\n",
       "\n",
       "    .dataframe thead th {\n",
       "        text-align: right;\n",
       "    }\n",
       "</style>\n",
       "<table border=\"1\" class=\"dataframe\">\n",
       "  <thead>\n",
       "    <tr style=\"text-align: right;\">\n",
       "      <th></th>\n",
       "      <th>ma_dviqly</th>\n",
       "      <th>ma_khang</th>\n",
       "      <th>IMEI</th>\n",
       "      <th>TIME</th>\n",
       "      <th>BT</th>\n",
       "      <th>CD</th>\n",
       "      <th>TD</th>\n",
       "      <th>SG</th>\n",
       "    </tr>\n",
       "  </thead>\n",
       "  <tbody>\n",
       "    <tr>\n",
       "      <th>4018</th>\n",
       "      <td>PP0100</td>\n",
       "      <td>PP01000633003</td>\n",
       "      <td>3.531960e+15</td>\n",
       "      <td>2023-01-01 00:00:00</td>\n",
       "      <td>2922.84</td>\n",
       "      <td>1170.45</td>\n",
       "      <td>414.95</td>\n",
       "      <td>4508.25</td>\n",
       "    </tr>\n",
       "    <tr>\n",
       "      <th>4019</th>\n",
       "      <td>PP0100</td>\n",
       "      <td>PP01000633003</td>\n",
       "      <td>3.531960e+15</td>\n",
       "      <td>2023-01-01 01:00:00</td>\n",
       "      <td>2922.84</td>\n",
       "      <td>1170.45</td>\n",
       "      <td>414.99</td>\n",
       "      <td>4508.29</td>\n",
       "    </tr>\n",
       "    <tr>\n",
       "      <th>4020</th>\n",
       "      <td>PP0100</td>\n",
       "      <td>PP01000633003</td>\n",
       "      <td>3.531960e+15</td>\n",
       "      <td>2023-01-01 02:00:00</td>\n",
       "      <td>2922.84</td>\n",
       "      <td>1170.45</td>\n",
       "      <td>415.03</td>\n",
       "      <td>4508.34</td>\n",
       "    </tr>\n",
       "    <tr>\n",
       "      <th>4021</th>\n",
       "      <td>PP0100</td>\n",
       "      <td>PP01000633003</td>\n",
       "      <td>3.531960e+15</td>\n",
       "      <td>2023-01-01 03:00:00</td>\n",
       "      <td>2922.84</td>\n",
       "      <td>1170.45</td>\n",
       "      <td>415.08</td>\n",
       "      <td>4508.38</td>\n",
       "    </tr>\n",
       "    <tr>\n",
       "      <th>4022</th>\n",
       "      <td>PP0100</td>\n",
       "      <td>PP01000633003</td>\n",
       "      <td>3.531960e+15</td>\n",
       "      <td>2023-01-01 04:00:00</td>\n",
       "      <td>2922.84</td>\n",
       "      <td>1170.45</td>\n",
       "      <td>415.12</td>\n",
       "      <td>4508.42</td>\n",
       "    </tr>\n",
       "  </tbody>\n",
       "</table>\n",
       "</div>"
      ],
      "text/plain": [
       "     ma_dviqly       ma_khang          IMEI                TIME       BT  \\\n",
       "4018    PP0100  PP01000633003  3.531960e+15 2023-01-01 00:00:00  2922.84   \n",
       "4019    PP0100  PP01000633003  3.531960e+15 2023-01-01 01:00:00  2922.84   \n",
       "4020    PP0100  PP01000633003  3.531960e+15 2023-01-01 02:00:00  2922.84   \n",
       "4021    PP0100  PP01000633003  3.531960e+15 2023-01-01 03:00:00  2922.84   \n",
       "4022    PP0100  PP01000633003  3.531960e+15 2023-01-01 04:00:00  2922.84   \n",
       "\n",
       "           CD      TD       SG  \n",
       "4018  1170.45  414.95  4508.25  \n",
       "4019  1170.45  414.99  4508.29  \n",
       "4020  1170.45  415.03  4508.34  \n",
       "4021  1170.45  415.08  4508.38  \n",
       "4022  1170.45  415.12  4508.42  "
      ]
     },
     "execution_count": 71,
     "metadata": {},
     "output_type": "execute_result"
    }
   ],
   "source": [
    "temp_df.head()"
   ]
  },
  {
   "cell_type": "code",
   "execution_count": 72,
   "metadata": {},
   "outputs": [],
   "source": [
    "temp_df['date'] = pd.to_datetime(temp_df[\"TIME\"].dt.date)\n"
   ]
  },
  {
   "cell_type": "code",
   "execution_count": 73,
   "metadata": {},
   "outputs": [],
   "source": [
    "temp_df['time_only'] = temp_df['TIME'].dt.time"
   ]
  },
  {
   "cell_type": "code",
   "execution_count": 74,
   "metadata": {},
   "outputs": [],
   "source": [
    "temp_df[\"SG_2\"] = temp_df[\"BT\"] + temp_df[\"CD\"] + temp_df[\"TD\"]"
   ]
  },
  {
   "cell_type": "code",
   "execution_count": 75,
   "metadata": {},
   "outputs": [
    {
     "data": {
      "text/html": [
       "<div>\n",
       "<style scoped>\n",
       "    .dataframe tbody tr th:only-of-type {\n",
       "        vertical-align: middle;\n",
       "    }\n",
       "\n",
       "    .dataframe tbody tr th {\n",
       "        vertical-align: top;\n",
       "    }\n",
       "\n",
       "    .dataframe thead th {\n",
       "        text-align: right;\n",
       "    }\n",
       "</style>\n",
       "<table border=\"1\" class=\"dataframe\">\n",
       "  <thead>\n",
       "    <tr style=\"text-align: right;\">\n",
       "      <th></th>\n",
       "      <th>ma_dviqly</th>\n",
       "      <th>ma_khang</th>\n",
       "      <th>IMEI</th>\n",
       "      <th>TIME</th>\n",
       "      <th>BT</th>\n",
       "      <th>CD</th>\n",
       "      <th>TD</th>\n",
       "      <th>SG</th>\n",
       "      <th>date</th>\n",
       "      <th>time_only</th>\n",
       "      <th>SG_2</th>\n",
       "    </tr>\n",
       "  </thead>\n",
       "  <tbody>\n",
       "    <tr>\n",
       "      <th>4018</th>\n",
       "      <td>PP0100</td>\n",
       "      <td>PP01000633003</td>\n",
       "      <td>3.531960e+15</td>\n",
       "      <td>2023-01-01 00:00:00</td>\n",
       "      <td>2922.84</td>\n",
       "      <td>1170.45</td>\n",
       "      <td>414.95</td>\n",
       "      <td>4508.25</td>\n",
       "      <td>2023-01-01</td>\n",
       "      <td>00:00:00</td>\n",
       "      <td>4508.24</td>\n",
       "    </tr>\n",
       "    <tr>\n",
       "      <th>4019</th>\n",
       "      <td>PP0100</td>\n",
       "      <td>PP01000633003</td>\n",
       "      <td>3.531960e+15</td>\n",
       "      <td>2023-01-01 01:00:00</td>\n",
       "      <td>2922.84</td>\n",
       "      <td>1170.45</td>\n",
       "      <td>414.99</td>\n",
       "      <td>4508.29</td>\n",
       "      <td>2023-01-01</td>\n",
       "      <td>01:00:00</td>\n",
       "      <td>4508.28</td>\n",
       "    </tr>\n",
       "    <tr>\n",
       "      <th>4020</th>\n",
       "      <td>PP0100</td>\n",
       "      <td>PP01000633003</td>\n",
       "      <td>3.531960e+15</td>\n",
       "      <td>2023-01-01 02:00:00</td>\n",
       "      <td>2922.84</td>\n",
       "      <td>1170.45</td>\n",
       "      <td>415.03</td>\n",
       "      <td>4508.34</td>\n",
       "      <td>2023-01-01</td>\n",
       "      <td>02:00:00</td>\n",
       "      <td>4508.32</td>\n",
       "    </tr>\n",
       "    <tr>\n",
       "      <th>4021</th>\n",
       "      <td>PP0100</td>\n",
       "      <td>PP01000633003</td>\n",
       "      <td>3.531960e+15</td>\n",
       "      <td>2023-01-01 03:00:00</td>\n",
       "      <td>2922.84</td>\n",
       "      <td>1170.45</td>\n",
       "      <td>415.08</td>\n",
       "      <td>4508.38</td>\n",
       "      <td>2023-01-01</td>\n",
       "      <td>03:00:00</td>\n",
       "      <td>4508.37</td>\n",
       "    </tr>\n",
       "    <tr>\n",
       "      <th>4022</th>\n",
       "      <td>PP0100</td>\n",
       "      <td>PP01000633003</td>\n",
       "      <td>3.531960e+15</td>\n",
       "      <td>2023-01-01 04:00:00</td>\n",
       "      <td>2922.84</td>\n",
       "      <td>1170.45</td>\n",
       "      <td>415.12</td>\n",
       "      <td>4508.42</td>\n",
       "      <td>2023-01-01</td>\n",
       "      <td>04:00:00</td>\n",
       "      <td>4508.41</td>\n",
       "    </tr>\n",
       "  </tbody>\n",
       "</table>\n",
       "</div>"
      ],
      "text/plain": [
       "     ma_dviqly       ma_khang          IMEI                TIME       BT  \\\n",
       "4018    PP0100  PP01000633003  3.531960e+15 2023-01-01 00:00:00  2922.84   \n",
       "4019    PP0100  PP01000633003  3.531960e+15 2023-01-01 01:00:00  2922.84   \n",
       "4020    PP0100  PP01000633003  3.531960e+15 2023-01-01 02:00:00  2922.84   \n",
       "4021    PP0100  PP01000633003  3.531960e+15 2023-01-01 03:00:00  2922.84   \n",
       "4022    PP0100  PP01000633003  3.531960e+15 2023-01-01 04:00:00  2922.84   \n",
       "\n",
       "           CD      TD       SG       date time_only     SG_2  \n",
       "4018  1170.45  414.95  4508.25 2023-01-01  00:00:00  4508.24  \n",
       "4019  1170.45  414.99  4508.29 2023-01-01  01:00:00  4508.28  \n",
       "4020  1170.45  415.03  4508.34 2023-01-01  02:00:00  4508.32  \n",
       "4021  1170.45  415.08  4508.38 2023-01-01  03:00:00  4508.37  \n",
       "4022  1170.45  415.12  4508.42 2023-01-01  04:00:00  4508.41  "
      ]
     },
     "execution_count": 75,
     "metadata": {},
     "output_type": "execute_result"
    }
   ],
   "source": [
    "temp_df.head()"
   ]
  },
  {
   "cell_type": "code",
   "execution_count": 76,
   "metadata": {},
   "outputs": [
    {
     "name": "stdout",
     "output_type": "stream",
     "text": [
      "<class 'pandas.core.frame.DataFrame'>\n",
      "Index: 10938 entries, 4018 to 14955\n",
      "Data columns (total 11 columns):\n",
      " #   Column     Non-Null Count  Dtype         \n",
      "---  ------     --------------  -----         \n",
      " 0   ma_dviqly  10938 non-null  object        \n",
      " 1   ma_khang   10938 non-null  object        \n",
      " 2   IMEI       10938 non-null  float64       \n",
      " 3   TIME       10938 non-null  datetime64[ns]\n",
      " 4   BT         10938 non-null  float64       \n",
      " 5   CD         10938 non-null  float64       \n",
      " 6   TD         10938 non-null  float64       \n",
      " 7   SG         10938 non-null  float64       \n",
      " 8   date       10938 non-null  datetime64[ns]\n",
      " 9   time_only  10938 non-null  object        \n",
      " 10  SG_2       10938 non-null  float64       \n",
      "dtypes: datetime64[ns](2), float64(6), object(3)\n",
      "memory usage: 1.0+ MB\n"
     ]
    }
   ],
   "source": [
    "temp_df.info()"
   ]
  },
  {
   "cell_type": "markdown",
   "metadata": {},
   "source": [
    "Tạo DataFrame chứa date những ngày có tổng sản lượng bằng 0"
   ]
  },
  {
   "cell_type": "code",
   "execution_count": 77,
   "metadata": {},
   "outputs": [
    {
     "data": {
      "text/html": [
       "<div>\n",
       "<style scoped>\n",
       "    .dataframe tbody tr th:only-of-type {\n",
       "        vertical-align: middle;\n",
       "    }\n",
       "\n",
       "    .dataframe tbody tr th {\n",
       "        vertical-align: top;\n",
       "    }\n",
       "\n",
       "    .dataframe thead th {\n",
       "        text-align: right;\n",
       "    }\n",
       "</style>\n",
       "<table border=\"1\" class=\"dataframe\">\n",
       "  <thead>\n",
       "    <tr style=\"text-align: right;\">\n",
       "      <th></th>\n",
       "      <th>date</th>\n",
       "    </tr>\n",
       "  </thead>\n",
       "  <tbody>\n",
       "    <tr>\n",
       "      <th>606</th>\n",
       "      <td>2023-08-30</td>\n",
       "    </tr>\n",
       "    <tr>\n",
       "      <th>609</th>\n",
       "      <td>2023-09-02</td>\n",
       "    </tr>\n",
       "    <tr>\n",
       "      <th>612</th>\n",
       "      <td>2023-09-05</td>\n",
       "    </tr>\n",
       "    <tr>\n",
       "      <th>615</th>\n",
       "      <td>2023-09-08</td>\n",
       "    </tr>\n",
       "    <tr>\n",
       "      <th>618</th>\n",
       "      <td>2023-09-11</td>\n",
       "    </tr>\n",
       "  </tbody>\n",
       "</table>\n",
       "</div>"
      ],
      "text/plain": [
       "          date\n",
       "606 2023-08-30\n",
       "609 2023-09-02\n",
       "612 2023-09-05\n",
       "615 2023-09-08\n",
       "618 2023-09-11"
      ]
     },
     "execution_count": 77,
     "metadata": {},
     "output_type": "execute_result"
    }
   ],
   "source": [
    "df_date_0 = pd.DataFrame(total_usage_df[total_usage_df['total_usage'] == 0]['date'])\n",
    "df_date_0.head()"
   ]
  },
  {
   "cell_type": "code",
   "execution_count": 78,
   "metadata": {},
   "outputs": [],
   "source": [
    "df_date_0['date'] = pd.to_datetime(df_date_0['date'])"
   ]
  },
  {
   "cell_type": "code",
   "execution_count": 79,
   "metadata": {},
   "outputs": [
    {
     "name": "stdout",
     "output_type": "stream",
     "text": [
      "<class 'pandas.core.frame.DataFrame'>\n",
      "Index: 14 entries, 606 to 647\n",
      "Data columns (total 1 columns):\n",
      " #   Column  Non-Null Count  Dtype         \n",
      "---  ------  --------------  -----         \n",
      " 0   date    14 non-null     datetime64[ns]\n",
      "dtypes: datetime64[ns](1)\n",
      "memory usage: 224.0 bytes\n"
     ]
    }
   ],
   "source": [
    "df_date_0.info()"
   ]
  },
  {
   "cell_type": "markdown",
   "metadata": {},
   "source": [
    "Xem thử những ngày có sản lượng bằng 0 do đâu"
   ]
  },
  {
   "cell_type": "code",
   "execution_count": 80,
   "metadata": {},
   "outputs": [
    {
     "data": {
      "text/html": [
       "<div>\n",
       "<style scoped>\n",
       "    .dataframe tbody tr th:only-of-type {\n",
       "        vertical-align: middle;\n",
       "    }\n",
       "\n",
       "    .dataframe tbody tr th {\n",
       "        vertical-align: top;\n",
       "    }\n",
       "\n",
       "    .dataframe thead th {\n",
       "        text-align: right;\n",
       "    }\n",
       "</style>\n",
       "<table border=\"1\" class=\"dataframe\">\n",
       "  <thead>\n",
       "    <tr style=\"text-align: right;\">\n",
       "      <th></th>\n",
       "      <th>ma_dviqly</th>\n",
       "      <th>ma_khang</th>\n",
       "      <th>IMEI</th>\n",
       "      <th>TIME</th>\n",
       "      <th>BT</th>\n",
       "      <th>CD</th>\n",
       "      <th>TD</th>\n",
       "      <th>SG</th>\n",
       "      <th>date</th>\n",
       "      <th>time_only</th>\n",
       "      <th>SG_2</th>\n",
       "    </tr>\n",
       "  </thead>\n",
       "  <tbody>\n",
       "    <tr>\n",
       "      <th>0</th>\n",
       "      <td>PP0100</td>\n",
       "      <td>PP01000633003</td>\n",
       "      <td>3.531960e+15</td>\n",
       "      <td>2023-08-30</td>\n",
       "      <td>205.47</td>\n",
       "      <td>81.24</td>\n",
       "      <td>22.40</td>\n",
       "      <td>309.12</td>\n",
       "      <td>2023-08-30</td>\n",
       "      <td>00:00:00</td>\n",
       "      <td>309.11</td>\n",
       "    </tr>\n",
       "    <tr>\n",
       "      <th>1</th>\n",
       "      <td>PP0100</td>\n",
       "      <td>PP01000633003</td>\n",
       "      <td>3.531960e+15</td>\n",
       "      <td>2023-09-02</td>\n",
       "      <td>214.28</td>\n",
       "      <td>84.78</td>\n",
       "      <td>23.54</td>\n",
       "      <td>322.62</td>\n",
       "      <td>2023-09-02</td>\n",
       "      <td>00:00:00</td>\n",
       "      <td>322.60</td>\n",
       "    </tr>\n",
       "    <tr>\n",
       "      <th>2</th>\n",
       "      <td>PP0100</td>\n",
       "      <td>PP01000633003</td>\n",
       "      <td>3.531960e+15</td>\n",
       "      <td>2023-09-05</td>\n",
       "      <td>218.04</td>\n",
       "      <td>85.80</td>\n",
       "      <td>24.54</td>\n",
       "      <td>328.39</td>\n",
       "      <td>2023-09-05</td>\n",
       "      <td>00:00:00</td>\n",
       "      <td>328.38</td>\n",
       "    </tr>\n",
       "    <tr>\n",
       "      <th>3</th>\n",
       "      <td>PP0100</td>\n",
       "      <td>PP01000633003</td>\n",
       "      <td>3.531960e+15</td>\n",
       "      <td>2023-09-08</td>\n",
       "      <td>229.58</td>\n",
       "      <td>90.45</td>\n",
       "      <td>25.68</td>\n",
       "      <td>345.73</td>\n",
       "      <td>2023-09-08</td>\n",
       "      <td>00:00:00</td>\n",
       "      <td>345.71</td>\n",
       "    </tr>\n",
       "    <tr>\n",
       "      <th>4</th>\n",
       "      <td>PP0100</td>\n",
       "      <td>PP01000633003</td>\n",
       "      <td>3.531960e+15</td>\n",
       "      <td>2023-09-11</td>\n",
       "      <td>235.75</td>\n",
       "      <td>92.71</td>\n",
       "      <td>26.67</td>\n",
       "      <td>355.14</td>\n",
       "      <td>2023-09-11</td>\n",
       "      <td>00:00:00</td>\n",
       "      <td>355.13</td>\n",
       "    </tr>\n",
       "    <tr>\n",
       "      <th>5</th>\n",
       "      <td>PP0100</td>\n",
       "      <td>PP01000633003</td>\n",
       "      <td>3.531960e+15</td>\n",
       "      <td>2023-09-14</td>\n",
       "      <td>248.07</td>\n",
       "      <td>97.91</td>\n",
       "      <td>27.79</td>\n",
       "      <td>373.77</td>\n",
       "      <td>2023-09-14</td>\n",
       "      <td>00:00:00</td>\n",
       "      <td>373.77</td>\n",
       "    </tr>\n",
       "    <tr>\n",
       "      <th>6</th>\n",
       "      <td>PP0100</td>\n",
       "      <td>PP01000633003</td>\n",
       "      <td>3.531960e+15</td>\n",
       "      <td>2023-09-19</td>\n",
       "      <td>260.86</td>\n",
       "      <td>102.87</td>\n",
       "      <td>29.42</td>\n",
       "      <td>393.16</td>\n",
       "      <td>2023-09-19</td>\n",
       "      <td>00:00:00</td>\n",
       "      <td>393.15</td>\n",
       "    </tr>\n",
       "    <tr>\n",
       "      <th>7</th>\n",
       "      <td>PP0100</td>\n",
       "      <td>PP01000633003</td>\n",
       "      <td>3.531960e+15</td>\n",
       "      <td>2023-09-22</td>\n",
       "      <td>272.51</td>\n",
       "      <td>107.56</td>\n",
       "      <td>30.43</td>\n",
       "      <td>410.51</td>\n",
       "      <td>2023-09-22</td>\n",
       "      <td>00:00:00</td>\n",
       "      <td>410.50</td>\n",
       "    </tr>\n",
       "    <tr>\n",
       "      <th>8</th>\n",
       "      <td>PP0100</td>\n",
       "      <td>PP01000633003</td>\n",
       "      <td>3.531960e+15</td>\n",
       "      <td>2023-09-25</td>\n",
       "      <td>278.52</td>\n",
       "      <td>109.67</td>\n",
       "      <td>31.39</td>\n",
       "      <td>419.59</td>\n",
       "      <td>2023-09-25</td>\n",
       "      <td>00:00:00</td>\n",
       "      <td>419.58</td>\n",
       "    </tr>\n",
       "    <tr>\n",
       "      <th>9</th>\n",
       "      <td>PP0100</td>\n",
       "      <td>PP01000633003</td>\n",
       "      <td>3.531960e+15</td>\n",
       "      <td>2023-09-28</td>\n",
       "      <td>288.32</td>\n",
       "      <td>113.66</td>\n",
       "      <td>32.41</td>\n",
       "      <td>434.40</td>\n",
       "      <td>2023-09-28</td>\n",
       "      <td>00:00:00</td>\n",
       "      <td>434.39</td>\n",
       "    </tr>\n",
       "    <tr>\n",
       "      <th>10</th>\n",
       "      <td>PP0100</td>\n",
       "      <td>PP01000633003</td>\n",
       "      <td>3.531960e+15</td>\n",
       "      <td>2023-10-01</td>\n",
       "      <td>296.02</td>\n",
       "      <td>116.81</td>\n",
       "      <td>33.44</td>\n",
       "      <td>446.28</td>\n",
       "      <td>2023-10-01</td>\n",
       "      <td>00:00:00</td>\n",
       "      <td>446.27</td>\n",
       "    </tr>\n",
       "    <tr>\n",
       "      <th>11</th>\n",
       "      <td>PP0100</td>\n",
       "      <td>PP01000633003</td>\n",
       "      <td>3.531960e+15</td>\n",
       "      <td>2023-10-04</td>\n",
       "      <td>304.12</td>\n",
       "      <td>119.54</td>\n",
       "      <td>34.46</td>\n",
       "      <td>458.12</td>\n",
       "      <td>2023-10-04</td>\n",
       "      <td>00:00:00</td>\n",
       "      <td>458.12</td>\n",
       "    </tr>\n",
       "    <tr>\n",
       "      <th>12</th>\n",
       "      <td>PP0100</td>\n",
       "      <td>PP01000633003</td>\n",
       "      <td>3.531960e+15</td>\n",
       "      <td>2023-10-07</td>\n",
       "      <td>314.63</td>\n",
       "      <td>123.84</td>\n",
       "      <td>35.47</td>\n",
       "      <td>473.95</td>\n",
       "      <td>2023-10-07</td>\n",
       "      <td>00:00:00</td>\n",
       "      <td>473.94</td>\n",
       "    </tr>\n",
       "    <tr>\n",
       "      <th>13</th>\n",
       "      <td>PP0100</td>\n",
       "      <td>PP01000633003</td>\n",
       "      <td>3.531960e+15</td>\n",
       "      <td>2023-10-10</td>\n",
       "      <td>320.32</td>\n",
       "      <td>125.90</td>\n",
       "      <td>36.43</td>\n",
       "      <td>482.65</td>\n",
       "      <td>2023-10-10</td>\n",
       "      <td>00:00:00</td>\n",
       "      <td>482.65</td>\n",
       "    </tr>\n",
       "  </tbody>\n",
       "</table>\n",
       "</div>"
      ],
      "text/plain": [
       "   ma_dviqly       ma_khang          IMEI       TIME      BT      CD     TD  \\\n",
       "0     PP0100  PP01000633003  3.531960e+15 2023-08-30  205.47   81.24  22.40   \n",
       "1     PP0100  PP01000633003  3.531960e+15 2023-09-02  214.28   84.78  23.54   \n",
       "2     PP0100  PP01000633003  3.531960e+15 2023-09-05  218.04   85.80  24.54   \n",
       "3     PP0100  PP01000633003  3.531960e+15 2023-09-08  229.58   90.45  25.68   \n",
       "4     PP0100  PP01000633003  3.531960e+15 2023-09-11  235.75   92.71  26.67   \n",
       "5     PP0100  PP01000633003  3.531960e+15 2023-09-14  248.07   97.91  27.79   \n",
       "6     PP0100  PP01000633003  3.531960e+15 2023-09-19  260.86  102.87  29.42   \n",
       "7     PP0100  PP01000633003  3.531960e+15 2023-09-22  272.51  107.56  30.43   \n",
       "8     PP0100  PP01000633003  3.531960e+15 2023-09-25  278.52  109.67  31.39   \n",
       "9     PP0100  PP01000633003  3.531960e+15 2023-09-28  288.32  113.66  32.41   \n",
       "10    PP0100  PP01000633003  3.531960e+15 2023-10-01  296.02  116.81  33.44   \n",
       "11    PP0100  PP01000633003  3.531960e+15 2023-10-04  304.12  119.54  34.46   \n",
       "12    PP0100  PP01000633003  3.531960e+15 2023-10-07  314.63  123.84  35.47   \n",
       "13    PP0100  PP01000633003  3.531960e+15 2023-10-10  320.32  125.90  36.43   \n",
       "\n",
       "        SG       date time_only    SG_2  \n",
       "0   309.12 2023-08-30  00:00:00  309.11  \n",
       "1   322.62 2023-09-02  00:00:00  322.60  \n",
       "2   328.39 2023-09-05  00:00:00  328.38  \n",
       "3   345.73 2023-09-08  00:00:00  345.71  \n",
       "4   355.14 2023-09-11  00:00:00  355.13  \n",
       "5   373.77 2023-09-14  00:00:00  373.77  \n",
       "6   393.16 2023-09-19  00:00:00  393.15  \n",
       "7   410.51 2023-09-22  00:00:00  410.50  \n",
       "8   419.59 2023-09-25  00:00:00  419.58  \n",
       "9   434.40 2023-09-28  00:00:00  434.39  \n",
       "10  446.28 2023-10-01  00:00:00  446.27  \n",
       "11  458.12 2023-10-04  00:00:00  458.12  \n",
       "12  473.95 2023-10-07  00:00:00  473.94  \n",
       "13  482.65 2023-10-10  00:00:00  482.65  "
      ]
     },
     "execution_count": 80,
     "metadata": {},
     "output_type": "execute_result"
    }
   ],
   "source": [
    "temp_df.merge(right=df_date_0, how=\"inner\", on=\"date\")"
   ]
  },
  {
   "cell_type": "markdown",
   "metadata": {},
   "source": [
    "##### Nhận xét\n",
    "- Những ngày có sản lượng bằng 0 do dữ liệu chỉ có vào lúc 0h, 1 dòng dữ liệu duy nhất\n",
    "    -  Sản lượng phải được tính bằng hiệu 0h sáng hôm sau và 0h sáng hôm nay"
   ]
  },
  {
   "cell_type": "markdown",
   "metadata": {},
   "source": [
    "Tính sản lượng min ngày sau"
   ]
  },
  {
   "cell_type": "code",
   "execution_count": 81,
   "metadata": {},
   "outputs": [],
   "source": [
    "def get_min_after(date, temp_df):\n",
    "    date_after = date + pd.Timedelta(days=1)\n",
    "    filtered_df = temp_df[temp_df['date'] == date_after]\n",
    "    if not filtered_df.empty:\n",
    "        return filtered_df.iloc[0, -1]\n",
    "    else:\n",
    "        return None  # or any default value you prefer"
   ]
  },
  {
   "cell_type": "code",
   "execution_count": 82,
   "metadata": {},
   "outputs": [
    {
     "data": {
      "text/plain": [
       "np.float64(314.64)"
      ]
     },
     "execution_count": 82,
     "metadata": {},
     "output_type": "execute_result"
    }
   ],
   "source": [
    "test_date = datetime(2023, 8, 30)\n",
    "get_min_after(test_date, temp_df=temp_df)"
   ]
  },
  {
   "cell_type": "code",
   "execution_count": 83,
   "metadata": {},
   "outputs": [
    {
     "data": {
      "text/html": [
       "<div>\n",
       "<style scoped>\n",
       "    .dataframe tbody tr th:only-of-type {\n",
       "        vertical-align: middle;\n",
       "    }\n",
       "\n",
       "    .dataframe tbody tr th {\n",
       "        vertical-align: top;\n",
       "    }\n",
       "\n",
       "    .dataframe thead th {\n",
       "        text-align: right;\n",
       "    }\n",
       "</style>\n",
       "<table border=\"1\" class=\"dataframe\">\n",
       "  <thead>\n",
       "    <tr style=\"text-align: right;\">\n",
       "      <th></th>\n",
       "      <th>date</th>\n",
       "      <th>min_after</th>\n",
       "    </tr>\n",
       "  </thead>\n",
       "  <tbody>\n",
       "    <tr>\n",
       "      <th>606</th>\n",
       "      <td>2023-08-30</td>\n",
       "      <td>314.64</td>\n",
       "    </tr>\n",
       "    <tr>\n",
       "      <th>609</th>\n",
       "      <td>2023-09-02</td>\n",
       "      <td>324.24</td>\n",
       "    </tr>\n",
       "    <tr>\n",
       "      <th>612</th>\n",
       "      <td>2023-09-05</td>\n",
       "      <td>334.16</td>\n",
       "    </tr>\n",
       "    <tr>\n",
       "      <th>615</th>\n",
       "      <td>2023-09-08</td>\n",
       "      <td>351.44</td>\n",
       "    </tr>\n",
       "    <tr>\n",
       "      <th>618</th>\n",
       "      <td>2023-09-11</td>\n",
       "      <td>361.45</td>\n",
       "    </tr>\n",
       "    <tr>\n",
       "      <th>621</th>\n",
       "      <td>2023-09-14</td>\n",
       "      <td>NaN</td>\n",
       "    </tr>\n",
       "    <tr>\n",
       "      <th>626</th>\n",
       "      <td>2023-09-19</td>\n",
       "      <td>398.81</td>\n",
       "    </tr>\n",
       "    <tr>\n",
       "      <th>629</th>\n",
       "      <td>2023-09-22</td>\n",
       "      <td>416.06</td>\n",
       "    </tr>\n",
       "    <tr>\n",
       "      <th>632</th>\n",
       "      <td>2023-09-25</td>\n",
       "      <td>423.87</td>\n",
       "    </tr>\n",
       "    <tr>\n",
       "      <th>635</th>\n",
       "      <td>2023-09-28</td>\n",
       "      <td>439.20</td>\n",
       "    </tr>\n",
       "    <tr>\n",
       "      <th>638</th>\n",
       "      <td>2023-10-01</td>\n",
       "      <td>447.78</td>\n",
       "    </tr>\n",
       "    <tr>\n",
       "      <th>641</th>\n",
       "      <td>2023-10-04</td>\n",
       "      <td>463.21</td>\n",
       "    </tr>\n",
       "    <tr>\n",
       "      <th>644</th>\n",
       "      <td>2023-10-07</td>\n",
       "      <td>476.36</td>\n",
       "    </tr>\n",
       "    <tr>\n",
       "      <th>647</th>\n",
       "      <td>2023-10-10</td>\n",
       "      <td>NaN</td>\n",
       "    </tr>\n",
       "  </tbody>\n",
       "</table>\n",
       "</div>"
      ],
      "text/plain": [
       "          date  min_after\n",
       "606 2023-08-30     314.64\n",
       "609 2023-09-02     324.24\n",
       "612 2023-09-05     334.16\n",
       "615 2023-09-08     351.44\n",
       "618 2023-09-11     361.45\n",
       "621 2023-09-14        NaN\n",
       "626 2023-09-19     398.81\n",
       "629 2023-09-22     416.06\n",
       "632 2023-09-25     423.87\n",
       "635 2023-09-28     439.20\n",
       "638 2023-10-01     447.78\n",
       "641 2023-10-04     463.21\n",
       "644 2023-10-07     476.36\n",
       "647 2023-10-10        NaN"
      ]
     },
     "execution_count": 83,
     "metadata": {},
     "output_type": "execute_result"
    }
   ],
   "source": [
    "df_date_0['min_after'] = df_date_0['date'].apply(lambda date: get_min_after(date, temp_df))\n",
    "df_date_0"
   ]
  },
  {
   "cell_type": "code",
   "execution_count": 84,
   "metadata": {},
   "outputs": [],
   "source": [
    "df_date_0 = df_date_0.merge(right=temp_df, how='left', on='date')"
   ]
  },
  {
   "cell_type": "code",
   "execution_count": 85,
   "metadata": {},
   "outputs": [],
   "source": [
    "df_date_0['diff'] = df_date_0['min_after'] - df_date_0['SG_2']"
   ]
  },
  {
   "cell_type": "code",
   "execution_count": 86,
   "metadata": {},
   "outputs": [
    {
     "data": {
      "text/html": [
       "<div>\n",
       "<style scoped>\n",
       "    .dataframe tbody tr th:only-of-type {\n",
       "        vertical-align: middle;\n",
       "    }\n",
       "\n",
       "    .dataframe tbody tr th {\n",
       "        vertical-align: top;\n",
       "    }\n",
       "\n",
       "    .dataframe thead th {\n",
       "        text-align: right;\n",
       "    }\n",
       "</style>\n",
       "<table border=\"1\" class=\"dataframe\">\n",
       "  <thead>\n",
       "    <tr style=\"text-align: right;\">\n",
       "      <th></th>\n",
       "      <th>date</th>\n",
       "      <th>min_after</th>\n",
       "      <th>ma_dviqly</th>\n",
       "      <th>ma_khang</th>\n",
       "      <th>IMEI</th>\n",
       "      <th>TIME</th>\n",
       "      <th>BT</th>\n",
       "      <th>CD</th>\n",
       "      <th>TD</th>\n",
       "      <th>SG</th>\n",
       "      <th>time_only</th>\n",
       "      <th>SG_2</th>\n",
       "      <th>diff</th>\n",
       "    </tr>\n",
       "  </thead>\n",
       "  <tbody>\n",
       "    <tr>\n",
       "      <th>0</th>\n",
       "      <td>2023-08-30</td>\n",
       "      <td>314.64</td>\n",
       "      <td>PP0100</td>\n",
       "      <td>PP01000633003</td>\n",
       "      <td>3.531960e+15</td>\n",
       "      <td>2023-08-30</td>\n",
       "      <td>205.47</td>\n",
       "      <td>81.24</td>\n",
       "      <td>22.40</td>\n",
       "      <td>309.12</td>\n",
       "      <td>00:00:00</td>\n",
       "      <td>309.11</td>\n",
       "      <td>5.53</td>\n",
       "    </tr>\n",
       "    <tr>\n",
       "      <th>1</th>\n",
       "      <td>2023-09-02</td>\n",
       "      <td>324.24</td>\n",
       "      <td>PP0100</td>\n",
       "      <td>PP01000633003</td>\n",
       "      <td>3.531960e+15</td>\n",
       "      <td>2023-09-02</td>\n",
       "      <td>214.28</td>\n",
       "      <td>84.78</td>\n",
       "      <td>23.54</td>\n",
       "      <td>322.62</td>\n",
       "      <td>00:00:00</td>\n",
       "      <td>322.60</td>\n",
       "      <td>1.64</td>\n",
       "    </tr>\n",
       "    <tr>\n",
       "      <th>2</th>\n",
       "      <td>2023-09-05</td>\n",
       "      <td>334.16</td>\n",
       "      <td>PP0100</td>\n",
       "      <td>PP01000633003</td>\n",
       "      <td>3.531960e+15</td>\n",
       "      <td>2023-09-05</td>\n",
       "      <td>218.04</td>\n",
       "      <td>85.80</td>\n",
       "      <td>24.54</td>\n",
       "      <td>328.39</td>\n",
       "      <td>00:00:00</td>\n",
       "      <td>328.38</td>\n",
       "      <td>5.78</td>\n",
       "    </tr>\n",
       "    <tr>\n",
       "      <th>3</th>\n",
       "      <td>2023-09-08</td>\n",
       "      <td>351.44</td>\n",
       "      <td>PP0100</td>\n",
       "      <td>PP01000633003</td>\n",
       "      <td>3.531960e+15</td>\n",
       "      <td>2023-09-08</td>\n",
       "      <td>229.58</td>\n",
       "      <td>90.45</td>\n",
       "      <td>25.68</td>\n",
       "      <td>345.73</td>\n",
       "      <td>00:00:00</td>\n",
       "      <td>345.71</td>\n",
       "      <td>5.73</td>\n",
       "    </tr>\n",
       "    <tr>\n",
       "      <th>4</th>\n",
       "      <td>2023-09-11</td>\n",
       "      <td>361.45</td>\n",
       "      <td>PP0100</td>\n",
       "      <td>PP01000633003</td>\n",
       "      <td>3.531960e+15</td>\n",
       "      <td>2023-09-11</td>\n",
       "      <td>235.75</td>\n",
       "      <td>92.71</td>\n",
       "      <td>26.67</td>\n",
       "      <td>355.14</td>\n",
       "      <td>00:00:00</td>\n",
       "      <td>355.13</td>\n",
       "      <td>6.32</td>\n",
       "    </tr>\n",
       "    <tr>\n",
       "      <th>5</th>\n",
       "      <td>2023-09-14</td>\n",
       "      <td>NaN</td>\n",
       "      <td>PP0100</td>\n",
       "      <td>PP01000633003</td>\n",
       "      <td>3.531960e+15</td>\n",
       "      <td>2023-09-14</td>\n",
       "      <td>248.07</td>\n",
       "      <td>97.91</td>\n",
       "      <td>27.79</td>\n",
       "      <td>373.77</td>\n",
       "      <td>00:00:00</td>\n",
       "      <td>373.77</td>\n",
       "      <td>NaN</td>\n",
       "    </tr>\n",
       "    <tr>\n",
       "      <th>6</th>\n",
       "      <td>2023-09-19</td>\n",
       "      <td>398.81</td>\n",
       "      <td>PP0100</td>\n",
       "      <td>PP01000633003</td>\n",
       "      <td>3.531960e+15</td>\n",
       "      <td>2023-09-19</td>\n",
       "      <td>260.86</td>\n",
       "      <td>102.87</td>\n",
       "      <td>29.42</td>\n",
       "      <td>393.16</td>\n",
       "      <td>00:00:00</td>\n",
       "      <td>393.15</td>\n",
       "      <td>5.66</td>\n",
       "    </tr>\n",
       "    <tr>\n",
       "      <th>7</th>\n",
       "      <td>2023-09-22</td>\n",
       "      <td>416.06</td>\n",
       "      <td>PP0100</td>\n",
       "      <td>PP01000633003</td>\n",
       "      <td>3.531960e+15</td>\n",
       "      <td>2023-09-22</td>\n",
       "      <td>272.51</td>\n",
       "      <td>107.56</td>\n",
       "      <td>30.43</td>\n",
       "      <td>410.51</td>\n",
       "      <td>00:00:00</td>\n",
       "      <td>410.50</td>\n",
       "      <td>5.56</td>\n",
       "    </tr>\n",
       "    <tr>\n",
       "      <th>8</th>\n",
       "      <td>2023-09-25</td>\n",
       "      <td>423.87</td>\n",
       "      <td>PP0100</td>\n",
       "      <td>PP01000633003</td>\n",
       "      <td>3.531960e+15</td>\n",
       "      <td>2023-09-25</td>\n",
       "      <td>278.52</td>\n",
       "      <td>109.67</td>\n",
       "      <td>31.39</td>\n",
       "      <td>419.59</td>\n",
       "      <td>00:00:00</td>\n",
       "      <td>419.58</td>\n",
       "      <td>4.29</td>\n",
       "    </tr>\n",
       "    <tr>\n",
       "      <th>9</th>\n",
       "      <td>2023-09-28</td>\n",
       "      <td>439.20</td>\n",
       "      <td>PP0100</td>\n",
       "      <td>PP01000633003</td>\n",
       "      <td>3.531960e+15</td>\n",
       "      <td>2023-09-28</td>\n",
       "      <td>288.32</td>\n",
       "      <td>113.66</td>\n",
       "      <td>32.41</td>\n",
       "      <td>434.40</td>\n",
       "      <td>00:00:00</td>\n",
       "      <td>434.39</td>\n",
       "      <td>4.81</td>\n",
       "    </tr>\n",
       "    <tr>\n",
       "      <th>10</th>\n",
       "      <td>2023-10-01</td>\n",
       "      <td>447.78</td>\n",
       "      <td>PP0100</td>\n",
       "      <td>PP01000633003</td>\n",
       "      <td>3.531960e+15</td>\n",
       "      <td>2023-10-01</td>\n",
       "      <td>296.02</td>\n",
       "      <td>116.81</td>\n",
       "      <td>33.44</td>\n",
       "      <td>446.28</td>\n",
       "      <td>00:00:00</td>\n",
       "      <td>446.27</td>\n",
       "      <td>1.51</td>\n",
       "    </tr>\n",
       "    <tr>\n",
       "      <th>11</th>\n",
       "      <td>2023-10-04</td>\n",
       "      <td>463.21</td>\n",
       "      <td>PP0100</td>\n",
       "      <td>PP01000633003</td>\n",
       "      <td>3.531960e+15</td>\n",
       "      <td>2023-10-04</td>\n",
       "      <td>304.12</td>\n",
       "      <td>119.54</td>\n",
       "      <td>34.46</td>\n",
       "      <td>458.12</td>\n",
       "      <td>00:00:00</td>\n",
       "      <td>458.12</td>\n",
       "      <td>5.09</td>\n",
       "    </tr>\n",
       "    <tr>\n",
       "      <th>12</th>\n",
       "      <td>2023-10-07</td>\n",
       "      <td>476.36</td>\n",
       "      <td>PP0100</td>\n",
       "      <td>PP01000633003</td>\n",
       "      <td>3.531960e+15</td>\n",
       "      <td>2023-10-07</td>\n",
       "      <td>314.63</td>\n",
       "      <td>123.84</td>\n",
       "      <td>35.47</td>\n",
       "      <td>473.95</td>\n",
       "      <td>00:00:00</td>\n",
       "      <td>473.94</td>\n",
       "      <td>2.42</td>\n",
       "    </tr>\n",
       "    <tr>\n",
       "      <th>13</th>\n",
       "      <td>2023-10-10</td>\n",
       "      <td>NaN</td>\n",
       "      <td>PP0100</td>\n",
       "      <td>PP01000633003</td>\n",
       "      <td>3.531960e+15</td>\n",
       "      <td>2023-10-10</td>\n",
       "      <td>320.32</td>\n",
       "      <td>125.90</td>\n",
       "      <td>36.43</td>\n",
       "      <td>482.65</td>\n",
       "      <td>00:00:00</td>\n",
       "      <td>482.65</td>\n",
       "      <td>NaN</td>\n",
       "    </tr>\n",
       "  </tbody>\n",
       "</table>\n",
       "</div>"
      ],
      "text/plain": [
       "         date  min_after ma_dviqly       ma_khang          IMEI       TIME  \\\n",
       "0  2023-08-30     314.64    PP0100  PP01000633003  3.531960e+15 2023-08-30   \n",
       "1  2023-09-02     324.24    PP0100  PP01000633003  3.531960e+15 2023-09-02   \n",
       "2  2023-09-05     334.16    PP0100  PP01000633003  3.531960e+15 2023-09-05   \n",
       "3  2023-09-08     351.44    PP0100  PP01000633003  3.531960e+15 2023-09-08   \n",
       "4  2023-09-11     361.45    PP0100  PP01000633003  3.531960e+15 2023-09-11   \n",
       "5  2023-09-14        NaN    PP0100  PP01000633003  3.531960e+15 2023-09-14   \n",
       "6  2023-09-19     398.81    PP0100  PP01000633003  3.531960e+15 2023-09-19   \n",
       "7  2023-09-22     416.06    PP0100  PP01000633003  3.531960e+15 2023-09-22   \n",
       "8  2023-09-25     423.87    PP0100  PP01000633003  3.531960e+15 2023-09-25   \n",
       "9  2023-09-28     439.20    PP0100  PP01000633003  3.531960e+15 2023-09-28   \n",
       "10 2023-10-01     447.78    PP0100  PP01000633003  3.531960e+15 2023-10-01   \n",
       "11 2023-10-04     463.21    PP0100  PP01000633003  3.531960e+15 2023-10-04   \n",
       "12 2023-10-07     476.36    PP0100  PP01000633003  3.531960e+15 2023-10-07   \n",
       "13 2023-10-10        NaN    PP0100  PP01000633003  3.531960e+15 2023-10-10   \n",
       "\n",
       "        BT      CD     TD      SG time_only    SG_2  diff  \n",
       "0   205.47   81.24  22.40  309.12  00:00:00  309.11  5.53  \n",
       "1   214.28   84.78  23.54  322.62  00:00:00  322.60  1.64  \n",
       "2   218.04   85.80  24.54  328.39  00:00:00  328.38  5.78  \n",
       "3   229.58   90.45  25.68  345.73  00:00:00  345.71  5.73  \n",
       "4   235.75   92.71  26.67  355.14  00:00:00  355.13  6.32  \n",
       "5   248.07   97.91  27.79  373.77  00:00:00  373.77   NaN  \n",
       "6   260.86  102.87  29.42  393.16  00:00:00  393.15  5.66  \n",
       "7   272.51  107.56  30.43  410.51  00:00:00  410.50  5.56  \n",
       "8   278.52  109.67  31.39  419.59  00:00:00  419.58  4.29  \n",
       "9   288.32  113.66  32.41  434.40  00:00:00  434.39  4.81  \n",
       "10  296.02  116.81  33.44  446.28  00:00:00  446.27  1.51  \n",
       "11  304.12  119.54  34.46  458.12  00:00:00  458.12  5.09  \n",
       "12  314.63  123.84  35.47  473.95  00:00:00  473.94  2.42  \n",
       "13  320.32  125.90  36.43  482.65  00:00:00  482.65   NaN  "
      ]
     },
     "execution_count": 86,
     "metadata": {},
     "output_type": "execute_result"
    }
   ],
   "source": [
    "df_date_0"
   ]
  },
  {
   "cell_type": "markdown",
   "metadata": {},
   "source": [
    "Cập nhật giá trị 0 của sản lượng bằng diff của df_date_0"
   ]
  },
  {
   "cell_type": "code",
   "execution_count": 87,
   "metadata": {},
   "outputs": [],
   "source": [
    "def fill_usage(row):\n",
    "    if row['total_usage'] != 0:\n",
    "        return row['total_usage']\n",
    "    diff_value = df_date_0[df_date_0['date'] == row['date']]['diff']\n",
    "    return diff_value.values[0] if not diff_value.empty else np.nan"
   ]
  },
  {
   "cell_type": "code",
   "execution_count": 88,
   "metadata": {},
   "outputs": [],
   "source": [
    "total_usage_df['fill_zeros_usage'] = total_usage_df.apply(fill_usage, axis=1)"
   ]
  },
  {
   "cell_type": "code",
   "execution_count": 89,
   "metadata": {},
   "outputs": [
    {
     "data": {
      "text/plain": [
       "<Axes: ylabel='fill_zeros_usage'>"
      ]
     },
     "execution_count": 89,
     "metadata": {},
     "output_type": "execute_result"
    },
    {
     "data": {
      "image/png": "[encoded data removed]",
      "text/plain": [
       "<Figure size 640x480 with 1 Axes>"
      ]
     },
     "metadata": {},
     "output_type": "display_data"
    }
   ],
   "source": [
    "sns.boxplot(data=total_usage_df, y='fill_zeros_usage')"
   ]
  },
  {
   "cell_type": "code",
   "execution_count": 90,
   "metadata": {},
   "outputs": [
    {
     "data": {
      "text/html": [
       "<div>\n",
       "<style scoped>\n",
       "    .dataframe tbody tr th:only-of-type {\n",
       "        vertical-align: middle;\n",
       "    }\n",
       "\n",
       "    .dataframe tbody tr th {\n",
       "        vertical-align: top;\n",
       "    }\n",
       "\n",
       "    .dataframe thead th {\n",
       "        text-align: right;\n",
       "    }\n",
       "</style>\n",
       "<table border=\"1\" class=\"dataframe\">\n",
       "  <thead>\n",
       "    <tr style=\"text-align: right;\">\n",
       "      <th></th>\n",
       "      <th>date</th>\n",
       "      <th>total_usage</th>\n",
       "      <th>is_holiday</th>\n",
       "      <th>temperature</th>\n",
       "      <th>weekday</th>\n",
       "      <th>fill_zeros_usage</th>\n",
       "      <th>min_after</th>\n",
       "      <th>ma_dviqly</th>\n",
       "      <th>ma_khang</th>\n",
       "      <th>IMEI</th>\n",
       "      <th>TIME</th>\n",
       "      <th>BT</th>\n",
       "      <th>CD</th>\n",
       "      <th>TD</th>\n",
       "      <th>SG</th>\n",
       "      <th>time_only</th>\n",
       "      <th>SG_2</th>\n",
       "      <th>diff</th>\n",
       "    </tr>\n",
       "  </thead>\n",
       "  <tbody>\n",
       "    <tr>\n",
       "      <th>0</th>\n",
       "      <td>2023-08-30</td>\n",
       "      <td>0.0</td>\n",
       "      <td>False</td>\n",
       "      <td>27.03</td>\n",
       "      <td>2</td>\n",
       "      <td>5.53</td>\n",
       "      <td>314.64</td>\n",
       "      <td>PP0100</td>\n",
       "      <td>PP01000633003</td>\n",
       "      <td>3.531960e+15</td>\n",
       "      <td>2023-08-30</td>\n",
       "      <td>205.47</td>\n",
       "      <td>81.24</td>\n",
       "      <td>22.40</td>\n",
       "      <td>309.12</td>\n",
       "      <td>00:00:00</td>\n",
       "      <td>309.11</td>\n",
       "      <td>5.53</td>\n",
       "    </tr>\n",
       "    <tr>\n",
       "      <th>1</th>\n",
       "      <td>2023-09-02</td>\n",
       "      <td>0.0</td>\n",
       "      <td>True</td>\n",
       "      <td>30.13</td>\n",
       "      <td>5</td>\n",
       "      <td>1.64</td>\n",
       "      <td>324.24</td>\n",
       "      <td>PP0100</td>\n",
       "      <td>PP01000633003</td>\n",
       "      <td>3.531960e+15</td>\n",
       "      <td>2023-09-02</td>\n",
       "      <td>214.28</td>\n",
       "      <td>84.78</td>\n",
       "      <td>23.54</td>\n",
       "      <td>322.62</td>\n",
       "      <td>00:00:00</td>\n",
       "      <td>322.60</td>\n",
       "      <td>1.64</td>\n",
       "    </tr>\n",
       "    <tr>\n",
       "      <th>2</th>\n",
       "      <td>2023-09-05</td>\n",
       "      <td>0.0</td>\n",
       "      <td>False</td>\n",
       "      <td>27.99</td>\n",
       "      <td>1</td>\n",
       "      <td>5.78</td>\n",
       "      <td>334.16</td>\n",
       "      <td>PP0100</td>\n",
       "      <td>PP01000633003</td>\n",
       "      <td>3.531960e+15</td>\n",
       "      <td>2023-09-05</td>\n",
       "      <td>218.04</td>\n",
       "      <td>85.80</td>\n",
       "      <td>24.54</td>\n",
       "      <td>328.39</td>\n",
       "      <td>00:00:00</td>\n",
       "      <td>328.38</td>\n",
       "      <td>5.78</td>\n",
       "    </tr>\n",
       "    <tr>\n",
       "      <th>3</th>\n",
       "      <td>2023-09-08</td>\n",
       "      <td>0.0</td>\n",
       "      <td>False</td>\n",
       "      <td>28.18</td>\n",
       "      <td>4</td>\n",
       "      <td>5.73</td>\n",
       "      <td>351.44</td>\n",
       "      <td>PP0100</td>\n",
       "      <td>PP01000633003</td>\n",
       "      <td>3.531960e+15</td>\n",
       "      <td>2023-09-08</td>\n",
       "      <td>229.58</td>\n",
       "      <td>90.45</td>\n",
       "      <td>25.68</td>\n",
       "      <td>345.73</td>\n",
       "      <td>00:00:00</td>\n",
       "      <td>345.71</td>\n",
       "      <td>5.73</td>\n",
       "    </tr>\n",
       "    <tr>\n",
       "      <th>4</th>\n",
       "      <td>2023-09-11</td>\n",
       "      <td>0.0</td>\n",
       "      <td>False</td>\n",
       "      <td>29.24</td>\n",
       "      <td>0</td>\n",
       "      <td>6.32</td>\n",
       "      <td>361.45</td>\n",
       "      <td>PP0100</td>\n",
       "      <td>PP01000633003</td>\n",
       "      <td>3.531960e+15</td>\n",
       "      <td>2023-09-11</td>\n",
       "      <td>235.75</td>\n",
       "      <td>92.71</td>\n",
       "      <td>26.67</td>\n",
       "      <td>355.14</td>\n",
       "      <td>00:00:00</td>\n",
       "      <td>355.13</td>\n",
       "      <td>6.32</td>\n",
       "    </tr>\n",
       "    <tr>\n",
       "      <th>5</th>\n",
       "      <td>2023-09-14</td>\n",
       "      <td>0.0</td>\n",
       "      <td>False</td>\n",
       "      <td>26.97</td>\n",
       "      <td>3</td>\n",
       "      <td>NaN</td>\n",
       "      <td>NaN</td>\n",
       "      <td>PP0100</td>\n",
       "      <td>PP01000633003</td>\n",
       "      <td>3.531960e+15</td>\n",
       "      <td>2023-09-14</td>\n",
       "      <td>248.07</td>\n",
       "      <td>97.91</td>\n",
       "      <td>27.79</td>\n",
       "      <td>373.77</td>\n",
       "      <td>00:00:00</td>\n",
       "      <td>373.77</td>\n",
       "      <td>NaN</td>\n",
       "    </tr>\n",
       "    <tr>\n",
       "      <th>6</th>\n",
       "      <td>2023-09-19</td>\n",
       "      <td>0.0</td>\n",
       "      <td>False</td>\n",
       "      <td>28.70</td>\n",
       "      <td>1</td>\n",
       "      <td>5.66</td>\n",
       "      <td>398.81</td>\n",
       "      <td>PP0100</td>\n",
       "      <td>PP01000633003</td>\n",
       "      <td>3.531960e+15</td>\n",
       "      <td>2023-09-19</td>\n",
       "      <td>260.86</td>\n",
       "      <td>102.87</td>\n",
       "      <td>29.42</td>\n",
       "      <td>393.16</td>\n",
       "      <td>00:00:00</td>\n",
       "      <td>393.15</td>\n",
       "      <td>5.66</td>\n",
       "    </tr>\n",
       "    <tr>\n",
       "      <th>7</th>\n",
       "      <td>2023-09-22</td>\n",
       "      <td>0.0</td>\n",
       "      <td>False</td>\n",
       "      <td>28.66</td>\n",
       "      <td>4</td>\n",
       "      <td>5.56</td>\n",
       "      <td>416.06</td>\n",
       "      <td>PP0100</td>\n",
       "      <td>PP01000633003</td>\n",
       "      <td>3.531960e+15</td>\n",
       "      <td>2023-09-22</td>\n",
       "      <td>272.51</td>\n",
       "      <td>107.56</td>\n",
       "      <td>30.43</td>\n",
       "      <td>410.51</td>\n",
       "      <td>00:00:00</td>\n",
       "      <td>410.50</td>\n",
       "      <td>5.56</td>\n",
       "    </tr>\n",
       "    <tr>\n",
       "      <th>8</th>\n",
       "      <td>2023-09-25</td>\n",
       "      <td>0.0</td>\n",
       "      <td>False</td>\n",
       "      <td>27.68</td>\n",
       "      <td>0</td>\n",
       "      <td>4.29</td>\n",
       "      <td>423.87</td>\n",
       "      <td>PP0100</td>\n",
       "      <td>PP01000633003</td>\n",
       "      <td>3.531960e+15</td>\n",
       "      <td>2023-09-25</td>\n",
       "      <td>278.52</td>\n",
       "      <td>109.67</td>\n",
       "      <td>31.39</td>\n",
       "      <td>419.59</td>\n",
       "      <td>00:00:00</td>\n",
       "      <td>419.58</td>\n",
       "      <td>4.29</td>\n",
       "    </tr>\n",
       "    <tr>\n",
       "      <th>9</th>\n",
       "      <td>2023-09-28</td>\n",
       "      <td>0.0</td>\n",
       "      <td>False</td>\n",
       "      <td>27.64</td>\n",
       "      <td>3</td>\n",
       "      <td>4.81</td>\n",
       "      <td>439.20</td>\n",
       "      <td>PP0100</td>\n",
       "      <td>PP01000633003</td>\n",
       "      <td>3.531960e+15</td>\n",
       "      <td>2023-09-28</td>\n",
       "      <td>288.32</td>\n",
       "      <td>113.66</td>\n",
       "      <td>32.41</td>\n",
       "      <td>434.40</td>\n",
       "      <td>00:00:00</td>\n",
       "      <td>434.39</td>\n",
       "      <td>4.81</td>\n",
       "    </tr>\n",
       "    <tr>\n",
       "      <th>10</th>\n",
       "      <td>2023-10-01</td>\n",
       "      <td>0.0</td>\n",
       "      <td>False</td>\n",
       "      <td>27.97</td>\n",
       "      <td>6</td>\n",
       "      <td>1.51</td>\n",
       "      <td>447.78</td>\n",
       "      <td>PP0100</td>\n",
       "      <td>PP01000633003</td>\n",
       "      <td>3.531960e+15</td>\n",
       "      <td>2023-10-01</td>\n",
       "      <td>296.02</td>\n",
       "      <td>116.81</td>\n",
       "      <td>33.44</td>\n",
       "      <td>446.28</td>\n",
       "      <td>00:00:00</td>\n",
       "      <td>446.27</td>\n",
       "      <td>1.51</td>\n",
       "    </tr>\n",
       "    <tr>\n",
       "      <th>11</th>\n",
       "      <td>2023-10-04</td>\n",
       "      <td>0.0</td>\n",
       "      <td>False</td>\n",
       "      <td>27.85</td>\n",
       "      <td>2</td>\n",
       "      <td>5.09</td>\n",
       "      <td>463.21</td>\n",
       "      <td>PP0100</td>\n",
       "      <td>PP01000633003</td>\n",
       "      <td>3.531960e+15</td>\n",
       "      <td>2023-10-04</td>\n",
       "      <td>304.12</td>\n",
       "      <td>119.54</td>\n",
       "      <td>34.46</td>\n",
       "      <td>458.12</td>\n",
       "      <td>00:00:00</td>\n",
       "      <td>458.12</td>\n",
       "      <td>5.09</td>\n",
       "    </tr>\n",
       "    <tr>\n",
       "      <th>12</th>\n",
       "      <td>2023-10-07</td>\n",
       "      <td>0.0</td>\n",
       "      <td>False</td>\n",
       "      <td>27.67</td>\n",
       "      <td>5</td>\n",
       "      <td>2.42</td>\n",
       "      <td>476.36</td>\n",
       "      <td>PP0100</td>\n",
       "      <td>PP01000633003</td>\n",
       "      <td>3.531960e+15</td>\n",
       "      <td>2023-10-07</td>\n",
       "      <td>314.63</td>\n",
       "      <td>123.84</td>\n",
       "      <td>35.47</td>\n",
       "      <td>473.95</td>\n",
       "      <td>00:00:00</td>\n",
       "      <td>473.94</td>\n",
       "      <td>2.42</td>\n",
       "    </tr>\n",
       "    <tr>\n",
       "      <th>13</th>\n",
       "      <td>2023-10-10</td>\n",
       "      <td>0.0</td>\n",
       "      <td>False</td>\n",
       "      <td>26.13</td>\n",
       "      <td>1</td>\n",
       "      <td>NaN</td>\n",
       "      <td>NaN</td>\n",
       "      <td>PP0100</td>\n",
       "      <td>PP01000633003</td>\n",
       "      <td>3.531960e+15</td>\n",
       "      <td>2023-10-10</td>\n",
       "      <td>320.32</td>\n",
       "      <td>125.90</td>\n",
       "      <td>36.43</td>\n",
       "      <td>482.65</td>\n",
       "      <td>00:00:00</td>\n",
       "      <td>482.65</td>\n",
       "      <td>NaN</td>\n",
       "    </tr>\n",
       "  </tbody>\n",
       "</table>\n",
       "</div>"
      ],
      "text/plain": [
       "         date  total_usage  is_holiday  temperature  weekday  \\\n",
       "0  2023-08-30          0.0       False        27.03        2   \n",
       "1  2023-09-02          0.0        True        30.13        5   \n",
       "2  2023-09-05          0.0       False        27.99        1   \n",
       "3  2023-09-08          0.0       False        28.18        4   \n",
       "4  2023-09-11          0.0       False        29.24        0   \n",
       "5  2023-09-14          0.0       False        26.97        3   \n",
       "6  2023-09-19          0.0       False        28.70        1   \n",
       "7  2023-09-22          0.0       False        28.66        4   \n",
       "8  2023-09-25          0.0       False        27.68        0   \n",
       "9  2023-09-28          0.0       False        27.64        3   \n",
       "10 2023-10-01          0.0       False        27.97        6   \n",
       "11 2023-10-04          0.0       False        27.85        2   \n",
       "12 2023-10-07          0.0       False        27.67        5   \n",
       "13 2023-10-10          0.0       False        26.13        1   \n",
       "\n",
       "    fill_zeros_usage  min_after ma_dviqly       ma_khang          IMEI  \\\n",
       "0               5.53     314.64    PP0100  PP01000633003  3.531960e+15   \n",
       "1               1.64     324.24    PP0100  PP01000633003  3.531960e+15   \n",
       "2               5.78     334.16    PP0100  PP01000633003  3.531960e+15   \n",
       "3               5.73     351.44    PP0100  PP01000633003  3.531960e+15   \n",
       "4               6.32     361.45    PP0100  PP01000633003  3.531960e+15   \n",
       "5                NaN        NaN    PP0100  PP01000633003  3.531960e+15   \n",
       "6               5.66     398.81    PP0100  PP01000633003  3.531960e+15   \n",
       "7               5.56     416.06    PP0100  PP01000633003  3.531960e+15   \n",
       "8               4.29     423.87    PP0100  PP01000633003  3.531960e+15   \n",
       "9               4.81     439.20    PP0100  PP01000633003  3.531960e+15   \n",
       "10              1.51     447.78    PP0100  PP01000633003  3.531960e+15   \n",
       "11              5.09     463.21    PP0100  PP01000633003  3.531960e+15   \n",
       "12              2.42     476.36    PP0100  PP01000633003  3.531960e+15   \n",
       "13               NaN        NaN    PP0100  PP01000633003  3.531960e+15   \n",
       "\n",
       "         TIME      BT      CD     TD      SG time_only    SG_2  diff  \n",
       "0  2023-08-30  205.47   81.24  22.40  309.12  00:00:00  309.11  5.53  \n",
       "1  2023-09-02  214.28   84.78  23.54  322.62  00:00:00  322.60  1.64  \n",
       "2  2023-09-05  218.04   85.80  24.54  328.39  00:00:00  328.38  5.78  \n",
       "3  2023-09-08  229.58   90.45  25.68  345.73  00:00:00  345.71  5.73  \n",
       "4  2023-09-11  235.75   92.71  26.67  355.14  00:00:00  355.13  6.32  \n",
       "5  2023-09-14  248.07   97.91  27.79  373.77  00:00:00  373.77   NaN  \n",
       "6  2023-09-19  260.86  102.87  29.42  393.16  00:00:00  393.15  5.66  \n",
       "7  2023-09-22  272.51  107.56  30.43  410.51  00:00:00  410.50  5.56  \n",
       "8  2023-09-25  278.52  109.67  31.39  419.59  00:00:00  419.58  4.29  \n",
       "9  2023-09-28  288.32  113.66  32.41  434.40  00:00:00  434.39  4.81  \n",
       "10 2023-10-01  296.02  116.81  33.44  446.28  00:00:00  446.27  1.51  \n",
       "11 2023-10-04  304.12  119.54  34.46  458.12  00:00:00  458.12  5.09  \n",
       "12 2023-10-07  314.63  123.84  35.47  473.95  00:00:00  473.94  2.42  \n",
       "13 2023-10-10  320.32  125.90  36.43  482.65  00:00:00  482.65   NaN  "
      ]
     },
     "execution_count": 90,
     "metadata": {},
     "output_type": "execute_result"
    }
   ],
   "source": [
    "total_usage_df.merge(df_date_0, how='inner', on=\"date\")"
   ]
  },
  {
   "cell_type": "code",
   "execution_count": 91,
   "metadata": {},
   "outputs": [
    {
     "name": "stdout",
     "output_type": "stream",
     "text": [
      "<class 'pandas.core.frame.DataFrame'>\n",
      "RangeIndex: 920 entries, 0 to 919\n",
      "Data columns (total 6 columns):\n",
      " #   Column            Non-Null Count  Dtype         \n",
      "---  ------            --------------  -----         \n",
      " 0   date              920 non-null    datetime64[ns]\n",
      " 1   total_usage       901 non-null    float64       \n",
      " 2   is_holiday        920 non-null    bool          \n",
      " 3   temperature       920 non-null    float64       \n",
      " 4   weekday           920 non-null    int32         \n",
      " 5   fill_zeros_usage  899 non-null    float64       \n",
      "dtypes: bool(1), datetime64[ns](1), float64(3), int32(1)\n",
      "memory usage: 33.4 KB\n"
     ]
    }
   ],
   "source": [
    "total_usage_df.info()"
   ]
  },
  {
   "cell_type": "code",
   "execution_count": 92,
   "metadata": {},
   "outputs": [
    {
     "data": {
      "text/html": [
       "<div>\n",
       "<style scoped>\n",
       "    .dataframe tbody tr th:only-of-type {\n",
       "        vertical-align: middle;\n",
       "    }\n",
       "\n",
       "    .dataframe tbody tr th {\n",
       "        vertical-align: top;\n",
       "    }\n",
       "\n",
       "    .dataframe thead th {\n",
       "        text-align: right;\n",
       "    }\n",
       "</style>\n",
       "<table border=\"1\" class=\"dataframe\">\n",
       "  <thead>\n",
       "    <tr style=\"text-align: right;\">\n",
       "      <th></th>\n",
       "      <th>date</th>\n",
       "    </tr>\n",
       "  </thead>\n",
       "  <tbody>\n",
       "  </tbody>\n",
       "</table>\n",
       "</div>"
      ],
      "text/plain": [
       "Empty DataFrame\n",
       "Columns: [date]\n",
       "Index: []"
      ]
     },
     "execution_count": 92,
     "metadata": {},
     "output_type": "execute_result"
    }
   ],
   "source": [
    "pd.DataFrame(total_usage_df[total_usage_df['fill_zeros_usage'] == 0]['date'])"
   ]
  },
  {
   "cell_type": "markdown",
   "metadata": {},
   "source": [
    "##### Nhận xét\n",
    "- Fill hết dữ liệu 0, không làm thay đổi phân bố dữ liệu\n",
    "- Thêm 2 giá trị Nan (do không có giá trị của ngày hôm sau), sẽ xử lý sau"
   ]
  },
  {
   "cell_type": "markdown",
   "metadata": {},
   "source": [
    "#### KHẢO SÁT DỮ LIỆU TRỐNG"
   ]
  },
  {
   "cell_type": "code",
   "execution_count": 93,
   "metadata": {},
   "outputs": [
    {
     "data": {
      "text/html": [
       "<div>\n",
       "<style scoped>\n",
       "    .dataframe tbody tr th:only-of-type {\n",
       "        vertical-align: middle;\n",
       "    }\n",
       "\n",
       "    .dataframe tbody tr th {\n",
       "        vertical-align: top;\n",
       "    }\n",
       "\n",
       "    .dataframe thead th {\n",
       "        text-align: right;\n",
       "    }\n",
       "</style>\n",
       "<table border=\"1\" class=\"dataframe\">\n",
       "  <thead>\n",
       "    <tr style=\"text-align: right;\">\n",
       "      <th></th>\n",
       "      <th>date</th>\n",
       "      <th>total_usage</th>\n",
       "      <th>is_holiday</th>\n",
       "      <th>temperature</th>\n",
       "      <th>weekday</th>\n",
       "      <th>fill_zeros_usage</th>\n",
       "    </tr>\n",
       "  </thead>\n",
       "  <tbody>\n",
       "    <tr>\n",
       "      <th>16</th>\n",
       "      <td>2022-01-17</td>\n",
       "      <td>NaN</td>\n",
       "      <td>False</td>\n",
       "      <td>21.57</td>\n",
       "      <td>0</td>\n",
       "      <td>NaN</td>\n",
       "    </tr>\n",
       "    <tr>\n",
       "      <th>494</th>\n",
       "      <td>2023-05-10</td>\n",
       "      <td>NaN</td>\n",
       "      <td>False</td>\n",
       "      <td>27.34</td>\n",
       "      <td>2</td>\n",
       "      <td>NaN</td>\n",
       "    </tr>\n",
       "    <tr>\n",
       "      <th>495</th>\n",
       "      <td>2023-05-11</td>\n",
       "      <td>NaN</td>\n",
       "      <td>False</td>\n",
       "      <td>27.11</td>\n",
       "      <td>3</td>\n",
       "      <td>NaN</td>\n",
       "    </tr>\n",
       "    <tr>\n",
       "      <th>583</th>\n",
       "      <td>2023-08-07</td>\n",
       "      <td>NaN</td>\n",
       "      <td>False</td>\n",
       "      <td>31.88</td>\n",
       "      <td>0</td>\n",
       "      <td>NaN</td>\n",
       "    </tr>\n",
       "    <tr>\n",
       "      <th>584</th>\n",
       "      <td>2023-08-08</td>\n",
       "      <td>NaN</td>\n",
       "      <td>False</td>\n",
       "      <td>32.03</td>\n",
       "      <td>1</td>\n",
       "      <td>NaN</td>\n",
       "    </tr>\n",
       "  </tbody>\n",
       "</table>\n",
       "</div>"
      ],
      "text/plain": [
       "          date  total_usage  is_holiday  temperature  weekday  \\\n",
       "16  2022-01-17          NaN       False        21.57        0   \n",
       "494 2023-05-10          NaN       False        27.34        2   \n",
       "495 2023-05-11          NaN       False        27.11        3   \n",
       "583 2023-08-07          NaN       False        31.88        0   \n",
       "584 2023-08-08          NaN       False        32.03        1   \n",
       "\n",
       "     fill_zeros_usage  \n",
       "16                NaN  \n",
       "494               NaN  \n",
       "495               NaN  \n",
       "583               NaN  \n",
       "584               NaN  "
      ]
     },
     "execution_count": 93,
     "metadata": {},
     "output_type": "execute_result"
    }
   ],
   "source": [
    "null_total_usage_df = total_usage_df[total_usage_df['fill_zeros_usage'].isnull()]\n",
    "null_total_usage_df.head()"
   ]
  },
  {
   "cell_type": "code",
   "execution_count": 94,
   "metadata": {},
   "outputs": [
    {
     "data": {
      "text/html": [
       "<div>\n",
       "<style scoped>\n",
       "    .dataframe tbody tr th:only-of-type {\n",
       "        vertical-align: middle;\n",
       "    }\n",
       "\n",
       "    .dataframe tbody tr th {\n",
       "        vertical-align: top;\n",
       "    }\n",
       "\n",
       "    .dataframe thead th {\n",
       "        text-align: right;\n",
       "    }\n",
       "</style>\n",
       "<table border=\"1\" class=\"dataframe\">\n",
       "  <thead>\n",
       "    <tr style=\"text-align: right;\">\n",
       "      <th></th>\n",
       "      <th>date</th>\n",
       "      <th>total_usage</th>\n",
       "      <th>is_holiday</th>\n",
       "      <th>temperature</th>\n",
       "      <th>weekday</th>\n",
       "      <th>fill_zeros_usage</th>\n",
       "    </tr>\n",
       "  </thead>\n",
       "  <tbody>\n",
       "  </tbody>\n",
       "</table>\n",
       "</div>"
      ],
      "text/plain": [
       "Empty DataFrame\n",
       "Columns: [date, total_usage, is_holiday, temperature, weekday, fill_zeros_usage]\n",
       "Index: []"
      ]
     },
     "execution_count": 94,
     "metadata": {},
     "output_type": "execute_result"
    }
   ],
   "source": [
    "null_total_usage_df[null_total_usage_df['is_holiday'] == True] "
   ]
  },
  {
   "cell_type": "markdown",
   "metadata": {},
   "source": [
    "Không có ngày nào bị thiếu là ngày lễ"
   ]
  },
  {
   "cell_type": "code",
   "execution_count": 95,
   "metadata": {},
   "outputs": [
    {
     "name": "stdout",
     "output_type": "stream",
     "text": [
      "<class 'pandas.core.frame.DataFrame'>\n",
      "Index: 21 entries, 16 to 665\n",
      "Data columns (total 6 columns):\n",
      " #   Column            Non-Null Count  Dtype         \n",
      "---  ------            --------------  -----         \n",
      " 0   date              21 non-null     datetime64[ns]\n",
      " 1   total_usage       2 non-null      float64       \n",
      " 2   is_holiday        21 non-null     bool          \n",
      " 3   temperature       21 non-null     float64       \n",
      " 4   weekday           21 non-null     int32         \n",
      " 5   fill_zeros_usage  0 non-null      float64       \n",
      "dtypes: bool(1), datetime64[ns](1), float64(3), int32(1)\n",
      "memory usage: 945.0 bytes\n"
     ]
    }
   ],
   "source": [
    "null_total_usage_df.info()"
   ]
  },
  {
   "cell_type": "code",
   "execution_count": 96,
   "metadata": {},
   "outputs": [
    {
     "name": "stderr",
     "output_type": "stream",
     "text": [
      "C:\\Users\\ASUS\\AppData\\Local\\Temp\\ipykernel_13052\\1127018365.py:1: SettingWithCopyWarning: \n",
      "A value is trying to be set on a copy of a slice from a DataFrame.\n",
      "Try using .loc[row_indexer,col_indexer] = value instead\n",
      "\n",
      "See the caveats in the documentation: https://pandas.pydata.org/pandas-docs/stable/user_guide/indexing.html#returning-a-view-versus-a-copy\n",
      "  null_total_usage_df.loc[:,'year'] = null_total_usage_df['date'].dt.year\n",
      "C:\\Users\\ASUS\\AppData\\Local\\Temp\\ipykernel_13052\\1127018365.py:2: SettingWithCopyWarning: \n",
      "A value is trying to be set on a copy of a slice from a DataFrame.\n",
      "Try using .loc[row_indexer,col_indexer] = value instead\n",
      "\n",
      "See the caveats in the documentation: https://pandas.pydata.org/pandas-docs/stable/user_guide/indexing.html#returning-a-view-versus-a-copy\n",
      "  null_total_usage_df.loc[:, 'month'] = null_total_usage_df['date'].dt.month\n"
     ]
    }
   ],
   "source": [
    "null_total_usage_df.loc[:,'year'] = null_total_usage_df['date'].dt.year\n",
    "null_total_usage_df.loc[:, 'month'] = null_total_usage_df['date'].dt.month"
   ]
  },
  {
   "cell_type": "code",
   "execution_count": 97,
   "metadata": {},
   "outputs": [
    {
     "data": {
      "text/plain": [
       "<Axes: xlabel='month', ylabel='count'>"
      ]
     },
     "execution_count": 97,
     "metadata": {},
     "output_type": "execute_result"
    },
    {
     "data": {
      "image/png": "[encoded data removed]",
      "text/plain": [
       "<Figure size 640x480 with 1 Axes>"
      ]
     },
     "metadata": {},
     "output_type": "display_data"
    }
   ],
   "source": [
    "sns.countplot(data= null_total_usage_df, x = 'month', hue='year')"
   ]
  },
  {
   "cell_type": "markdown",
   "metadata": {},
   "source": [
    "##### Nhận xét\n",
    "- Dữ liệu trống ít, có thể xử lý bằng lấy giá trị của thứ đó tuần trước: ví dụ bị thiếu dữ liệu vào ngày thứ 5 thì sẽ lấy dữ liệu của ngày thứ 5 tuần trước để fill vào."
   ]
  },
  {
   "cell_type": "markdown",
   "metadata": {},
   "source": [
    "#### XỬ LÝ DỮ LIỆU TRỐNG BẰNG CÁCH TÍNH GIÁ TRỊ CỦA THỨ ĐÓ VÀO TUẦN TRƯỚC"
   ]
  },
  {
   "cell_type": "code",
   "execution_count": 99,
   "metadata": {},
   "outputs": [],
   "source": [
    "def get_pre_7(total_usage_df,date, pre_7_date):\n",
    "    pre_7_usage = np.round(total_usage_df.loc[total_usage_df['date'] == pre_7_date]['fill_zeros_usage'].sum(), decimals=2)\n",
    "    total_usage_df.loc[total_usage_df['date'] == date, 'fill_zeros_usage'] = pre_7_usage\n",
    "    return pre_7_usage"
   ]
  },
  {
   "cell_type": "code",
   "execution_count": 100,
   "metadata": {},
   "outputs": [
    {
     "data": {
      "text/plain": [
       "np.float64(2.97)"
      ]
     },
     "execution_count": 100,
     "metadata": {},
     "output_type": "execute_result"
    }
   ],
   "source": [
    "date = datetime(2022, 1 , 26)\n",
    "pre_7 = date - timedelta(days=7)\n",
    "get_pre_7(total_usage_df=total_usage_df, date=date, pre_7_date = pre_7)"
   ]
  },
  {
   "cell_type": "code",
   "execution_count": 101,
   "metadata": {},
   "outputs": [
    {
     "data": {
      "text/plain": [
       "np.float64(2.97)"
      ]
     },
     "execution_count": 101,
     "metadata": {},
     "output_type": "execute_result"
    }
   ],
   "source": [
    "np.round(total_usage_df.loc[total_usage_df['date'] == pre_7]['fill_zeros_usage'].sum(), decimals=2)"
   ]
  },
  {
   "cell_type": "code",
   "execution_count": 102,
   "metadata": {},
   "outputs": [],
   "source": [
    "total_usage_df['new_total_usage'] = total_usage_df.apply(\n",
    "    lambda row: row['fill_zeros_usage'] if not pd.isna(row['fill_zeros_usage']) else get_pre_7(\n",
    "        total_usage_df=total_usage_df, \n",
    "        date = row['date'],\n",
    "        pre_7_date=row['date'] - timedelta(days=7)\n",
    "    ), \n",
    "    axis='columns'\n",
    ")"
   ]
  },
  {
   "cell_type": "code",
   "execution_count": 103,
   "metadata": {},
   "outputs": [
    {
     "data": {
      "text/html": [
       "<div>\n",
       "<style scoped>\n",
       "    .dataframe tbody tr th:only-of-type {\n",
       "        vertical-align: middle;\n",
       "    }\n",
       "\n",
       "    .dataframe tbody tr th {\n",
       "        vertical-align: top;\n",
       "    }\n",
       "\n",
       "    .dataframe thead th {\n",
       "        text-align: right;\n",
       "    }\n",
       "</style>\n",
       "<table border=\"1\" class=\"dataframe\">\n",
       "  <thead>\n",
       "    <tr style=\"text-align: right;\">\n",
       "      <th></th>\n",
       "      <th>date</th>\n",
       "      <th>total_usage</th>\n",
       "      <th>is_holiday</th>\n",
       "      <th>temperature</th>\n",
       "      <th>weekday</th>\n",
       "      <th>fill_zeros_usage</th>\n",
       "      <th>new_total_usage</th>\n",
       "    </tr>\n",
       "  </thead>\n",
       "  <tbody>\n",
       "  </tbody>\n",
       "</table>\n",
       "</div>"
      ],
      "text/plain": [
       "Empty DataFrame\n",
       "Columns: [date, total_usage, is_holiday, temperature, weekday, fill_zeros_usage, new_total_usage]\n",
       "Index: []"
      ]
     },
     "execution_count": 103,
     "metadata": {},
     "output_type": "execute_result"
    }
   ],
   "source": [
    "nan_rows = total_usage_df[total_usage_df['new_total_usage'].isnull()]\n",
    "nan_rows"
   ]
  },
  {
   "cell_type": "code",
   "execution_count": 104,
   "metadata": {},
   "outputs": [
    {
     "name": "stdout",
     "output_type": "stream",
     "text": [
      "<class 'pandas.core.frame.DataFrame'>\n",
      "RangeIndex: 920 entries, 0 to 919\n",
      "Data columns (total 7 columns):\n",
      " #   Column            Non-Null Count  Dtype         \n",
      "---  ------            --------------  -----         \n",
      " 0   date              920 non-null    datetime64[ns]\n",
      " 1   total_usage       901 non-null    float64       \n",
      " 2   is_holiday        920 non-null    bool          \n",
      " 3   temperature       920 non-null    float64       \n",
      " 4   weekday           920 non-null    int32         \n",
      " 5   fill_zeros_usage  920 non-null    float64       \n",
      " 6   new_total_usage   920 non-null    float64       \n",
      "dtypes: bool(1), datetime64[ns](1), float64(4), int32(1)\n",
      "memory usage: 40.6 KB\n"
     ]
    }
   ],
   "source": [
    "total_usage_df.info()"
   ]
  },
  {
   "cell_type": "markdown",
   "metadata": {},
   "source": [
    "#### KHẢO SÁT BIẾN MỤC TIÊU"
   ]
  },
  {
   "cell_type": "code",
   "execution_count": 105,
   "metadata": {},
   "outputs": [
    {
     "data": {
      "text/plain": [
       "<Axes: ylabel='new_total_usage'>"
      ]
     },
     "execution_count": 105,
     "metadata": {},
     "output_type": "execute_result"
    },
    {
     "data": {
      "image/png": "[encoded data removed]",
      "text/plain": [
       "<Figure size 640x480 with 1 Axes>"
      ]
     },
     "metadata": {},
     "output_type": "display_data"
    }
   ],
   "source": [
    "sns.boxplot(data=total_usage_df, y ='new_total_usage')"
   ]
  },
  {
   "cell_type": "code",
   "execution_count": 106,
   "metadata": {},
   "outputs": [
    {
     "data": {
      "text/html": [
       "<div>\n",
       "<style scoped>\n",
       "    .dataframe tbody tr th:only-of-type {\n",
       "        vertical-align: middle;\n",
       "    }\n",
       "\n",
       "    .dataframe tbody tr th {\n",
       "        vertical-align: top;\n",
       "    }\n",
       "\n",
       "    .dataframe thead th {\n",
       "        text-align: right;\n",
       "    }\n",
       "</style>\n",
       "<table border=\"1\" class=\"dataframe\">\n",
       "  <thead>\n",
       "    <tr style=\"text-align: right;\">\n",
       "      <th></th>\n",
       "      <th>date</th>\n",
       "      <th>total_usage</th>\n",
       "      <th>is_holiday</th>\n",
       "      <th>temperature</th>\n",
       "      <th>weekday</th>\n",
       "      <th>fill_zeros_usage</th>\n",
       "      <th>new_total_usage</th>\n",
       "    </tr>\n",
       "  </thead>\n",
       "  <tbody>\n",
       "  </tbody>\n",
       "</table>\n",
       "</div>"
      ],
      "text/plain": [
       "Empty DataFrame\n",
       "Columns: [date, total_usage, is_holiday, temperature, weekday, fill_zeros_usage, new_total_usage]\n",
       "Index: []"
      ]
     },
     "execution_count": 106,
     "metadata": {},
     "output_type": "execute_result"
    }
   ],
   "source": [
    "total_usage_df[total_usage_df['new_total_usage'] == 0]"
   ]
  },
  {
   "cell_type": "code",
   "execution_count": 107,
   "metadata": {},
   "outputs": [
    {
     "name": "stdout",
     "output_type": "stream",
     "text": [
      "<class 'pandas.core.frame.DataFrame'>\n",
      "RangeIndex: 920 entries, 0 to 919\n",
      "Data columns (total 7 columns):\n",
      " #   Column            Non-Null Count  Dtype         \n",
      "---  ------            --------------  -----         \n",
      " 0   date              920 non-null    datetime64[ns]\n",
      " 1   total_usage       901 non-null    float64       \n",
      " 2   is_holiday        920 non-null    bool          \n",
      " 3   temperature       920 non-null    float64       \n",
      " 4   weekday           920 non-null    int32         \n",
      " 5   fill_zeros_usage  920 non-null    float64       \n",
      " 6   new_total_usage   920 non-null    float64       \n",
      "dtypes: bool(1), datetime64[ns](1), float64(4), int32(1)\n",
      "memory usage: 40.6 KB\n"
     ]
    }
   ],
   "source": [
    "total_usage_df.info()"
   ]
  },
  {
   "cell_type": "markdown",
   "metadata": {},
   "source": [
    "##### Nhận xét\n",
    "- Đã xử lí xong dữ liệu 0 và dữ liệu null\n",
    "- Mean của dữ liệu bị thay đổi nhẹ"
   ]
  },
  {
   "cell_type": "markdown",
   "metadata": {},
   "source": [
    "#### NHÂN SẢN LƯỢNG VỚI HỆ SỐ = 1100"
   ]
  },
  {
   "cell_type": "code",
   "execution_count": 108,
   "metadata": {},
   "outputs": [
    {
     "data": {
      "text/html": [
       "<div>\n",
       "<style scoped>\n",
       "    .dataframe tbody tr th:only-of-type {\n",
       "        vertical-align: middle;\n",
       "    }\n",
       "\n",
       "    .dataframe tbody tr th {\n",
       "        vertical-align: top;\n",
       "    }\n",
       "\n",
       "    .dataframe thead th {\n",
       "        text-align: right;\n",
       "    }\n",
       "</style>\n",
       "<table border=\"1\" class=\"dataframe\">\n",
       "  <thead>\n",
       "    <tr style=\"text-align: right;\">\n",
       "      <th></th>\n",
       "      <th>date</th>\n",
       "      <th>total_usage</th>\n",
       "      <th>is_holiday</th>\n",
       "      <th>temperature</th>\n",
       "      <th>weekday</th>\n",
       "      <th>fill_zeros_usage</th>\n",
       "      <th>new_total_usage</th>\n",
       "    </tr>\n",
       "  </thead>\n",
       "  <tbody>\n",
       "    <tr>\n",
       "      <th>0</th>\n",
       "      <td>2022-01-01</td>\n",
       "      <td>1.36</td>\n",
       "      <td>True</td>\n",
       "      <td>21.89</td>\n",
       "      <td>5</td>\n",
       "      <td>1.36</td>\n",
       "      <td>1496.0</td>\n",
       "    </tr>\n",
       "    <tr>\n",
       "      <th>1</th>\n",
       "      <td>2022-01-02</td>\n",
       "      <td>1.07</td>\n",
       "      <td>False</td>\n",
       "      <td>21.96</td>\n",
       "      <td>6</td>\n",
       "      <td>1.07</td>\n",
       "      <td>1177.0</td>\n",
       "    </tr>\n",
       "    <tr>\n",
       "      <th>2</th>\n",
       "      <td>2022-01-03</td>\n",
       "      <td>1.33</td>\n",
       "      <td>True</td>\n",
       "      <td>21.99</td>\n",
       "      <td>0</td>\n",
       "      <td>1.33</td>\n",
       "      <td>1463.0</td>\n",
       "    </tr>\n",
       "    <tr>\n",
       "      <th>3</th>\n",
       "      <td>2022-01-04</td>\n",
       "      <td>3.67</td>\n",
       "      <td>False</td>\n",
       "      <td>22.57</td>\n",
       "      <td>1</td>\n",
       "      <td>3.67</td>\n",
       "      <td>4037.0</td>\n",
       "    </tr>\n",
       "    <tr>\n",
       "      <th>4</th>\n",
       "      <td>2022-01-05</td>\n",
       "      <td>3.81</td>\n",
       "      <td>False</td>\n",
       "      <td>22.97</td>\n",
       "      <td>2</td>\n",
       "      <td>3.81</td>\n",
       "      <td>4191.0</td>\n",
       "    </tr>\n",
       "  </tbody>\n",
       "</table>\n",
       "</div>"
      ],
      "text/plain": [
       "        date  total_usage  is_holiday  temperature  weekday  fill_zeros_usage  \\\n",
       "0 2022-01-01         1.36        True        21.89        5              1.36   \n",
       "1 2022-01-02         1.07       False        21.96        6              1.07   \n",
       "2 2022-01-03         1.33        True        21.99        0              1.33   \n",
       "3 2022-01-04         3.67       False        22.57        1              3.67   \n",
       "4 2022-01-05         3.81       False        22.97        2              3.81   \n",
       "\n",
       "   new_total_usage  \n",
       "0           1496.0  \n",
       "1           1177.0  \n",
       "2           1463.0  \n",
       "3           4037.0  \n",
       "4           4191.0  "
      ]
     },
     "execution_count": 108,
     "metadata": {},
     "output_type": "execute_result"
    }
   ],
   "source": [
    "total_usage_df['new_total_usage'] = total_usage_df['new_total_usage']*1100\n",
    "total_usage_df.head()"
   ]
  },
  {
   "cell_type": "markdown",
   "metadata": {},
   "source": [
    "#### KHẢO SÁT MỐI LIÊN HỆ ĐA BIẾN"
   ]
  },
  {
   "cell_type": "code",
   "execution_count": 109,
   "metadata": {},
   "outputs": [
    {
     "data": {
      "text/plain": [
       "<Axes: xlabel='date', ylabel='new_total_usage'>"
      ]
     },
     "execution_count": 109,
     "metadata": {},
     "output_type": "execute_result"
    },
    {
     "data": {
      "image/png": "[encoded data removed]",
      "text/plain": [
       "<Figure size 640x480 with 1 Axes>"
      ]
     },
     "metadata": {},
     "output_type": "display_data"
    }
   ],
   "source": [
    "sns.lineplot(data=total_usage_df, x = 'date', y='new_total_usage')"
   ]
  },
  {
   "cell_type": "code",
   "execution_count": 110,
   "metadata": {},
   "outputs": [
    {
     "data": {
      "text/plain": [
       "<seaborn.axisgrid.FacetGrid at 0x22b9fb238c0>"
      ]
     },
     "execution_count": 110,
     "metadata": {},
     "output_type": "execute_result"
    },
    {
     "data": {
      "image/png": "[encoded data removed]",
      "text/plain": [
       "<Figure size 511.111x500 with 1 Axes>"
      ]
     },
     "metadata": {},
     "output_type": "display_data"
    }
   ],
   "source": [
    "sns.catplot(data=total_usage_df, x='is_holiday', y = 'new_total_usage', kind='box')"
   ]
  },
  {
   "cell_type": "code",
   "execution_count": 111,
   "metadata": {},
   "outputs": [
    {
     "data": {
      "text/plain": [
       "<seaborn.axisgrid.FacetGrid at 0x22b9ce9f860>"
      ]
     },
     "execution_count": 111,
     "metadata": {},
     "output_type": "execute_result"
    },
    {
     "data": {
      "image/png": "[encoded data removed]",
      "text/plain": [
       "<Figure size 511.111x500 with 1 Axes>"
      ]
     },
     "metadata": {},
     "output_type": "display_data"
    }
   ],
   "source": [
    "#boxplot\n",
    "sns.catplot(data=total_usage_df, x='weekday', y = 'new_total_usage', kind='box')"
   ]
  },
  {
   "cell_type": "code",
   "execution_count": 112,
   "metadata": {},
   "outputs": [
    {
     "data": {
      "text/plain": [
       "<seaborn.axisgrid.FacetGrid at 0x22b9ce9eb40>"
      ]
     },
     "execution_count": 112,
     "metadata": {},
     "output_type": "execute_result"
    },
    {
     "data": {
      "image/png": "[encoded data removed]",
      "text/plain": [
       "<Figure size 573.361x500 with 1 Axes>"
      ]
     },
     "metadata": {},
     "output_type": "display_data"
    }
   ],
   "source": [
    "sns.relplot(data=total_usage_df,x='temperature', y='new_total_usage', hue='weekday' )"
   ]
  },
  {
   "cell_type": "code",
   "execution_count": 113,
   "metadata": {},
   "outputs": [
    {
     "data": {
      "image/png": "[encoded data removed]",
      "text/plain": [
       "<Figure size 640x480 with 1 Axes>"
      ]
     },
     "metadata": {},
     "output_type": "display_data"
    }
   ],
   "source": [
    "acf_plot = plot_acf(total_usage_df.new_total_usage, lags=600)"
   ]
  },
  {
   "cell_type": "code",
   "execution_count": 114,
   "metadata": {},
   "outputs": [
    {
     "data": {
      "image/png": "[encoded data removed]",
      "text/plain": [
       "<Figure size 640x480 with 1 Axes>"
      ]
     },
     "metadata": {},
     "output_type": "display_data"
    }
   ],
   "source": [
    "pacf_plot = plot_pacf(total_usage_df.new_total_usage)"
   ]
  },
  {
   "cell_type": "markdown",
   "metadata": {},
   "source": [
    "##### Nhận xét\n",
    "- Sản lượng có sự khác nhau giữa ngày lễ hoặc không: ngày lễ chỉ thuộc vào Q1 của không ngày lễ\n",
    "- Có sự khác nhau rõ rệt về sản lượng giữa các ngày trong tuần và 2 ngày cuối tuần\n",
    "- Đặc biệt, có sự tương quan thuận khá mạnh của sản lượng và nhiệt độ, vào những ngày trong tuần\n",
    "- ACF có dấu hiệu dimishing \n",
    "- Theo PACF thì các lag: 6, 7, 14, 21 có mối tương quan khá tốt"
   ]
  },
  {
   "cell_type": "markdown",
   "metadata": {},
   "source": [
    "#### TẠO LAG CHO SẢN LƯỢNG:\n",
    "- Tạo các lag 6, 7, 14, 21 "
   ]
  },
  {
   "cell_type": "markdown",
   "metadata": {},
   "source": [
    "Lag cho 7 ngày gần nhất"
   ]
  },
  {
   "cell_type": "code",
   "execution_count": 115,
   "metadata": {},
   "outputs": [],
   "source": [
    "lags = [6, 7, 14, 21]\n",
    "# Tạo các cột lag tương ứng\n",
    "for lag in lags:\n",
    "    total_usage_df[f'new_total_usage_lag{lag}'] = total_usage_df['new_total_usage'].shift(lag)\n"
   ]
  },
  {
   "cell_type": "code",
   "execution_count": 116,
   "metadata": {},
   "outputs": [
    {
     "data": {
      "text/html": [
       "<div>\n",
       "<style scoped>\n",
       "    .dataframe tbody tr th:only-of-type {\n",
       "        vertical-align: middle;\n",
       "    }\n",
       "\n",
       "    .dataframe tbody tr th {\n",
       "        vertical-align: top;\n",
       "    }\n",
       "\n",
       "    .dataframe thead th {\n",
       "        text-align: right;\n",
       "    }\n",
       "</style>\n",
       "<table border=\"1\" class=\"dataframe\">\n",
       "  <thead>\n",
       "    <tr style=\"text-align: right;\">\n",
       "      <th></th>\n",
       "      <th>date</th>\n",
       "      <th>total_usage</th>\n",
       "      <th>is_holiday</th>\n",
       "      <th>temperature</th>\n",
       "      <th>weekday</th>\n",
       "      <th>fill_zeros_usage</th>\n",
       "      <th>new_total_usage</th>\n",
       "      <th>new_total_usage_lag6</th>\n",
       "      <th>new_total_usage_lag7</th>\n",
       "      <th>new_total_usage_lag14</th>\n",
       "      <th>new_total_usage_lag21</th>\n",
       "    </tr>\n",
       "  </thead>\n",
       "  <tbody>\n",
       "    <tr>\n",
       "      <th>0</th>\n",
       "      <td>2022-01-01</td>\n",
       "      <td>1.36</td>\n",
       "      <td>True</td>\n",
       "      <td>21.89</td>\n",
       "      <td>5</td>\n",
       "      <td>1.36</td>\n",
       "      <td>1496.0</td>\n",
       "      <td>NaN</td>\n",
       "      <td>NaN</td>\n",
       "      <td>NaN</td>\n",
       "      <td>NaN</td>\n",
       "    </tr>\n",
       "    <tr>\n",
       "      <th>1</th>\n",
       "      <td>2022-01-02</td>\n",
       "      <td>1.07</td>\n",
       "      <td>False</td>\n",
       "      <td>21.96</td>\n",
       "      <td>6</td>\n",
       "      <td>1.07</td>\n",
       "      <td>1177.0</td>\n",
       "      <td>NaN</td>\n",
       "      <td>NaN</td>\n",
       "      <td>NaN</td>\n",
       "      <td>NaN</td>\n",
       "    </tr>\n",
       "    <tr>\n",
       "      <th>2</th>\n",
       "      <td>2022-01-03</td>\n",
       "      <td>1.33</td>\n",
       "      <td>True</td>\n",
       "      <td>21.99</td>\n",
       "      <td>0</td>\n",
       "      <td>1.33</td>\n",
       "      <td>1463.0</td>\n",
       "      <td>NaN</td>\n",
       "      <td>NaN</td>\n",
       "      <td>NaN</td>\n",
       "      <td>NaN</td>\n",
       "    </tr>\n",
       "    <tr>\n",
       "      <th>3</th>\n",
       "      <td>2022-01-04</td>\n",
       "      <td>3.67</td>\n",
       "      <td>False</td>\n",
       "      <td>22.57</td>\n",
       "      <td>1</td>\n",
       "      <td>3.67</td>\n",
       "      <td>4037.0</td>\n",
       "      <td>NaN</td>\n",
       "      <td>NaN</td>\n",
       "      <td>NaN</td>\n",
       "      <td>NaN</td>\n",
       "    </tr>\n",
       "    <tr>\n",
       "      <th>4</th>\n",
       "      <td>2022-01-05</td>\n",
       "      <td>3.81</td>\n",
       "      <td>False</td>\n",
       "      <td>22.97</td>\n",
       "      <td>2</td>\n",
       "      <td>3.81</td>\n",
       "      <td>4191.0</td>\n",
       "      <td>NaN</td>\n",
       "      <td>NaN</td>\n",
       "      <td>NaN</td>\n",
       "      <td>NaN</td>\n",
       "    </tr>\n",
       "  </tbody>\n",
       "</table>\n",
       "</div>"
      ],
      "text/plain": [
       "        date  total_usage  is_holiday  temperature  weekday  fill_zeros_usage  \\\n",
       "0 2022-01-01         1.36        True        21.89        5              1.36   \n",
       "1 2022-01-02         1.07       False        21.96        6              1.07   \n",
       "2 2022-01-03         1.33        True        21.99        0              1.33   \n",
       "3 2022-01-04         3.67       False        22.57        1              3.67   \n",
       "4 2022-01-05         3.81       False        22.97        2              3.81   \n",
       "\n",
       "   new_total_usage  new_total_usage_lag6  new_total_usage_lag7  \\\n",
       "0           1496.0                   NaN                   NaN   \n",
       "1           1177.0                   NaN                   NaN   \n",
       "2           1463.0                   NaN                   NaN   \n",
       "3           4037.0                   NaN                   NaN   \n",
       "4           4191.0                   NaN                   NaN   \n",
       "\n",
       "   new_total_usage_lag14  new_total_usage_lag21  \n",
       "0                    NaN                    NaN  \n",
       "1                    NaN                    NaN  \n",
       "2                    NaN                    NaN  \n",
       "3                    NaN                    NaN  \n",
       "4                    NaN                    NaN  "
      ]
     },
     "execution_count": 116,
     "metadata": {},
     "output_type": "execute_result"
    }
   ],
   "source": [
    "total_usage_df.head()"
   ]
  },
  {
   "cell_type": "code",
   "execution_count": 117,
   "metadata": {},
   "outputs": [
    {
     "name": "stdout",
     "output_type": "stream",
     "text": [
      "<class 'pandas.core.frame.DataFrame'>\n",
      "RangeIndex: 920 entries, 0 to 919\n",
      "Data columns (total 11 columns):\n",
      " #   Column                 Non-Null Count  Dtype         \n",
      "---  ------                 --------------  -----         \n",
      " 0   date                   920 non-null    datetime64[ns]\n",
      " 1   total_usage            901 non-null    float64       \n",
      " 2   is_holiday             920 non-null    bool          \n",
      " 3   temperature            920 non-null    float64       \n",
      " 4   weekday                920 non-null    int32         \n",
      " 5   fill_zeros_usage       920 non-null    float64       \n",
      " 6   new_total_usage        920 non-null    float64       \n",
      " 7   new_total_usage_lag6   914 non-null    float64       \n",
      " 8   new_total_usage_lag7   913 non-null    float64       \n",
      " 9   new_total_usage_lag14  906 non-null    float64       \n",
      " 10  new_total_usage_lag21  899 non-null    float64       \n",
      "dtypes: bool(1), datetime64[ns](1), float64(8), int32(1)\n",
      "memory usage: 69.3 KB\n"
     ]
    }
   ],
   "source": [
    "total_usage_df.info()"
   ]
  },
  {
   "cell_type": "markdown",
   "metadata": {},
   "source": [
    "Xóa những record có lag bị na"
   ]
  },
  {
   "cell_type": "code",
   "execution_count": 118,
   "metadata": {},
   "outputs": [],
   "source": [
    "columns_to_check = [f'new_total_usage_lag{lag}' for lag in lags]\n",
    "\n",
    "# Xóa các bản ghi bị NaN trong các cột lag\n",
    "total_usage_df.dropna(inplace=True, subset=columns_to_check)"
   ]
  },
  {
   "cell_type": "code",
   "execution_count": 119,
   "metadata": {},
   "outputs": [
    {
     "name": "stdout",
     "output_type": "stream",
     "text": [
      "<class 'pandas.core.frame.DataFrame'>\n",
      "Index: 899 entries, 21 to 919\n",
      "Data columns (total 11 columns):\n",
      " #   Column                 Non-Null Count  Dtype         \n",
      "---  ------                 --------------  -----         \n",
      " 0   date                   899 non-null    datetime64[ns]\n",
      " 1   total_usage            881 non-null    float64       \n",
      " 2   is_holiday             899 non-null    bool          \n",
      " 3   temperature            899 non-null    float64       \n",
      " 4   weekday                899 non-null    int32         \n",
      " 5   fill_zeros_usage       899 non-null    float64       \n",
      " 6   new_total_usage        899 non-null    float64       \n",
      " 7   new_total_usage_lag6   899 non-null    float64       \n",
      " 8   new_total_usage_lag7   899 non-null    float64       \n",
      " 9   new_total_usage_lag14  899 non-null    float64       \n",
      " 10  new_total_usage_lag21  899 non-null    float64       \n",
      "dtypes: bool(1), datetime64[ns](1), float64(8), int32(1)\n",
      "memory usage: 74.6 KB\n"
     ]
    }
   ],
   "source": [
    "total_usage_df.info()"
   ]
  },
  {
   "cell_type": "markdown",
   "metadata": {},
   "source": [
    "##### Nhận xét\n",
    " - Đã xử lý, chỉ còn 906/920 dòng dữ liệu (do đã remove những dữ liệu có lag bị thiếu, khớp với số dòng lag bị thiếu của cột new_total_usage_lag14)"
   ]
  },
  {
   "cell_type": "markdown",
   "metadata": {},
   "source": [
    "#### Chuẩn bị dữ liệu"
   ]
  },
  {
   "cell_type": "code",
   "execution_count": null,
   "metadata": {},
   "outputs": [
    {
     "data": {
      "text/html": [
       "<div>\n",
       "<style scoped>\n",
       "    .dataframe tbody tr th:only-of-type {\n",
       "        vertical-align: middle;\n",
       "    }\n",
       "\n",
       "    .dataframe tbody tr th {\n",
       "        vertical-align: top;\n",
       "    }\n",
       "\n",
       "    .dataframe thead th {\n",
       "        text-align: right;\n",
       "    }\n",
       "</style>\n",
       "<table border=\"1\" class=\"dataframe\">\n",
       "  <thead>\n",
       "    <tr style=\"text-align: right;\">\n",
       "      <th></th>\n",
       "      <th>date</th>\n",
       "      <th>total_usage</th>\n",
       "      <th>is_holiday</th>\n",
       "      <th>temperature</th>\n",
       "      <th>weekday</th>\n",
       "      <th>fill_zeros_usage</th>\n",
       "      <th>new_total_usage</th>\n",
       "      <th>new_total_usage_lag6</th>\n",
       "      <th>new_total_usage_lag7</th>\n",
       "      <th>new_total_usage_lag14</th>\n",
       "      <th>new_total_usage_lag21</th>\n",
       "    </tr>\n",
       "  </thead>\n",
       "  <tbody>\n",
       "    <tr>\n",
       "      <th>21</th>\n",
       "      <td>2022-01-22</td>\n",
       "      <td>2.05</td>\n",
       "      <td>False</td>\n",
       "      <td>23.16</td>\n",
       "      <td>5</td>\n",
       "      <td>2.05</td>\n",
       "      <td>2255.0</td>\n",
       "      <td>1408.0</td>\n",
       "      <td>2101.0</td>\n",
       "      <td>2035.0</td>\n",
       "      <td>1496.0</td>\n",
       "    </tr>\n",
       "    <tr>\n",
       "      <th>22</th>\n",
       "      <td>2022-01-23</td>\n",
       "      <td>1.32</td>\n",
       "      <td>False</td>\n",
       "      <td>23.47</td>\n",
       "      <td>6</td>\n",
       "      <td>1.32</td>\n",
       "      <td>1452.0</td>\n",
       "      <td>4686.0</td>\n",
       "      <td>1408.0</td>\n",
       "      <td>1474.0</td>\n",
       "      <td>1177.0</td>\n",
       "    </tr>\n",
       "    <tr>\n",
       "      <th>23</th>\n",
       "      <td>2022-01-24</td>\n",
       "      <td>4.35</td>\n",
       "      <td>False</td>\n",
       "      <td>22.95</td>\n",
       "      <td>0</td>\n",
       "      <td>4.35</td>\n",
       "      <td>4785.0</td>\n",
       "      <td>3674.0</td>\n",
       "      <td>4686.0</td>\n",
       "      <td>4686.0</td>\n",
       "      <td>1463.0</td>\n",
       "    </tr>\n",
       "    <tr>\n",
       "      <th>24</th>\n",
       "      <td>2022-01-25</td>\n",
       "      <td>3.81</td>\n",
       "      <td>False</td>\n",
       "      <td>22.95</td>\n",
       "      <td>1</td>\n",
       "      <td>3.81</td>\n",
       "      <td>4191.0</td>\n",
       "      <td>3267.0</td>\n",
       "      <td>3674.0</td>\n",
       "      <td>4664.0</td>\n",
       "      <td>4037.0</td>\n",
       "    </tr>\n",
       "    <tr>\n",
       "      <th>25</th>\n",
       "      <td>2022-01-26</td>\n",
       "      <td>3.89</td>\n",
       "      <td>False</td>\n",
       "      <td>22.69</td>\n",
       "      <td>2</td>\n",
       "      <td>2.97</td>\n",
       "      <td>3267.0</td>\n",
       "      <td>3960.0</td>\n",
       "      <td>3267.0</td>\n",
       "      <td>4026.0</td>\n",
       "      <td>4191.0</td>\n",
       "    </tr>\n",
       "  </tbody>\n",
       "</table>\n",
       "</div>"
      ],
      "text/plain": [
       "         date  total_usage  is_holiday  temperature  weekday  \\\n",
       "21 2022-01-22         2.05       False        23.16        5   \n",
       "22 2022-01-23         1.32       False        23.47        6   \n",
       "23 2022-01-24         4.35       False        22.95        0   \n",
       "24 2022-01-25         3.81       False        22.95        1   \n",
       "25 2022-01-26         3.89       False        22.69        2   \n",
       "\n",
       "    fill_zeros_usage  new_total_usage  new_total_usage_lag6  \\\n",
       "21              2.05           2255.0                1408.0   \n",
       "22              1.32           1452.0                4686.0   \n",
       "23              4.35           4785.0                3674.0   \n",
       "24              3.81           4191.0                3267.0   \n",
       "25              2.97           3267.0                3960.0   \n",
       "\n",
       "    new_total_usage_lag7  new_total_usage_lag14  new_total_usage_lag21  \n",
       "21                2101.0                 2035.0                 1496.0  \n",
       "22                1408.0                 1474.0                 1177.0  \n",
       "23                4686.0                 4686.0                 1463.0  \n",
       "24                3674.0                 4664.0                 4037.0  \n",
       "25                3267.0                 4026.0                 4191.0  "
      ]
     },
     "metadata": {},
     "output_type": "display_data"
    }
   ],
   "source": [
    "total_usage_df.head()"
   ]
  },
  {
   "cell_type": "markdown",
   "metadata": {},
   "source": [
    "Xóa cột date, total_usage, fill_zeros_usage"
   ]
  },
  {
   "cell_type": "code",
   "execution_count": null,
   "metadata": {},
   "outputs": [
    {
     "data": {
      "text/html": [
       "<div>\n",
       "<style scoped>\n",
       "    .dataframe tbody tr th:only-of-type {\n",
       "        vertical-align: middle;\n",
       "    }\n",
       "\n",
       "    .dataframe tbody tr th {\n",
       "        vertical-align: top;\n",
       "    }\n",
       "\n",
       "    .dataframe thead th {\n",
       "        text-align: right;\n",
       "    }\n",
       "</style>\n",
       "<table border=\"1\" class=\"dataframe\">\n",
       "  <thead>\n",
       "    <tr style=\"text-align: right;\">\n",
       "      <th></th>\n",
       "      <th>is_holiday</th>\n",
       "      <th>temperature</th>\n",
       "      <th>weekday</th>\n",
       "      <th>new_total_usage</th>\n",
       "      <th>new_total_usage_lag6</th>\n",
       "      <th>new_total_usage_lag7</th>\n",
       "      <th>new_total_usage_lag14</th>\n",
       "      <th>new_total_usage_lag21</th>\n",
       "    </tr>\n",
       "  </thead>\n",
       "  <tbody>\n",
       "    <tr>\n",
       "      <th>21</th>\n",
       "      <td>False</td>\n",
       "      <td>23.16</td>\n",
       "      <td>5</td>\n",
       "      <td>2255.0</td>\n",
       "      <td>1408.0</td>\n",
       "      <td>2101.0</td>\n",
       "      <td>2035.0</td>\n",
       "      <td>1496.0</td>\n",
       "    </tr>\n",
       "    <tr>\n",
       "      <th>22</th>\n",
       "      <td>False</td>\n",
       "      <td>23.47</td>\n",
       "      <td>6</td>\n",
       "      <td>1452.0</td>\n",
       "      <td>4686.0</td>\n",
       "      <td>1408.0</td>\n",
       "      <td>1474.0</td>\n",
       "      <td>1177.0</td>\n",
       "    </tr>\n",
       "    <tr>\n",
       "      <th>23</th>\n",
       "      <td>False</td>\n",
       "      <td>22.95</td>\n",
       "      <td>0</td>\n",
       "      <td>4785.0</td>\n",
       "      <td>3674.0</td>\n",
       "      <td>4686.0</td>\n",
       "      <td>4686.0</td>\n",
       "      <td>1463.0</td>\n",
       "    </tr>\n",
       "    <tr>\n",
       "      <th>24</th>\n",
       "      <td>False</td>\n",
       "      <td>22.95</td>\n",
       "      <td>1</td>\n",
       "      <td>4191.0</td>\n",
       "      <td>3267.0</td>\n",
       "      <td>3674.0</td>\n",
       "      <td>4664.0</td>\n",
       "      <td>4037.0</td>\n",
       "    </tr>\n",
       "    <tr>\n",
       "      <th>25</th>\n",
       "      <td>False</td>\n",
       "      <td>22.69</td>\n",
       "      <td>2</td>\n",
       "      <td>3267.0</td>\n",
       "      <td>3960.0</td>\n",
       "      <td>3267.0</td>\n",
       "      <td>4026.0</td>\n",
       "      <td>4191.0</td>\n",
       "    </tr>\n",
       "  </tbody>\n",
       "</table>\n",
       "</div>"
      ],
      "text/plain": [
       "    is_holiday  temperature  weekday  new_total_usage  new_total_usage_lag6  \\\n",
       "21       False        23.16        5           2255.0                1408.0   \n",
       "22       False        23.47        6           1452.0                4686.0   \n",
       "23       False        22.95        0           4785.0                3674.0   \n",
       "24       False        22.95        1           4191.0                3267.0   \n",
       "25       False        22.69        2           3267.0                3960.0   \n",
       "\n",
       "    new_total_usage_lag7  new_total_usage_lag14  new_total_usage_lag21  \n",
       "21                2101.0                 2035.0                 1496.0  \n",
       "22                1408.0                 1474.0                 1177.0  \n",
       "23                4686.0                 4686.0                 1463.0  \n",
       "24                3674.0                 4664.0                 4037.0  \n",
       "25                3267.0                 4026.0                 4191.0  "
      ]
     },
     "metadata": {},
     "output_type": "display_data"
    }
   ],
   "source": [
    "ml_df = total_usage_df.drop(labels=['date', 'total_usage',  'fill_zeros_usage'], axis='columns')\n",
    "ml_df.head()"
   ]
  },
  {
   "cell_type": "markdown",
   "metadata": {},
   "source": [
    "Encode dữ liệu thứ trong tuần"
   ]
  },
  {
   "cell_type": "code",
   "execution_count": null,
   "metadata": {},
   "outputs": [
    {
     "data": {
      "text/html": [
       "<div>\n",
       "<style scoped>\n",
       "    .dataframe tbody tr th:only-of-type {\n",
       "        vertical-align: middle;\n",
       "    }\n",
       "\n",
       "    .dataframe tbody tr th {\n",
       "        vertical-align: top;\n",
       "    }\n",
       "\n",
       "    .dataframe thead th {\n",
       "        text-align: right;\n",
       "    }\n",
       "</style>\n",
       "<table border=\"1\" class=\"dataframe\">\n",
       "  <thead>\n",
       "    <tr style=\"text-align: right;\">\n",
       "      <th></th>\n",
       "      <th>is_holiday</th>\n",
       "      <th>temperature</th>\n",
       "      <th>new_total_usage</th>\n",
       "      <th>new_total_usage_lag6</th>\n",
       "      <th>new_total_usage_lag7</th>\n",
       "      <th>new_total_usage_lag14</th>\n",
       "      <th>new_total_usage_lag21</th>\n",
       "      <th>weekday_1</th>\n",
       "      <th>weekday_2</th>\n",
       "      <th>weekday_3</th>\n",
       "      <th>weekday_4</th>\n",
       "      <th>weekday_5</th>\n",
       "      <th>weekday_6</th>\n",
       "    </tr>\n",
       "  </thead>\n",
       "  <tbody>\n",
       "    <tr>\n",
       "      <th>21</th>\n",
       "      <td>False</td>\n",
       "      <td>23.16</td>\n",
       "      <td>2255.0</td>\n",
       "      <td>1408.0</td>\n",
       "      <td>2101.0</td>\n",
       "      <td>2035.0</td>\n",
       "      <td>1496.0</td>\n",
       "      <td>False</td>\n",
       "      <td>False</td>\n",
       "      <td>False</td>\n",
       "      <td>False</td>\n",
       "      <td>True</td>\n",
       "      <td>False</td>\n",
       "    </tr>\n",
       "    <tr>\n",
       "      <th>22</th>\n",
       "      <td>False</td>\n",
       "      <td>23.47</td>\n",
       "      <td>1452.0</td>\n",
       "      <td>4686.0</td>\n",
       "      <td>1408.0</td>\n",
       "      <td>1474.0</td>\n",
       "      <td>1177.0</td>\n",
       "      <td>False</td>\n",
       "      <td>False</td>\n",
       "      <td>False</td>\n",
       "      <td>False</td>\n",
       "      <td>False</td>\n",
       "      <td>True</td>\n",
       "    </tr>\n",
       "    <tr>\n",
       "      <th>23</th>\n",
       "      <td>False</td>\n",
       "      <td>22.95</td>\n",
       "      <td>4785.0</td>\n",
       "      <td>3674.0</td>\n",
       "      <td>4686.0</td>\n",
       "      <td>4686.0</td>\n",
       "      <td>1463.0</td>\n",
       "      <td>False</td>\n",
       "      <td>False</td>\n",
       "      <td>False</td>\n",
       "      <td>False</td>\n",
       "      <td>False</td>\n",
       "      <td>False</td>\n",
       "    </tr>\n",
       "    <tr>\n",
       "      <th>24</th>\n",
       "      <td>False</td>\n",
       "      <td>22.95</td>\n",
       "      <td>4191.0</td>\n",
       "      <td>3267.0</td>\n",
       "      <td>3674.0</td>\n",
       "      <td>4664.0</td>\n",
       "      <td>4037.0</td>\n",
       "      <td>True</td>\n",
       "      <td>False</td>\n",
       "      <td>False</td>\n",
       "      <td>False</td>\n",
       "      <td>False</td>\n",
       "      <td>False</td>\n",
       "    </tr>\n",
       "    <tr>\n",
       "      <th>25</th>\n",
       "      <td>False</td>\n",
       "      <td>22.69</td>\n",
       "      <td>3267.0</td>\n",
       "      <td>3960.0</td>\n",
       "      <td>3267.0</td>\n",
       "      <td>4026.0</td>\n",
       "      <td>4191.0</td>\n",
       "      <td>False</td>\n",
       "      <td>True</td>\n",
       "      <td>False</td>\n",
       "      <td>False</td>\n",
       "      <td>False</td>\n",
       "      <td>False</td>\n",
       "    </tr>\n",
       "  </tbody>\n",
       "</table>\n",
       "</div>"
      ],
      "text/plain": [
       "    is_holiday  temperature  new_total_usage  new_total_usage_lag6  \\\n",
       "21       False        23.16           2255.0                1408.0   \n",
       "22       False        23.47           1452.0                4686.0   \n",
       "23       False        22.95           4785.0                3674.0   \n",
       "24       False        22.95           4191.0                3267.0   \n",
       "25       False        22.69           3267.0                3960.0   \n",
       "\n",
       "    new_total_usage_lag7  new_total_usage_lag14  new_total_usage_lag21  \\\n",
       "21                2101.0                 2035.0                 1496.0   \n",
       "22                1408.0                 1474.0                 1177.0   \n",
       "23                4686.0                 4686.0                 1463.0   \n",
       "24                3674.0                 4664.0                 4037.0   \n",
       "25                3267.0                 4026.0                 4191.0   \n",
       "\n",
       "    weekday_1  weekday_2  weekday_3  weekday_4  weekday_5  weekday_6  \n",
       "21      False      False      False      False       True      False  \n",
       "22      False      False      False      False      False       True  \n",
       "23      False      False      False      False      False      False  \n",
       "24       True      False      False      False      False      False  \n",
       "25      False       True      False      False      False      False  "
      ]
     },
     "metadata": {},
     "output_type": "display_data"
    }
   ],
   "source": [
    "ml_df = pd.get_dummies(data=ml_df, columns=['weekday'], drop_first=True)\n",
    "ml_df.head()"
   ]
  },
  {
   "cell_type": "code",
   "execution_count": null,
   "metadata": {},
   "outputs": [],
   "source": [
    "X = ml_df.drop(columns=['new_total_usage'])\n",
    "y = ml_df['new_total_usage']"
   ]
  },
  {
   "cell_type": "code",
   "execution_count": null,
   "metadata": {},
   "outputs": [],
   "source": [
    "X_train, X_test, y_train, y_test = train_test_split(X, y, test_size=0.2, random_state=42)"
   ]
  },
  {
   "cell_type": "code",
   "execution_count": null,
   "metadata": {},
   "outputs": [
    {
     "data": {
      "text/plain": [
       "<matplotlib.legend.Legend at 0x22ba0c82f60>"
      ]
     },
     "metadata": {},
     "output_type": "display_data"
    },
    {
     "data": {
      "image/png": "[encoded data removed]",
      "text/plain": [
       "<Figure size 1000x600 with 1 Axes>"
      ]
     },
     "metadata": {},
     "output_type": "display_data"
    }
   ],
   "source": [
    "plt.figure(figsize=(10, 6))\n",
    "sns.histplot(y_train, color=\"blue\", label=\"y_train\", kde=True)\n",
    "sns.histplot(y_test, color=\"red\", label=\"y_test\", kde=True)\n",
    "plt.legend()"
   ]
  },
  {
   "cell_type": "markdown",
   "metadata": {},
   "source": [
    "##### Nhân xét: \n",
    "- Phân phối dữ liệu sản lượng trên tập train và test là khá tương đồng, có thể sử dụng để huấn luyện mô hình học máy"
   ]
  },
  {
   "cell_type": "markdown",
   "metadata": {},
   "source": [
    "#### LƯU DATA VÀO FILE CSV"
   ]
  },
  {
   "cell_type": "code",
   "execution_count": 128,
   "metadata": {},
   "outputs": [
    {
     "data": {
      "text/html": [
       "<div>\n",
       "<style scoped>\n",
       "    .dataframe tbody tr th:only-of-type {\n",
       "        vertical-align: middle;\n",
       "    }\n",
       "\n",
       "    .dataframe tbody tr th {\n",
       "        vertical-align: top;\n",
       "    }\n",
       "\n",
       "    .dataframe thead th {\n",
       "        text-align: right;\n",
       "    }\n",
       "</style>\n",
       "<table border=\"1\" class=\"dataframe\">\n",
       "  <thead>\n",
       "    <tr style=\"text-align: right;\">\n",
       "      <th></th>\n",
       "      <th>is_holiday</th>\n",
       "      <th>temperature</th>\n",
       "      <th>new_total_usage_lag6</th>\n",
       "      <th>new_total_usage_lag7</th>\n",
       "      <th>new_total_usage_lag14</th>\n",
       "      <th>new_total_usage_lag21</th>\n",
       "      <th>weekday_1</th>\n",
       "      <th>weekday_2</th>\n",
       "      <th>weekday_3</th>\n",
       "      <th>weekday_4</th>\n",
       "      <th>weekday_5</th>\n",
       "      <th>weekday_6</th>\n",
       "      <th>new_total_usage</th>\n",
       "    </tr>\n",
       "  </thead>\n",
       "  <tbody>\n",
       "    <tr>\n",
       "      <th>353</th>\n",
       "      <td>False</td>\n",
       "      <td>21.46</td>\n",
       "      <td>3630.0</td>\n",
       "      <td>3641.0</td>\n",
       "      <td>2629.0</td>\n",
       "      <td>6347.0</td>\n",
       "      <td>True</td>\n",
       "      <td>False</td>\n",
       "      <td>False</td>\n",
       "      <td>False</td>\n",
       "      <td>False</td>\n",
       "      <td>False</td>\n",
       "      <td>3454.0</td>\n",
       "    </tr>\n",
       "    <tr>\n",
       "      <th>832</th>\n",
       "      <td>False</td>\n",
       "      <td>27.57</td>\n",
       "      <td>2431.0</td>\n",
       "      <td>5533.0</td>\n",
       "      <td>5038.0</td>\n",
       "      <td>4631.0</td>\n",
       "      <td>False</td>\n",
       "      <td>False</td>\n",
       "      <td>False</td>\n",
       "      <td>True</td>\n",
       "      <td>False</td>\n",
       "      <td>False</td>\n",
       "      <td>5654.0</td>\n",
       "    </tr>\n",
       "    <tr>\n",
       "      <th>765</th>\n",
       "      <td>False</td>\n",
       "      <td>24.71</td>\n",
       "      <td>4081.0</td>\n",
       "      <td>3751.0</td>\n",
       "      <td>4312.0</td>\n",
       "      <td>4510.0</td>\n",
       "      <td>False</td>\n",
       "      <td>False</td>\n",
       "      <td>False</td>\n",
       "      <td>False</td>\n",
       "      <td>False</td>\n",
       "      <td>False</td>\n",
       "      <td>4499.0</td>\n",
       "    </tr>\n",
       "    <tr>\n",
       "      <th>265</th>\n",
       "      <td>False</td>\n",
       "      <td>26.05</td>\n",
       "      <td>3091.0</td>\n",
       "      <td>5874.0</td>\n",
       "      <td>5676.0</td>\n",
       "      <td>1870.0</td>\n",
       "      <td>False</td>\n",
       "      <td>False</td>\n",
       "      <td>False</td>\n",
       "      <td>True</td>\n",
       "      <td>False</td>\n",
       "      <td>False</td>\n",
       "      <td>4917.0</td>\n",
       "    </tr>\n",
       "    <tr>\n",
       "      <th>60</th>\n",
       "      <td>False</td>\n",
       "      <td>22.61</td>\n",
       "      <td>2574.0</td>\n",
       "      <td>2530.0</td>\n",
       "      <td>3333.0</td>\n",
       "      <td>4598.0</td>\n",
       "      <td>False</td>\n",
       "      <td>True</td>\n",
       "      <td>False</td>\n",
       "      <td>False</td>\n",
       "      <td>False</td>\n",
       "      <td>False</td>\n",
       "      <td>3597.0</td>\n",
       "    </tr>\n",
       "  </tbody>\n",
       "</table>\n",
       "</div>"
      ],
      "text/plain": [
       "     is_holiday  temperature  new_total_usage_lag6  new_total_usage_lag7  \\\n",
       "353       False        21.46                3630.0                3641.0   \n",
       "832       False        27.57                2431.0                5533.0   \n",
       "765       False        24.71                4081.0                3751.0   \n",
       "265       False        26.05                3091.0                5874.0   \n",
       "60        False        22.61                2574.0                2530.0   \n",
       "\n",
       "     new_total_usage_lag14  new_total_usage_lag21  weekday_1  weekday_2  \\\n",
       "353                 2629.0                 6347.0       True      False   \n",
       "832                 5038.0                 4631.0      False      False   \n",
       "765                 4312.0                 4510.0      False      False   \n",
       "265                 5676.0                 1870.0      False      False   \n",
       "60                  3333.0                 4598.0      False       True   \n",
       "\n",
       "     weekday_3  weekday_4  weekday_5  weekday_6  new_total_usage  \n",
       "353      False      False      False      False           3454.0  \n",
       "832      False       True      False      False           5654.0  \n",
       "765      False      False      False      False           4499.0  \n",
       "265      False       True      False      False           4917.0  \n",
       "60       False      False      False      False           3597.0  "
      ]
     },
     "execution_count": 128,
     "metadata": {},
     "output_type": "execute_result"
    }
   ],
   "source": [
    "test_df = pd.concat([X_test, y_test], axis='columns')\n",
    "test_df.head()"
   ]
  },
  {
   "cell_type": "code",
   "execution_count": 129,
   "metadata": {},
   "outputs": [],
   "source": [
    "test_df.to_csv('test.csv')"
   ]
  },
  {
   "cell_type": "code",
   "execution_count": 130,
   "metadata": {},
   "outputs": [
    {
     "data": {
      "text/html": [
       "<div>\n",
       "<style scoped>\n",
       "    .dataframe tbody tr th:only-of-type {\n",
       "        vertical-align: middle;\n",
       "    }\n",
       "\n",
       "    .dataframe tbody tr th {\n",
       "        vertical-align: top;\n",
       "    }\n",
       "\n",
       "    .dataframe thead th {\n",
       "        text-align: right;\n",
       "    }\n",
       "</style>\n",
       "<table border=\"1\" class=\"dataframe\">\n",
       "  <thead>\n",
       "    <tr style=\"text-align: right;\">\n",
       "      <th></th>\n",
       "      <th>is_holiday</th>\n",
       "      <th>temperature</th>\n",
       "      <th>new_total_usage_lag6</th>\n",
       "      <th>new_total_usage_lag7</th>\n",
       "      <th>new_total_usage_lag14</th>\n",
       "      <th>new_total_usage_lag21</th>\n",
       "      <th>weekday_1</th>\n",
       "      <th>weekday_2</th>\n",
       "      <th>weekday_3</th>\n",
       "      <th>weekday_4</th>\n",
       "      <th>weekday_5</th>\n",
       "      <th>weekday_6</th>\n",
       "      <th>new_total_usage</th>\n",
       "    </tr>\n",
       "  </thead>\n",
       "  <tbody>\n",
       "    <tr>\n",
       "      <th>819</th>\n",
       "      <td>False</td>\n",
       "      <td>28.12</td>\n",
       "      <td>2013.0</td>\n",
       "      <td>2618.0</td>\n",
       "      <td>2178.0</td>\n",
       "      <td>2299.0</td>\n",
       "      <td>False</td>\n",
       "      <td>False</td>\n",
       "      <td>False</td>\n",
       "      <td>False</td>\n",
       "      <td>True</td>\n",
       "      <td>False</td>\n",
       "      <td>2508.0</td>\n",
       "    </tr>\n",
       "    <tr>\n",
       "      <th>557</th>\n",
       "      <td>False</td>\n",
       "      <td>31.07</td>\n",
       "      <td>6149.0</td>\n",
       "      <td>6369.0</td>\n",
       "      <td>2409.0</td>\n",
       "      <td>7128.0</td>\n",
       "      <td>False</td>\n",
       "      <td>True</td>\n",
       "      <td>False</td>\n",
       "      <td>False</td>\n",
       "      <td>False</td>\n",
       "      <td>False</td>\n",
       "      <td>6347.0</td>\n",
       "    </tr>\n",
       "    <tr>\n",
       "      <th>774</th>\n",
       "      <td>True</td>\n",
       "      <td>23.25</td>\n",
       "      <td>2156.0</td>\n",
       "      <td>3982.0</td>\n",
       "      <td>4323.0</td>\n",
       "      <td>3784.0</td>\n",
       "      <td>False</td>\n",
       "      <td>True</td>\n",
       "      <td>False</td>\n",
       "      <td>False</td>\n",
       "      <td>False</td>\n",
       "      <td>False</td>\n",
       "      <td>1573.0</td>\n",
       "    </tr>\n",
       "    <tr>\n",
       "      <th>411</th>\n",
       "      <td>False</td>\n",
       "      <td>22.06</td>\n",
       "      <td>4466.0</td>\n",
       "      <td>4554.0</td>\n",
       "      <td>1276.0</td>\n",
       "      <td>1331.0</td>\n",
       "      <td>False</td>\n",
       "      <td>False</td>\n",
       "      <td>True</td>\n",
       "      <td>False</td>\n",
       "      <td>False</td>\n",
       "      <td>False</td>\n",
       "      <td>3817.0</td>\n",
       "    </tr>\n",
       "    <tr>\n",
       "      <th>139</th>\n",
       "      <td>False</td>\n",
       "      <td>26.62</td>\n",
       "      <td>2992.0</td>\n",
       "      <td>5841.0</td>\n",
       "      <td>4862.0</td>\n",
       "      <td>5346.0</td>\n",
       "      <td>False</td>\n",
       "      <td>False</td>\n",
       "      <td>False</td>\n",
       "      <td>True</td>\n",
       "      <td>False</td>\n",
       "      <td>False</td>\n",
       "      <td>5368.0</td>\n",
       "    </tr>\n",
       "  </tbody>\n",
       "</table>\n",
       "</div>"
      ],
      "text/plain": [
       "     is_holiday  temperature  new_total_usage_lag6  new_total_usage_lag7  \\\n",
       "819       False        28.12                2013.0                2618.0   \n",
       "557       False        31.07                6149.0                6369.0   \n",
       "774        True        23.25                2156.0                3982.0   \n",
       "411       False        22.06                4466.0                4554.0   \n",
       "139       False        26.62                2992.0                5841.0   \n",
       "\n",
       "     new_total_usage_lag14  new_total_usage_lag21  weekday_1  weekday_2  \\\n",
       "819                 2178.0                 2299.0      False      False   \n",
       "557                 2409.0                 7128.0      False       True   \n",
       "774                 4323.0                 3784.0      False       True   \n",
       "411                 1276.0                 1331.0      False      False   \n",
       "139                 4862.0                 5346.0      False      False   \n",
       "\n",
       "     weekday_3  weekday_4  weekday_5  weekday_6  new_total_usage  \n",
       "819      False      False       True      False           2508.0  \n",
       "557      False      False      False      False           6347.0  \n",
       "774      False      False      False      False           1573.0  \n",
       "411       True      False      False      False           3817.0  \n",
       "139      False       True      False      False           5368.0  "
      ]
     },
     "execution_count": 130,
     "metadata": {},
     "output_type": "execute_result"
    }
   ],
   "source": [
    "train_df = pd.concat([X_train, y_train], axis='columns')\n",
    "train_df.head()"
   ]
  },
  {
   "cell_type": "code",
   "execution_count": 131,
   "metadata": {},
   "outputs": [],
   "source": [
    "train_df.to_csv('train.csv')"
   ]
  },
  {
   "cell_type": "code",
   "execution_count": 132,
   "metadata": {},
   "outputs": [],
   "source": [
    "total_usage_df.to_csv('full_data.csv')"
   ]
  }
 ],
 "metadata": {
  "kernelspec": {
   "display_name": "time_series_env",
   "language": "python",
   "name": "python3"
  },
  "language_info": {
   "codemirror_mode": {
    "name": "ipython",
    "version": 3
   },
   "file_extension": ".py",
   "mimetype": "text/x-python",
   "name": "python",
   "nbconvert_exporter": "python",
   "pygments_lexer": "ipython3",
   "version": "3.12.4"
  }
 },
 "nbformat": 4,
 "nbformat_minor": 2
}
