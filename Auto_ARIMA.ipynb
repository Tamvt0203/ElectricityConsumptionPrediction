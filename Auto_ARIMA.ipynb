{
 "cells": [
  {
   "cell_type": "markdown",
   "metadata": {},
   "source": [
    "# Import các thư viện cần thiết"
   ]
  },
  {
   "cell_type": "code",
   "execution_count": 1,
   "metadata": {},
   "outputs": [],
   "source": [
    "import pmdarima as pm\n",
    "import pandas as pd\n",
    "import numpy as np\n",
    "from pmdarima import model_selection\n",
    "import numpy as np\n",
    "from matplotlib import pyplot as plt\n",
    "import seaborn as sns\n",
    "\n",
    "from statsmodels.tsa.stattools import acf, pacf, adfuller\n",
    "from statsmodels.graphics.tsaplots import plot_acf, plot_pacf\n",
    "from statsmodels.tsa.seasonal import seasonal_decompose\n",
    "\n",
    "from statsmodels.tsa.arima_model import ARIMA\n",
    "from sklearn.metrics import mean_absolute_percentage_error, mean_squared_error\n",
    "\n",
    "from statsmodels.tsa.stattools import adfuller\n",
    "from statsmodels.tsa.seasonal import seasonal_decompose\n",
    "from statsmodels.tsa.arima_model import ARIMA\n",
    "from pmdarima.arima import auto_arima\n",
    "from sklearn.metrics import mean_squared_error, mean_absolute_error\n",
    "import math\n",
    "import numpy as np\n",
    "import seaborn as sns\n",
    "from scipy.special import inv_boxcox\n",
    "from scipy.stats import boxcox\n",
    "from statsmodels.tsa.api import VAR\n",
    "from statsmodels.tsa.stattools import adfuller\n",
    "from statsmodels.tools.eval_measures import rmse, aic"
   ]
  },
  {
   "cell_type": "markdown",
   "metadata": {},
   "source": [
    "# Đọc dữ liệu"
   ]
  },
  {
   "cell_type": "code",
   "execution_count": 2,
   "metadata": {},
   "outputs": [],
   "source": [
    "df_train = pd.read_csv('train.csv', index_col='date')\n",
    "df_test = pd.read_csv('test.csv',index_col='date')"
   ]
  },
  {
   "cell_type": "code",
   "execution_count": 3,
   "metadata": {},
   "outputs": [
    {
     "name": "stdout",
     "output_type": "stream",
     "text": [
      "<class 'pandas.core.frame.DataFrame'>\n",
      "Index: 730 entries, 2022-01-01 to 2023-12-31\n",
      "Data columns (total 10 columns):\n",
      " #   Column           Non-Null Count  Dtype  \n",
      "---  ------           --------------  -----  \n",
      " 0   is_holiday       730 non-null    bool   \n",
      " 1   temperature      730 non-null    float64\n",
      " 2   new_total_usage  730 non-null    float64\n",
      " 3   weekday_0        730 non-null    bool   \n",
      " 4   weekday_1        730 non-null    bool   \n",
      " 5   weekday_2        730 non-null    bool   \n",
      " 6   weekday_3        730 non-null    bool   \n",
      " 7   weekday_4        730 non-null    bool   \n",
      " 8   weekday_5        730 non-null    bool   \n",
      " 9   weekday_6        730 non-null    bool   \n",
      "dtypes: bool(8), float64(2)\n",
      "memory usage: 22.8+ KB\n"
     ]
    }
   ],
   "source": [
    "df_train.info()"
   ]
  },
  {
   "cell_type": "markdown",
   "metadata": {},
   "source": [
    "# Chia tập validate"
   ]
  },
  {
   "cell_type": "code",
   "execution_count": 4,
   "metadata": {},
   "outputs": [],
   "source": [
    "df_validate = df_train.iloc[-100:, :]\n",
    "df_train = df_train.iloc[:-100, :]"
   ]
  },
  {
   "cell_type": "code",
   "execution_count": 5,
   "metadata": {},
   "outputs": [
    {
     "data": {
      "text/html": [
       "<div>\n",
       "<style scoped>\n",
       "    .dataframe tbody tr th:only-of-type {\n",
       "        vertical-align: middle;\n",
       "    }\n",
       "\n",
       "    .dataframe tbody tr th {\n",
       "        vertical-align: top;\n",
       "    }\n",
       "\n",
       "    .dataframe thead th {\n",
       "        text-align: right;\n",
       "    }\n",
       "</style>\n",
       "<table border=\"1\" class=\"dataframe\">\n",
       "  <thead>\n",
       "    <tr style=\"text-align: right;\">\n",
       "      <th></th>\n",
       "      <th>is_holiday</th>\n",
       "      <th>temperature</th>\n",
       "      <th>new_total_usage</th>\n",
       "      <th>weekday_0</th>\n",
       "      <th>weekday_1</th>\n",
       "      <th>weekday_2</th>\n",
       "      <th>weekday_3</th>\n",
       "      <th>weekday_4</th>\n",
       "      <th>weekday_5</th>\n",
       "      <th>weekday_6</th>\n",
       "    </tr>\n",
       "    <tr>\n",
       "      <th>date</th>\n",
       "      <th></th>\n",
       "      <th></th>\n",
       "      <th></th>\n",
       "      <th></th>\n",
       "      <th></th>\n",
       "      <th></th>\n",
       "      <th></th>\n",
       "      <th></th>\n",
       "      <th></th>\n",
       "      <th></th>\n",
       "    </tr>\n",
       "  </thead>\n",
       "  <tbody>\n",
       "    <tr>\n",
       "      <th>2023-12-27</th>\n",
       "      <td>False</td>\n",
       "      <td>22.45</td>\n",
       "      <td>3542.0</td>\n",
       "      <td>False</td>\n",
       "      <td>False</td>\n",
       "      <td>True</td>\n",
       "      <td>False</td>\n",
       "      <td>False</td>\n",
       "      <td>False</td>\n",
       "      <td>False</td>\n",
       "    </tr>\n",
       "    <tr>\n",
       "      <th>2023-12-28</th>\n",
       "      <td>False</td>\n",
       "      <td>23.40</td>\n",
       "      <td>3432.0</td>\n",
       "      <td>False</td>\n",
       "      <td>False</td>\n",
       "      <td>False</td>\n",
       "      <td>True</td>\n",
       "      <td>False</td>\n",
       "      <td>False</td>\n",
       "      <td>False</td>\n",
       "    </tr>\n",
       "    <tr>\n",
       "      <th>2023-12-29</th>\n",
       "      <td>False</td>\n",
       "      <td>24.00</td>\n",
       "      <td>3311.0</td>\n",
       "      <td>False</td>\n",
       "      <td>False</td>\n",
       "      <td>False</td>\n",
       "      <td>False</td>\n",
       "      <td>True</td>\n",
       "      <td>False</td>\n",
       "      <td>False</td>\n",
       "    </tr>\n",
       "    <tr>\n",
       "      <th>2023-12-30</th>\n",
       "      <td>False</td>\n",
       "      <td>23.62</td>\n",
       "      <td>1452.0</td>\n",
       "      <td>False</td>\n",
       "      <td>False</td>\n",
       "      <td>False</td>\n",
       "      <td>False</td>\n",
       "      <td>False</td>\n",
       "      <td>True</td>\n",
       "      <td>False</td>\n",
       "    </tr>\n",
       "    <tr>\n",
       "      <th>2023-12-31</th>\n",
       "      <td>False</td>\n",
       "      <td>23.55</td>\n",
       "      <td>1078.0</td>\n",
       "      <td>False</td>\n",
       "      <td>False</td>\n",
       "      <td>False</td>\n",
       "      <td>False</td>\n",
       "      <td>False</td>\n",
       "      <td>False</td>\n",
       "      <td>True</td>\n",
       "    </tr>\n",
       "  </tbody>\n",
       "</table>\n",
       "</div>"
      ],
      "text/plain": [
       "            is_holiday  temperature  new_total_usage  weekday_0  weekday_1  \\\n",
       "date                                                                         \n",
       "2023-12-27       False        22.45           3542.0      False      False   \n",
       "2023-12-28       False        23.40           3432.0      False      False   \n",
       "2023-12-29       False        24.00           3311.0      False      False   \n",
       "2023-12-30       False        23.62           1452.0      False      False   \n",
       "2023-12-31       False        23.55           1078.0      False      False   \n",
       "\n",
       "            weekday_2  weekday_3  weekday_4  weekday_5  weekday_6  \n",
       "date                                                               \n",
       "2023-12-27       True      False      False      False      False  \n",
       "2023-12-28      False       True      False      False      False  \n",
       "2023-12-29      False      False       True      False      False  \n",
       "2023-12-30      False      False      False       True      False  \n",
       "2023-12-31      False      False      False      False       True  "
      ]
     },
     "execution_count": 5,
     "metadata": {},
     "output_type": "execute_result"
    }
   ],
   "source": [
    "df_validate.tail()"
   ]
  },
  {
   "cell_type": "markdown",
   "metadata": {},
   "source": [
    "# Chuẩn bị dữ liệu để dự đoán"
   ]
  },
  {
   "cell_type": "markdown",
   "metadata": {},
   "source": [
    "## Chuyển giá trị True/False về 1/0"
   ]
  },
  {
   "cell_type": "code",
   "execution_count": 6,
   "metadata": {},
   "outputs": [],
   "source": [
    "def convert_columns_to_int(df, weekday_cols_prefix='weekday_', holiday_col='is_holiday', num_weekdays=6):\n",
    "    \"\"\"\n",
    "    Chuyển đổi các cột 'weekday' và 'is_holiday' của DataFrame sang kiểu dữ liệu int.\n",
    "\n",
    "    Tham số:\n",
    "    - df: DataFrame cần chuyển đổi.\n",
    "    - weekday_cols_prefix: Tiền tố của các cột 'weekday'. Mặc định là 'weekday_'.\n",
    "    - holiday_col: Tên cột ngày lễ cần chuyển đổi. Mặc định là 'is_holiday'.\n",
    "    - num_weekdays: Số lượng cột 'weekday' cần chuyển đổi (mặc định là 6).\n",
    "    \n",
    "    Trả về:\n",
    "    - DataFrame với các cột đã được chuyển sang kiểu int.\n",
    "    \"\"\"\n",
    "    \n",
    "    # Chuyển đổi các cột weekday_{i} thành int\n",
    "    for i in range(0, num_weekdays + 1):  # Lặp từ 1 tới num_weekdays\n",
    "        df[f'{weekday_cols_prefix}{i}'] = df[f'{weekday_cols_prefix}{i}'].astype(int)\n",
    "    \n",
    "    # Chuyển đổi cột is_holiday thành int\n",
    "    df[holiday_col] = df[holiday_col].astype(int)\n",
    "    \n",
    "    return df"
   ]
  },
  {
   "cell_type": "code",
   "execution_count": 7,
   "metadata": {},
   "outputs": [],
   "source": [
    "df_train = convert_columns_to_int(df=df_train)\n",
    "df_validate = convert_columns_to_int(df=df_validate)\n",
    "df_test = convert_columns_to_int(df=df_test)"
   ]
  },
  {
   "cell_type": "markdown",
   "metadata": {},
   "source": [
    "## Chuyển index về datetime"
   ]
  },
  {
   "cell_type": "code",
   "execution_count": 8,
   "metadata": {},
   "outputs": [],
   "source": [
    "df_train.index = pd.to_datetime(df_train.index)\n",
    "df_validate.index = pd.to_datetime(df_validate.index)\n",
    "df_test.index = pd.to_datetime(df_test.index)"
   ]
  },
  {
   "cell_type": "markdown",
   "metadata": {},
   "source": [
    "## Chuyển freq"
   ]
  },
  {
   "cell_type": "code",
   "execution_count": 9,
   "metadata": {},
   "outputs": [],
   "source": [
    "df_train = df_train.asfreq('D')  \n",
    "df_validate = df_validate.asfreq('D')  \n",
    "df_test = df_test.asfreq('D')  "
   ]
  },
  {
   "cell_type": "markdown",
   "metadata": {},
   "source": [
    "## Box-Cox Transformation"
   ]
  },
  {
   "cell_type": "code",
   "execution_count": 10,
   "metadata": {},
   "outputs": [
    {
     "data": {
      "text/plain": [
       "<seaborn.axisgrid.FacetGrid at 0x244dd69bda0>"
      ]
     },
     "execution_count": 10,
     "metadata": {},
     "output_type": "execute_result"
    },
    {
     "data": {
      "image/png": "[encoded data removed]",
      "text/plain": [
       "<Figure size 500x500 with 1 Axes>"
      ]
     },
     "metadata": {},
     "output_type": "display_data"
    }
   ],
   "source": [
    "sns.displot(data=df_train, x='new_total_usage')"
   ]
  },
  {
   "cell_type": "code",
   "execution_count": 11,
   "metadata": {},
   "outputs": [
    {
     "data": {
      "text/plain": [
       "<seaborn.axisgrid.FacetGrid at 0x244dd9ae390>"
      ]
     },
     "execution_count": 11,
     "metadata": {},
     "output_type": "execute_result"
    },
    {
     "data": {
      "image/png": "[encoded data removed]",
      "text/plain": [
       "<Figure size 500x500 with 1 Axes>"
      ]
     },
     "metadata": {},
     "output_type": "display_data"
    }
   ],
   "source": [
    "sns.displot(data=df_train, x='temperature')"
   ]
  },
  {
   "cell_type": "code",
   "execution_count": 12,
   "metadata": {},
   "outputs": [],
   "source": [
    "df_train['new_total_usage'], lmd_usage = boxcox(df_train['new_total_usage'])\n",
    "df_train['temperature'], lmd_temp = boxcox(df_train['temperature'])"
   ]
  },
  {
   "cell_type": "code",
   "execution_count": 13,
   "metadata": {},
   "outputs": [
    {
     "data": {
      "text/plain": [
       "0.6337261627013608"
      ]
     },
     "execution_count": 13,
     "metadata": {},
     "output_type": "execute_result"
    }
   ],
   "source": [
    "lmd_usage"
   ]
  },
  {
   "cell_type": "code",
   "execution_count": 14,
   "metadata": {},
   "outputs": [
    {
     "data": {
      "text/plain": [
       "1.9108284846111012"
      ]
     },
     "execution_count": 14,
     "metadata": {},
     "output_type": "execute_result"
    }
   ],
   "source": [
    "lmd_temp"
   ]
  },
  {
   "cell_type": "code",
   "execution_count": 15,
   "metadata": {},
   "outputs": [
    {
     "data": {
      "text/plain": [
       "<seaborn.axisgrid.FacetGrid at 0x244e0b53800>"
      ]
     },
     "execution_count": 15,
     "metadata": {},
     "output_type": "execute_result"
    },
    {
     "data": {
      "image/png": "[encoded data removed]",
      "text/plain": [
       "<Figure size 500x500 with 1 Axes>"
      ]
     },
     "metadata": {},
     "output_type": "display_data"
    }
   ],
   "source": [
    "sns.displot(data=df_train, x='new_total_usage')"
   ]
  },
  {
   "cell_type": "code",
   "execution_count": 16,
   "metadata": {},
   "outputs": [
    {
     "data": {
      "text/plain": [
       "<seaborn.axisgrid.FacetGrid at 0x244e0b51e50>"
      ]
     },
     "execution_count": 16,
     "metadata": {},
     "output_type": "execute_result"
    },
    {
     "data": {
      "image/png": "[encoded data removed]",
      "text/plain": [
       "<Figure size 500x500 with 1 Axes>"
      ]
     },
     "metadata": {},
     "output_type": "display_data"
    }
   ],
   "source": [
    "sns.displot(data=df_train, x='temperature')"
   ]
  },
  {
   "cell_type": "code",
   "execution_count": 17,
   "metadata": {},
   "outputs": [],
   "source": [
    "df_test['new_total_usage'] = boxcox(df_test['new_total_usage'], lmd_usage)\n",
    "df_test['temperature'] = boxcox(df_test['temperature'], lmd_temp)\n",
    "\n",
    "df_validate['new_total_usage'] = boxcox(df_validate['new_total_usage'], lmd_usage)\n",
    "df_validate['temperature'] = boxcox(df_validate['temperature'], lmd_temp)"
   ]
  },
  {
   "cell_type": "code",
   "execution_count": 18,
   "metadata": {},
   "outputs": [
    {
     "data": {
      "text/plain": [
       "<seaborn.axisgrid.FacetGrid at 0x244dd9ad310>"
      ]
     },
     "execution_count": 18,
     "metadata": {},
     "output_type": "execute_result"
    },
    {
     "data": {
      "image/png": "[encoded data removed]",
      "text/plain": [
       "<Figure size 500x500 with 1 Axes>"
      ]
     },
     "metadata": {},
     "output_type": "display_data"
    }
   ],
   "source": [
    "sns.displot(data=df_test, x='temperature')"
   ]
  },
  {
   "cell_type": "markdown",
   "metadata": {},
   "source": [
    "## Chia tập X, y"
   ]
  },
  {
   "cell_type": "code",
   "execution_count": 27,
   "metadata": {},
   "outputs": [
    {
     "data": {
      "text/html": [
       "<div>\n",
       "<style scoped>\n",
       "    .dataframe tbody tr th:only-of-type {\n",
       "        vertical-align: middle;\n",
       "    }\n",
       "\n",
       "    .dataframe tbody tr th {\n",
       "        vertical-align: top;\n",
       "    }\n",
       "\n",
       "    .dataframe thead th {\n",
       "        text-align: right;\n",
       "    }\n",
       "</style>\n",
       "<table border=\"1\" class=\"dataframe\">\n",
       "  <thead>\n",
       "    <tr style=\"text-align: right;\">\n",
       "      <th></th>\n",
       "      <th>is_holiday</th>\n",
       "      <th>temperature</th>\n",
       "      <th>new_total_usage</th>\n",
       "      <th>weekday_0</th>\n",
       "      <th>weekday_1</th>\n",
       "      <th>weekday_2</th>\n",
       "      <th>weekday_3</th>\n",
       "      <th>weekday_4</th>\n",
       "      <th>weekday_5</th>\n",
       "      <th>weekday_6</th>\n",
       "    </tr>\n",
       "    <tr>\n",
       "      <th>date</th>\n",
       "      <th></th>\n",
       "      <th></th>\n",
       "      <th></th>\n",
       "      <th></th>\n",
       "      <th></th>\n",
       "      <th></th>\n",
       "      <th></th>\n",
       "      <th></th>\n",
       "      <th></th>\n",
       "      <th></th>\n",
       "    </tr>\n",
       "  </thead>\n",
       "  <tbody>\n",
       "    <tr>\n",
       "      <th>2023-09-23</th>\n",
       "      <td>0</td>\n",
       "      <td>297.678514</td>\n",
       "      <td>215.284016</td>\n",
       "      <td>0</td>\n",
       "      <td>0</td>\n",
       "      <td>0</td>\n",
       "      <td>0</td>\n",
       "      <td>0</td>\n",
       "      <td>1</td>\n",
       "      <td>0</td>\n",
       "    </tr>\n",
       "    <tr>\n",
       "      <th>2023-09-24</th>\n",
       "      <td>0</td>\n",
       "      <td>260.756465</td>\n",
       "      <td>152.988726</td>\n",
       "      <td>0</td>\n",
       "      <td>0</td>\n",
       "      <td>0</td>\n",
       "      <td>0</td>\n",
       "      <td>0</td>\n",
       "      <td>0</td>\n",
       "      <td>1</td>\n",
       "    </tr>\n",
       "    <tr>\n",
       "      <th>2023-09-25</th>\n",
       "      <td>0</td>\n",
       "      <td>297.678514</td>\n",
       "      <td>334.401866</td>\n",
       "      <td>1</td>\n",
       "      <td>0</td>\n",
       "      <td>0</td>\n",
       "      <td>0</td>\n",
       "      <td>0</td>\n",
       "      <td>0</td>\n",
       "      <td>0</td>\n",
       "    </tr>\n",
       "    <tr>\n",
       "      <th>2023-09-26</th>\n",
       "      <td>0</td>\n",
       "      <td>298.914876</td>\n",
       "      <td>384.407014</td>\n",
       "      <td>0</td>\n",
       "      <td>1</td>\n",
       "      <td>0</td>\n",
       "      <td>0</td>\n",
       "      <td>0</td>\n",
       "      <td>0</td>\n",
       "      <td>0</td>\n",
       "    </tr>\n",
       "    <tr>\n",
       "      <th>2023-09-27</th>\n",
       "      <td>0</td>\n",
       "      <td>280.025541</td>\n",
       "      <td>368.645596</td>\n",
       "      <td>0</td>\n",
       "      <td>0</td>\n",
       "      <td>1</td>\n",
       "      <td>0</td>\n",
       "      <td>0</td>\n",
       "      <td>0</td>\n",
       "      <td>0</td>\n",
       "    </tr>\n",
       "  </tbody>\n",
       "</table>\n",
       "</div>"
      ],
      "text/plain": [
       "            is_holiday  temperature  new_total_usage  weekday_0  weekday_1  \\\n",
       "date                                                                         \n",
       "2023-09-23           0   297.678514       215.284016          0          0   \n",
       "2023-09-24           0   260.756465       152.988726          0          0   \n",
       "2023-09-25           0   297.678514       334.401866          1          0   \n",
       "2023-09-26           0   298.914876       384.407014          0          1   \n",
       "2023-09-27           0   280.025541       368.645596          0          0   \n",
       "\n",
       "            weekday_2  weekday_3  weekday_4  weekday_5  weekday_6  \n",
       "date                                                               \n",
       "2023-09-23          0          0          0          1          0  \n",
       "2023-09-24          0          0          0          0          1  \n",
       "2023-09-25          0          0          0          0          0  \n",
       "2023-09-26          0          0          0          0          0  \n",
       "2023-09-27          1          0          0          0          0  "
      ]
     },
     "execution_count": 27,
     "metadata": {},
     "output_type": "execute_result"
    }
   ],
   "source": [
    "df_validate.head()"
   ]
  },
  {
   "cell_type": "code",
   "execution_count": null,
   "metadata": {},
   "outputs": [],
   "source": [
    "df_train.drop(['new_total_usage'], axis='columns')"
   ]
  },
  {
   "cell_type": "code",
   "execution_count": 21,
   "metadata": {},
   "outputs": [],
   "source": [
    "X_train = df_train.drop(['new_total_usage'], axis='columns')\n",
    "y_train = df_train.loc[:,'new_total_usage']\n",
    "X_validate = df_validate.drop(['new_total_usage'], axis='columns')\n",
    "y_validate = df_validate.loc[:,'new_total_usage']\n",
    "X_test = df_test.drop(['new_total_usage'], axis='columns')\n",
    "y_test = df_test.loc[:,'new_total_usage']\n"
   ]
  },
  {
   "cell_type": "code",
   "execution_count": 22,
   "metadata": {},
   "outputs": [
    {
     "data": {
      "text/plain": [
       "(630, 9)"
      ]
     },
     "execution_count": 22,
     "metadata": {},
     "output_type": "execute_result"
    }
   ],
   "source": [
    "X_train.shape"
   ]
  },
  {
   "cell_type": "code",
   "execution_count": 23,
   "metadata": {},
   "outputs": [
    {
     "data": {
      "text/plain": [
       "(630,)"
      ]
     },
     "execution_count": 23,
     "metadata": {},
     "output_type": "execute_result"
    }
   ],
   "source": [
    "y_train.shape"
   ]
  },
  {
   "cell_type": "code",
   "execution_count": 24,
   "metadata": {},
   "outputs": [
    {
     "data": {
      "text/plain": [
       "(190, 9)"
      ]
     },
     "execution_count": 24,
     "metadata": {},
     "output_type": "execute_result"
    }
   ],
   "source": [
    "X_test.shape"
   ]
  },
  {
   "cell_type": "code",
   "execution_count": 25,
   "metadata": {},
   "outputs": [
    {
     "data": {
      "text/plain": [
       "(190,)"
      ]
     },
     "execution_count": 25,
     "metadata": {},
     "output_type": "execute_result"
    }
   ],
   "source": [
    "y_test.shape"
   ]
  },
  {
   "cell_type": "code",
   "execution_count": 28,
   "metadata": {},
   "outputs": [
    {
     "data": {
      "text/plain": [
       "date\n",
       "2022-01-01    160.653679\n",
       "2022-01-02    137.779339\n",
       "2022-01-03    158.376547\n",
       "2022-01-04    302.757197\n",
       "2022-01-05    310.063925\n",
       "                 ...    \n",
       "2023-09-18    391.243145\n",
       "2023-09-19    398.908592\n",
       "2023-09-20    406.490158\n",
       "2023-09-21    398.011195\n",
       "2023-09-22    394.409887\n",
       "Freq: D, Name: new_total_usage, Length: 630, dtype: float64"
      ]
     },
     "execution_count": 28,
     "metadata": {},
     "output_type": "execute_result"
    }
   ],
   "source": [
    "y_train"
   ]
  },
  {
   "cell_type": "markdown",
   "metadata": {},
   "source": [
    "# Seasonal components"
   ]
  },
  {
   "cell_type": "code",
   "execution_count": null,
   "metadata": {},
   "outputs": [],
   "source": [
    "df_train.info()"
   ]
  },
  {
   "cell_type": "code",
   "execution_count": 16,
   "metadata": {},
   "outputs": [],
   "source": [
    "ts_decomposition = seasonal_decompose(x=df_train['new_total_usage'], model='additive')\n",
    "trend_estimate = ts_decomposition.trend\n",
    "seasonal_estimate = ts_decomposition.seasonal\n",
    "residual_estimate = ts_decomposition.resid"
   ]
  },
  {
   "cell_type": "code",
   "execution_count": null,
   "metadata": {},
   "outputs": [],
   "source": [
    "plt.figure(figsize=(15,5))\n",
    "plt.plot(df_train['new_total_usage'], label='Original')\n",
    "plt.legend()\n",
    "\n",
    "plt.figure(figsize=(15,5))\n",
    "plt.plot(trend_estimate, label='Trend')\n",
    "plt.legend()\n",
    "\n",
    "plt.figure(figsize=(15,5))\n",
    "plt.plot(seasonal_estimate, label='Seasonal')\n",
    "plt.legend()\n",
    "\n",
    "plt.figure(figsize=(15,5))\n",
    "plt.plot(residual_estimate, label='Residual')\n",
    "plt.legend()"
   ]
  },
  {
   "cell_type": "code",
   "execution_count": null,
   "metadata": {},
   "outputs": [],
   "source": [
    "plt.figure(figsize=(35,10))\n",
    "plt.grid()\n",
    "plt.plot(df_train['new_total_usage'], marker='o', label='Original')\n",
    "plt.plot(df_train['new_total_usage'].rolling(window=30).mean(), marker='o', label='Rolling Mean')\n",
    "plt.plot(df_train['new_total_usage'].rolling(window=30).std(), marker='o', label='Rolling Std')\n",
    "plt.xticks(rotation=90)\n",
    "plt.legend()\n",
    "plt.show()"
   ]
  },
  {
   "cell_type": "markdown",
   "metadata": {},
   "source": [
    "# Kiểm tra tính stationary:\n",
    "- Time series được coi là stationary khi constant mean, constant variance và constant autocorrelation"
   ]
  },
  {
   "cell_type": "code",
   "execution_count": 19,
   "metadata": {},
   "outputs": [],
   "source": [
    "from statsmodels.tsa.stattools import adfuller\n",
    "\n",
    "def check_stationarity(series, signif=0.05, name='', verbose=False):\n",
    "    \n",
    "\n",
    "    result = adfuller(series.values)\n",
    "    print(f'    Augmented Dickey-Fuller Test on \"{name}\"', \"\\n   \", '-'*47)\n",
    "\n",
    "    print('ADF Statistic: %f' % result[0])\n",
    "    print('p-value: %f' % result[1])\n",
    "    print('Critical Values:')\n",
    "    for key, value in result[4].items():\n",
    "        print('\\t%s: %.3f' % (key, value))\n",
    "\n",
    "    if (result[1] <= 0.05) & (result[4]['5%'] > result[0]):\n",
    "        print(\"\\u001b[32mStationary\\u001b[0m\")\n",
    "    else:\n",
    "        print(\"\\x1b[31mNon-stationary\\x1b[0m\")"
   ]
  },
  {
   "cell_type": "code",
   "execution_count": null,
   "metadata": {},
   "outputs": [],
   "source": [
    "for name, column in df_train.items():\n",
    "    check_stationarity(column, name=column.name)\n",
    "    print('\\n')"
   ]
  },
  {
   "cell_type": "markdown",
   "metadata": {},
   "source": [
    "## Nhận xét:\n",
    "- Trừ new_total_usage và temperature thì các feature còn lại đều là stationary"
   ]
  },
  {
   "cell_type": "markdown",
   "metadata": {},
   "source": [
    "# Fit model"
   ]
  },
  {
   "cell_type": "code",
   "execution_count": 29,
   "metadata": {},
   "outputs": [
    {
     "data": {
      "text/html": [
       "<div>\n",
       "<style scoped>\n",
       "    .dataframe tbody tr th:only-of-type {\n",
       "        vertical-align: middle;\n",
       "    }\n",
       "\n",
       "    .dataframe tbody tr th {\n",
       "        vertical-align: top;\n",
       "    }\n",
       "\n",
       "    .dataframe thead th {\n",
       "        text-align: right;\n",
       "    }\n",
       "</style>\n",
       "<table border=\"1\" class=\"dataframe\">\n",
       "  <thead>\n",
       "    <tr style=\"text-align: right;\">\n",
       "      <th></th>\n",
       "      <th>is_holiday</th>\n",
       "      <th>temperature</th>\n",
       "      <th>weekday_0</th>\n",
       "      <th>weekday_1</th>\n",
       "      <th>weekday_2</th>\n",
       "      <th>weekday_3</th>\n",
       "      <th>weekday_4</th>\n",
       "      <th>weekday_5</th>\n",
       "      <th>weekday_6</th>\n",
       "    </tr>\n",
       "    <tr>\n",
       "      <th>date</th>\n",
       "      <th></th>\n",
       "      <th></th>\n",
       "      <th></th>\n",
       "      <th></th>\n",
       "      <th></th>\n",
       "      <th></th>\n",
       "      <th></th>\n",
       "      <th></th>\n",
       "      <th></th>\n",
       "    </tr>\n",
       "  </thead>\n",
       "  <tbody>\n",
       "    <tr>\n",
       "      <th>2022-01-01</th>\n",
       "      <td>1</td>\n",
       "      <td>189.916622</td>\n",
       "      <td>0</td>\n",
       "      <td>0</td>\n",
       "      <td>0</td>\n",
       "      <td>0</td>\n",
       "      <td>0</td>\n",
       "      <td>1</td>\n",
       "      <td>0</td>\n",
       "    </tr>\n",
       "    <tr>\n",
       "      <th>2022-01-02</th>\n",
       "      <td>0</td>\n",
       "      <td>191.081993</td>\n",
       "      <td>0</td>\n",
       "      <td>0</td>\n",
       "      <td>0</td>\n",
       "      <td>0</td>\n",
       "      <td>0</td>\n",
       "      <td>0</td>\n",
       "      <td>1</td>\n",
       "    </tr>\n",
       "    <tr>\n",
       "      <th>2022-01-03</th>\n",
       "      <td>1</td>\n",
       "      <td>191.582474</td>\n",
       "      <td>1</td>\n",
       "      <td>0</td>\n",
       "      <td>0</td>\n",
       "      <td>0</td>\n",
       "      <td>0</td>\n",
       "      <td>0</td>\n",
       "      <td>0</td>\n",
       "    </tr>\n",
       "    <tr>\n",
       "      <th>2022-01-04</th>\n",
       "      <td>0</td>\n",
       "      <td>201.380680</td>\n",
       "      <td>0</td>\n",
       "      <td>1</td>\n",
       "      <td>0</td>\n",
       "      <td>0</td>\n",
       "      <td>0</td>\n",
       "      <td>0</td>\n",
       "      <td>0</td>\n",
       "    </tr>\n",
       "    <tr>\n",
       "      <th>2022-01-05</th>\n",
       "      <td>0</td>\n",
       "      <td>208.273302</td>\n",
       "      <td>0</td>\n",
       "      <td>0</td>\n",
       "      <td>1</td>\n",
       "      <td>0</td>\n",
       "      <td>0</td>\n",
       "      <td>0</td>\n",
       "      <td>0</td>\n",
       "    </tr>\n",
       "  </tbody>\n",
       "</table>\n",
       "</div>"
      ],
      "text/plain": [
       "            is_holiday  temperature  weekday_0  weekday_1  weekday_2  \\\n",
       "date                                                                   \n",
       "2022-01-01           1   189.916622          0          0          0   \n",
       "2022-01-02           0   191.081993          0          0          0   \n",
       "2022-01-03           1   191.582474          1          0          0   \n",
       "2022-01-04           0   201.380680          0          1          0   \n",
       "2022-01-05           0   208.273302          0          0          1   \n",
       "\n",
       "            weekday_3  weekday_4  weekday_5  weekday_6  \n",
       "date                                                    \n",
       "2022-01-01          0          0          1          0  \n",
       "2022-01-02          0          0          0          1  \n",
       "2022-01-03          0          0          0          0  \n",
       "2022-01-04          0          0          0          0  \n",
       "2022-01-05          0          0          0          0  "
      ]
     },
     "execution_count": 29,
     "metadata": {},
     "output_type": "execute_result"
    }
   ],
   "source": [
    "X_train.head()"
   ]
  },
  {
   "cell_type": "code",
   "execution_count": 30,
   "metadata": {},
   "outputs": [
    {
     "name": "stderr",
     "output_type": "stream",
     "text": [
      "c:\\Users\\ASUS\\.conda\\envs\\time_series_env\\Lib\\site-packages\\pmdarima\\arima\\_validation.py:62: UserWarning: m (31) set for non-seasonal fit. Setting to 0\n",
      "  warnings.warn(\"m (%i) set for non-seasonal fit. Setting to 0\" % m)\n"
     ]
    },
    {
     "name": "stdout",
     "output_type": "stream",
     "text": [
      "Performing stepwise search to minimize aic\n",
      " ARIMA(0,0,0)(0,0,0)[0] intercept   : AIC=6947.660, Time=0.30 sec\n",
      "First viable model found (6947.660)\n",
      " ARIMA(1,0,0)(0,0,0)[0] intercept   : AIC=6944.133, Time=0.22 sec\n",
      "New best model found (6944.133 < 6947.660)\n",
      " ARIMA(0,0,1)(0,0,0)[0] intercept   : AIC=6942.204, Time=0.20 sec\n",
      "New best model found (6942.204 < 6944.133)\n",
      " ARIMA(0,0,0)(0,0,0)[0]             : AIC=6945.660, Time=0.52 sec\n",
      " ARIMA(1,0,1)(0,0,0)[0] intercept   : AIC=6892.239, Time=0.65 sec\n",
      "New best model found (6892.239 < 6942.204)\n",
      " ARIMA(2,0,1)(0,0,0)[0] intercept   : AIC=6877.977, Time=0.76 sec\n",
      "New best model found (6877.977 < 6892.239)\n",
      " ARIMA(2,0,0)(0,0,0)[0] intercept   : AIC=6943.226, Time=0.16 sec\n",
      " ARIMA(3,0,1)(0,0,0)[0] intercept   : AIC=6742.722, Time=1.22 sec\n",
      "New best model found (6742.722 < 6877.977)\n",
      " ARIMA(3,0,0)(0,0,0)[0] intercept   : AIC=6751.187, Time=0.56 sec\n",
      " ARIMA(4,0,1)(0,0,0)[0] intercept   : AIC=6743.963, Time=1.31 sec\n",
      " ARIMA(3,0,2)(0,0,0)[0] intercept   : AIC=6713.939, Time=1.41 sec\n",
      "New best model found (6713.939 < 6742.722)\n",
      " ARIMA(2,0,2)(0,0,0)[0] intercept   : AIC=6774.724, Time=1.51 sec\n",
      " ARIMA(4,0,2)(0,0,0)[0] intercept   : AIC=6707.804, Time=1.55 sec\n",
      "New best model found (6707.804 < 6713.939)\n",
      " ARIMA(5,0,2)(0,0,0)[0] intercept   : AIC=6673.432, Time=1.90 sec\n",
      "New best model found (6673.432 < 6707.804)\n",
      " ARIMA(5,0,1)(0,0,0)[0] intercept   : AIC=6674.321, Time=1.42 sec\n",
      " ARIMA(6,0,2)(0,0,0)[0] intercept   : AIC=6654.141, Time=1.65 sec\n",
      "New best model found (6654.141 < 6673.432)\n",
      " ARIMA(6,0,1)(0,0,0)[0] intercept   : AIC=6662.599, Time=1.61 sec\n",
      " ARIMA(7,0,2)(0,0,0)[0] intercept   : AIC=6649.247, Time=1.84 sec\n",
      "New best model found (6649.247 < 6654.141)\n",
      " ARIMA(7,0,1)(0,0,0)[0] intercept   : AIC=6649.552, Time=1.79 sec\n",
      " ARIMA(8,0,2)(0,0,0)[0] intercept   : AIC=6651.014, Time=2.06 sec\n",
      " ARIMA(7,0,3)(0,0,0)[0] intercept   : AIC=6629.623, Time=2.06 sec\n",
      "New best model found (6629.623 < 6649.247)\n",
      " ARIMA(6,0,3)(0,0,0)[0] intercept   : AIC=6634.645, Time=1.78 sec\n",
      " ARIMA(8,0,3)(0,0,0)[0] intercept   : AIC=6626.685, Time=2.07 sec\n",
      "New best model found (6626.685 < 6629.623)\n",
      " ARIMA(9,0,3)(0,0,0)[0] intercept   : AIC=6633.809, Time=2.47 sec\n",
      " ARIMA(8,0,4)(0,0,0)[0] intercept   : AIC=6626.747, Time=2.17 sec\n",
      " ARIMA(7,0,4)(0,0,0)[0] intercept   : AIC=6636.252, Time=2.00 sec\n",
      " ARIMA(9,0,2)(0,0,0)[0] intercept   : AIC=6628.620, Time=2.38 sec\n",
      " ARIMA(9,0,4)(0,0,0)[0] intercept   : AIC=6637.067, Time=2.33 sec\n",
      " ARIMA(8,0,3)(0,0,0)[0]             : AIC=6626.039, Time=2.00 sec\n",
      "New best model found (6626.039 < 6626.685)\n",
      " ARIMA(7,0,3)(0,0,0)[0]             : AIC=6628.966, Time=1.95 sec\n",
      " ARIMA(8,0,2)(0,0,0)[0]             : AIC=6649.251, Time=1.69 sec\n",
      " ARIMA(9,0,3)(0,0,0)[0]             : AIC=6631.992, Time=2.20 sec\n",
      " ARIMA(8,0,4)(0,0,0)[0]             : AIC=6624.876, Time=1.96 sec\n",
      "New best model found (6624.876 < 6626.039)\n",
      " ARIMA(7,0,4)(0,0,0)[0]             : AIC=6633.919, Time=1.76 sec\n",
      " ARIMA(9,0,4)(0,0,0)[0]             : AIC=6634.986, Time=2.25 sec\n",
      " ARIMA(8,0,5)(0,0,0)[0]             : AIC=6623.566, Time=2.03 sec\n",
      "New best model found (6623.566 < 6624.876)\n",
      " ARIMA(7,0,5)(0,0,0)[0]             : AIC=6610.779, Time=2.00 sec\n",
      "New best model found (6610.779 < 6623.566)\n",
      " ARIMA(6,0,5)(0,0,0)[0]             : AIC=6609.781, Time=1.82 sec\n",
      "New best model found (6609.781 < 6610.779)\n",
      " ARIMA(5,0,5)(0,0,0)[0]             : AIC=6607.023, Time=1.70 sec\n",
      "New best model found (6607.023 < 6609.781)\n",
      " ARIMA(4,0,5)(0,0,0)[0]             : AIC=6631.170, Time=1.56 sec\n",
      " ARIMA(5,0,4)(0,0,0)[0]             : AIC=6632.340, Time=1.59 sec\n",
      " ARIMA(5,0,6)(0,0,0)[0]             : AIC=6614.546, Time=1.96 sec\n",
      " ARIMA(4,0,4)(0,0,0)[0]             : AIC=6638.463, Time=1.54 sec\n",
      " ARIMA(4,0,6)(0,0,0)[0]             : AIC=6634.089, Time=1.76 sec\n",
      " ARIMA(6,0,4)(0,0,0)[0]             : AIC=6634.525, Time=1.65 sec\n",
      " ARIMA(6,0,6)(0,0,0)[0]             : AIC=6602.343, Time=2.00 sec\n",
      "New best model found (6602.343 < 6607.023)\n",
      " ARIMA(7,0,6)(0,0,0)[0]             : AIC=6602.030, Time=2.07 sec\n",
      "New best model found (6602.030 < 6602.343)\n",
      " ARIMA(8,0,6)(0,0,0)[0]             : AIC=6600.042, Time=2.15 sec\n",
      "New best model found (6600.042 < 6602.030)\n",
      " ARIMA(9,0,6)(0,0,0)[0]             : AIC=6598.125, Time=2.34 sec\n",
      "New best model found (6598.125 < 6600.042)\n",
      " ARIMA(9,0,5)(0,0,0)[0]             : AIC=6633.085, Time=2.59 sec\n",
      " ARIMA(10,0,6)(0,0,0)[0]             : AIC=6597.944, Time=3.47 sec\n",
      "New best model found (6597.944 < 6598.125)\n",
      " ARIMA(10,0,5)(0,0,0)[0]             : AIC=6627.448, Time=2.88 sec\n",
      " ARIMA(11,0,6)(0,0,0)[0]             : AIC=6597.801, Time=2.78 sec\n",
      "New best model found (6597.801 < 6597.944)\n",
      " ARIMA(11,0,5)(0,0,0)[0]             : AIC=6608.271, Time=3.02 sec\n",
      " ARIMA(12,0,6)(0,0,0)[0]             : AIC=6599.845, Time=3.07 sec\n",
      " ARIMA(11,0,7)(0,0,0)[0]             : AIC=6595.531, Time=3.00 sec\n",
      "New best model found (6595.531 < 6597.801)\n",
      " ARIMA(10,0,7)(0,0,0)[0]             : AIC=6596.099, Time=3.08 sec\n",
      " ARIMA(12,0,7)(0,0,0)[0]             : AIC=6604.660, Time=3.38 sec\n",
      "Near non-invertible roots for order (11, 0, 8)(0, 0, 0, 0); setting score to inf (at least one inverse root too close to the border of the unit circle: 0.999)\n",
      " ARIMA(11,0,8)(0,0,0)[0]             : AIC=inf, Time=3.30 sec\n",
      " ARIMA(10,0,8)(0,0,0)[0]             : AIC=6596.885, Time=3.08 sec\n",
      " ARIMA(12,0,8)(0,0,0)[0]             : AIC=6600.560, Time=3.35 sec\n",
      " ARIMA(11,0,7)(0,0,0)[0] intercept   : AIC=6596.616, Time=3.10 sec\n",
      "\n",
      "Best model:  ARIMA(11,0,7)(0,0,0)[0]          \n",
      "Total fit time: 120.122 seconds\n"
     ]
    }
   ],
   "source": [
    "arima = pm.auto_arima(y_train,X=X_train,m=31, seasonal=False, trace=2,d=None,start_p=0, start_q=0,  max_p=12, max_q=12,   D=None,        \n",
    "                    stationary=True,test='adf', error_action='trace')"
   ]
  },
  {
   "cell_type": "code",
   "execution_count": 31,
   "metadata": {},
   "outputs": [
    {
     "data": {
      "text/html": [
       "<table class=\"simpletable\">\n",
       "<caption>SARIMAX Results</caption>\n",
       "<tr>\n",
       "  <th>Dep. Variable:</th>           <td>y</td>         <th>  No. Observations:  </th>    <td>630</td>   \n",
       "</tr>\n",
       "<tr>\n",
       "  <th>Model:</th>           <td>SARIMAX(11, 0, 7)</td> <th>  Log Likelihood     </th> <td>-3269.765</td>\n",
       "</tr>\n",
       "<tr>\n",
       "  <th>Date:</th>            <td>Wed, 11 Sep 2024</td>  <th>  AIC                </th> <td>6595.531</td> \n",
       "</tr>\n",
       "<tr>\n",
       "  <th>Time:</th>                <td>16:06:14</td>      <th>  BIC                </th> <td>6720.011</td> \n",
       "</tr>\n",
       "<tr>\n",
       "  <th>Sample:</th>             <td>01-01-2022</td>     <th>  HQIC               </th> <td>6643.882</td> \n",
       "</tr>\n",
       "<tr>\n",
       "  <th></th>                   <td>- 09-22-2023</td>    <th>                     </th>     <td> </td>    \n",
       "</tr>\n",
       "<tr>\n",
       "  <th>Covariance Type:</th>        <td>opg</td>        <th>                     </th>     <td> </td>    \n",
       "</tr>\n",
       "</table>\n",
       "<table class=\"simpletable\">\n",
       "<tr>\n",
       "       <td></td>          <th>coef</th>     <th>std err</th>      <th>z</th>      <th>P>|z|</th>  <th>[0.025</th>    <th>0.975]</th>  \n",
       "</tr>\n",
       "<tr>\n",
       "  <th>is_holiday</th>  <td> -109.0299</td> <td>    6.350</td> <td>  -17.171</td> <td> 0.000</td> <td> -121.475</td> <td>  -96.585</td>\n",
       "</tr>\n",
       "<tr>\n",
       "  <th>temperature</th> <td>    0.5002</td> <td>    0.075</td> <td>    6.693</td> <td> 0.000</td> <td>    0.354</td> <td>    0.647</td>\n",
       "</tr>\n",
       "<tr>\n",
       "  <th>weekday_0</th>   <td>  196.6206</td> <td>   25.210</td> <td>    7.799</td> <td> 0.000</td> <td>  147.209</td> <td>  246.032</td>\n",
       "</tr>\n",
       "<tr>\n",
       "  <th>weekday_1</th>   <td>  195.9951</td> <td>   25.702</td> <td>    7.626</td> <td> 0.000</td> <td>  145.621</td> <td>  246.369</td>\n",
       "</tr>\n",
       "<tr>\n",
       "  <th>weekday_2</th>   <td>  186.3130</td> <td>   26.428</td> <td>    7.050</td> <td> 0.000</td> <td>  134.515</td> <td>  238.111</td>\n",
       "</tr>\n",
       "<tr>\n",
       "  <th>weekday_3</th>   <td>  186.8644</td> <td>   27.119</td> <td>    6.890</td> <td> 0.000</td> <td>  133.711</td> <td>  240.017</td>\n",
       "</tr>\n",
       "<tr>\n",
       "  <th>weekday_4</th>   <td>  187.3017</td> <td>   26.402</td> <td>    7.094</td> <td> 0.000</td> <td>  135.554</td> <td>  239.049</td>\n",
       "</tr>\n",
       "<tr>\n",
       "  <th>weekday_5</th>   <td>   69.9719</td> <td>   26.417</td> <td>    2.649</td> <td> 0.008</td> <td>   18.196</td> <td>  121.748</td>\n",
       "</tr>\n",
       "<tr>\n",
       "  <th>weekday_6</th>   <td>   15.9025</td> <td>   26.154</td> <td>    0.608</td> <td> 0.543</td> <td>  -35.358</td> <td>   67.163</td>\n",
       "</tr>\n",
       "<tr>\n",
       "  <th>ar.L1</th>       <td>    0.0087</td> <td>    0.228</td> <td>    0.038</td> <td> 0.970</td> <td>   -0.437</td> <td>    0.455</td>\n",
       "</tr>\n",
       "<tr>\n",
       "  <th>ar.L2</th>       <td>    0.0906</td> <td>    0.116</td> <td>    0.782</td> <td> 0.434</td> <td>   -0.136</td> <td>    0.317</td>\n",
       "</tr>\n",
       "<tr>\n",
       "  <th>ar.L3</th>       <td>    0.2139</td> <td>    0.089</td> <td>    2.397</td> <td> 0.017</td> <td>    0.039</td> <td>    0.389</td>\n",
       "</tr>\n",
       "<tr>\n",
       "  <th>ar.L4</th>       <td>   -0.0056</td> <td>    0.092</td> <td>   -0.061</td> <td> 0.952</td> <td>   -0.186</td> <td>    0.175</td>\n",
       "</tr>\n",
       "<tr>\n",
       "  <th>ar.L5</th>       <td>   -0.4365</td> <td>    0.072</td> <td>   -6.032</td> <td> 0.000</td> <td>   -0.578</td> <td>   -0.295</td>\n",
       "</tr>\n",
       "<tr>\n",
       "  <th>ar.L6</th>       <td>    0.6961</td> <td>    0.077</td> <td>    9.083</td> <td> 0.000</td> <td>    0.546</td> <td>    0.846</td>\n",
       "</tr>\n",
       "<tr>\n",
       "  <th>ar.L7</th>       <td>    0.3166</td> <td>    0.177</td> <td>    1.792</td> <td> 0.073</td> <td>   -0.030</td> <td>    0.663</td>\n",
       "</tr>\n",
       "<tr>\n",
       "  <th>ar.L8</th>       <td>    0.1714</td> <td>    0.056</td> <td>    3.057</td> <td> 0.002</td> <td>    0.061</td> <td>    0.281</td>\n",
       "</tr>\n",
       "<tr>\n",
       "  <th>ar.L9</th>       <td>   -0.0022</td> <td>    0.061</td> <td>   -0.036</td> <td> 0.972</td> <td>   -0.121</td> <td>    0.117</td>\n",
       "</tr>\n",
       "<tr>\n",
       "  <th>ar.L10</th>      <td>   -0.2537</td> <td>    0.061</td> <td>   -4.165</td> <td> 0.000</td> <td>   -0.373</td> <td>   -0.134</td>\n",
       "</tr>\n",
       "<tr>\n",
       "  <th>ar.L11</th>      <td>    0.1346</td> <td>    0.072</td> <td>    1.877</td> <td> 0.061</td> <td>   -0.006</td> <td>    0.275</td>\n",
       "</tr>\n",
       "<tr>\n",
       "  <th>ma.L1</th>       <td>    0.1374</td> <td>    0.225</td> <td>    0.610</td> <td> 0.542</td> <td>   -0.304</td> <td>    0.579</td>\n",
       "</tr>\n",
       "<tr>\n",
       "  <th>ma.L2</th>       <td>   -0.2566</td> <td>    0.099</td> <td>   -2.598</td> <td> 0.009</td> <td>   -0.450</td> <td>   -0.063</td>\n",
       "</tr>\n",
       "<tr>\n",
       "  <th>ma.L3</th>       <td>    0.0437</td> <td>    0.112</td> <td>    0.390</td> <td> 0.696</td> <td>   -0.176</td> <td>    0.263</td>\n",
       "</tr>\n",
       "<tr>\n",
       "  <th>ma.L4</th>       <td>    0.0519</td> <td>    0.069</td> <td>    0.754</td> <td> 0.451</td> <td>   -0.083</td> <td>    0.187</td>\n",
       "</tr>\n",
       "<tr>\n",
       "  <th>ma.L5</th>       <td>    0.3145</td> <td>    0.072</td> <td>    4.386</td> <td> 0.000</td> <td>    0.174</td> <td>    0.455</td>\n",
       "</tr>\n",
       "<tr>\n",
       "  <th>ma.L6</th>       <td>   -0.4546</td> <td>    0.069</td> <td>   -6.607</td> <td> 0.000</td> <td>   -0.589</td> <td>   -0.320</td>\n",
       "</tr>\n",
       "<tr>\n",
       "  <th>ma.L7</th>       <td>   -0.3252</td> <td>    0.139</td> <td>   -2.344</td> <td> 0.019</td> <td>   -0.597</td> <td>   -0.053</td>\n",
       "</tr>\n",
       "<tr>\n",
       "  <th>sigma2</th>      <td> 1929.2879</td> <td>   82.863</td> <td>   23.283</td> <td> 0.000</td> <td> 1766.879</td> <td> 2091.697</td>\n",
       "</tr>\n",
       "</table>\n",
       "<table class=\"simpletable\">\n",
       "<tr>\n",
       "  <th>Ljung-Box (L1) (Q):</th>     <td>0.00</td> <th>  Jarque-Bera (JB):  </th> <td>427.96</td>\n",
       "</tr>\n",
       "<tr>\n",
       "  <th>Prob(Q):</th>                <td>0.98</td> <th>  Prob(JB):          </th>  <td>0.00</td> \n",
       "</tr>\n",
       "<tr>\n",
       "  <th>Heteroskedasticity (H):</th> <td>3.33</td> <th>  Skew:              </th>  <td>-0.81</td>\n",
       "</tr>\n",
       "<tr>\n",
       "  <th>Prob(H) (two-sided):</th>    <td>0.00</td> <th>  Kurtosis:          </th>  <td>6.70</td> \n",
       "</tr>\n",
       "</table><br/><br/>Warnings:<br/>[1] Covariance matrix calculated using the outer product of gradients (complex-step)."
      ],
      "text/latex": [
       "\\begin{center}\n",
       "\\begin{tabular}{lclc}\n",
       "\\toprule\n",
       "\\textbf{Dep. Variable:}          &         y         & \\textbf{  No. Observations:  } &    630      \\\\\n",
       "\\textbf{Model:}                  & SARIMAX(11, 0, 7) & \\textbf{  Log Likelihood     } & -3269.765   \\\\\n",
       "\\textbf{Date:}                   &  Wed, 11 Sep 2024 & \\textbf{  AIC                } &  6595.531   \\\\\n",
       "\\textbf{Time:}                   &      16:06:14     & \\textbf{  BIC                } &  6720.011   \\\\\n",
       "\\textbf{Sample:}                 &     01-01-2022    & \\textbf{  HQIC               } &  6643.882   \\\\\n",
       "\\textbf{}                        &    - 09-22-2023   & \\textbf{                     } &             \\\\\n",
       "\\textbf{Covariance Type:}        &        opg        & \\textbf{                     } &             \\\\\n",
       "\\bottomrule\n",
       "\\end{tabular}\n",
       "\\begin{tabular}{lcccccc}\n",
       "                     & \\textbf{coef} & \\textbf{std err} & \\textbf{z} & \\textbf{P$> |$z$|$} & \\textbf{[0.025} & \\textbf{0.975]}  \\\\\n",
       "\\midrule\n",
       "\\textbf{is\\_holiday} &    -109.0299  &        6.350     &   -17.171  &         0.000        &     -121.475    &      -96.585     \\\\\n",
       "\\textbf{temperature} &       0.5002  &        0.075     &     6.693  &         0.000        &        0.354    &        0.647     \\\\\n",
       "\\textbf{weekday\\_0}  &     196.6206  &       25.210     &     7.799  &         0.000        &      147.209    &      246.032     \\\\\n",
       "\\textbf{weekday\\_1}  &     195.9951  &       25.702     &     7.626  &         0.000        &      145.621    &      246.369     \\\\\n",
       "\\textbf{weekday\\_2}  &     186.3130  &       26.428     &     7.050  &         0.000        &      134.515    &      238.111     \\\\\n",
       "\\textbf{weekday\\_3}  &     186.8644  &       27.119     &     6.890  &         0.000        &      133.711    &      240.017     \\\\\n",
       "\\textbf{weekday\\_4}  &     187.3017  &       26.402     &     7.094  &         0.000        &      135.554    &      239.049     \\\\\n",
       "\\textbf{weekday\\_5}  &      69.9719  &       26.417     &     2.649  &         0.008        &       18.196    &      121.748     \\\\\n",
       "\\textbf{weekday\\_6}  &      15.9025  &       26.154     &     0.608  &         0.543        &      -35.358    &       67.163     \\\\\n",
       "\\textbf{ar.L1}       &       0.0087  &        0.228     &     0.038  &         0.970        &       -0.437    &        0.455     \\\\\n",
       "\\textbf{ar.L2}       &       0.0906  &        0.116     &     0.782  &         0.434        &       -0.136    &        0.317     \\\\\n",
       "\\textbf{ar.L3}       &       0.2139  &        0.089     &     2.397  &         0.017        &        0.039    &        0.389     \\\\\n",
       "\\textbf{ar.L4}       &      -0.0056  &        0.092     &    -0.061  &         0.952        &       -0.186    &        0.175     \\\\\n",
       "\\textbf{ar.L5}       &      -0.4365  &        0.072     &    -6.032  &         0.000        &       -0.578    &       -0.295     \\\\\n",
       "\\textbf{ar.L6}       &       0.6961  &        0.077     &     9.083  &         0.000        &        0.546    &        0.846     \\\\\n",
       "\\textbf{ar.L7}       &       0.3166  &        0.177     &     1.792  &         0.073        &       -0.030    &        0.663     \\\\\n",
       "\\textbf{ar.L8}       &       0.1714  &        0.056     &     3.057  &         0.002        &        0.061    &        0.281     \\\\\n",
       "\\textbf{ar.L9}       &      -0.0022  &        0.061     &    -0.036  &         0.972        &       -0.121    &        0.117     \\\\\n",
       "\\textbf{ar.L10}      &      -0.2537  &        0.061     &    -4.165  &         0.000        &       -0.373    &       -0.134     \\\\\n",
       "\\textbf{ar.L11}      &       0.1346  &        0.072     &     1.877  &         0.061        &       -0.006    &        0.275     \\\\\n",
       "\\textbf{ma.L1}       &       0.1374  &        0.225     &     0.610  &         0.542        &       -0.304    &        0.579     \\\\\n",
       "\\textbf{ma.L2}       &      -0.2566  &        0.099     &    -2.598  &         0.009        &       -0.450    &       -0.063     \\\\\n",
       "\\textbf{ma.L3}       &       0.0437  &        0.112     &     0.390  &         0.696        &       -0.176    &        0.263     \\\\\n",
       "\\textbf{ma.L4}       &       0.0519  &        0.069     &     0.754  &         0.451        &       -0.083    &        0.187     \\\\\n",
       "\\textbf{ma.L5}       &       0.3145  &        0.072     &     4.386  &         0.000        &        0.174    &        0.455     \\\\\n",
       "\\textbf{ma.L6}       &      -0.4546  &        0.069     &    -6.607  &         0.000        &       -0.589    &       -0.320     \\\\\n",
       "\\textbf{ma.L7}       &      -0.3252  &        0.139     &    -2.344  &         0.019        &       -0.597    &       -0.053     \\\\\n",
       "\\textbf{sigma2}      &    1929.2879  &       82.863     &    23.283  &         0.000        &     1766.879    &     2091.697     \\\\\n",
       "\\bottomrule\n",
       "\\end{tabular}\n",
       "\\begin{tabular}{lclc}\n",
       "\\textbf{Ljung-Box (L1) (Q):}     & 0.00 & \\textbf{  Jarque-Bera (JB):  } & 427.96  \\\\\n",
       "\\textbf{Prob(Q):}                & 0.98 & \\textbf{  Prob(JB):          } &  0.00   \\\\\n",
       "\\textbf{Heteroskedasticity (H):} & 3.33 & \\textbf{  Skew:              } & -0.81   \\\\\n",
       "\\textbf{Prob(H) (two-sided):}    & 0.00 & \\textbf{  Kurtosis:          } &  6.70   \\\\\n",
       "\\bottomrule\n",
       "\\end{tabular}\n",
       "%\\caption{SARIMAX Results}\n",
       "\\end{center}\n",
       "\n",
       "Warnings: \\newline\n",
       " [1] Covariance matrix calculated using the outer product of gradients (complex-step)."
      ],
      "text/plain": [
       "<class 'statsmodels.iolib.summary.Summary'>\n",
       "\"\"\"\n",
       "                               SARIMAX Results                                \n",
       "==============================================================================\n",
       "Dep. Variable:                      y   No. Observations:                  630\n",
       "Model:              SARIMAX(11, 0, 7)   Log Likelihood               -3269.765\n",
       "Date:                Wed, 11 Sep 2024   AIC                           6595.531\n",
       "Time:                        16:06:14   BIC                           6720.011\n",
       "Sample:                    01-01-2022   HQIC                          6643.882\n",
       "                         - 09-22-2023                                         \n",
       "Covariance Type:                  opg                                         \n",
       "===============================================================================\n",
       "                  coef    std err          z      P>|z|      [0.025      0.975]\n",
       "-------------------------------------------------------------------------------\n",
       "is_holiday   -109.0299      6.350    -17.171      0.000    -121.475     -96.585\n",
       "temperature     0.5002      0.075      6.693      0.000       0.354       0.647\n",
       "weekday_0     196.6206     25.210      7.799      0.000     147.209     246.032\n",
       "weekday_1     195.9951     25.702      7.626      0.000     145.621     246.369\n",
       "weekday_2     186.3130     26.428      7.050      0.000     134.515     238.111\n",
       "weekday_3     186.8644     27.119      6.890      0.000     133.711     240.017\n",
       "weekday_4     187.3017     26.402      7.094      0.000     135.554     239.049\n",
       "weekday_5      69.9719     26.417      2.649      0.008      18.196     121.748\n",
       "weekday_6      15.9025     26.154      0.608      0.543     -35.358      67.163\n",
       "ar.L1           0.0087      0.228      0.038      0.970      -0.437       0.455\n",
       "ar.L2           0.0906      0.116      0.782      0.434      -0.136       0.317\n",
       "ar.L3           0.2139      0.089      2.397      0.017       0.039       0.389\n",
       "ar.L4          -0.0056      0.092     -0.061      0.952      -0.186       0.175\n",
       "ar.L5          -0.4365      0.072     -6.032      0.000      -0.578      -0.295\n",
       "ar.L6           0.6961      0.077      9.083      0.000       0.546       0.846\n",
       "ar.L7           0.3166      0.177      1.792      0.073      -0.030       0.663\n",
       "ar.L8           0.1714      0.056      3.057      0.002       0.061       0.281\n",
       "ar.L9          -0.0022      0.061     -0.036      0.972      -0.121       0.117\n",
       "ar.L10         -0.2537      0.061     -4.165      0.000      -0.373      -0.134\n",
       "ar.L11          0.1346      0.072      1.877      0.061      -0.006       0.275\n",
       "ma.L1           0.1374      0.225      0.610      0.542      -0.304       0.579\n",
       "ma.L2          -0.2566      0.099     -2.598      0.009      -0.450      -0.063\n",
       "ma.L3           0.0437      0.112      0.390      0.696      -0.176       0.263\n",
       "ma.L4           0.0519      0.069      0.754      0.451      -0.083       0.187\n",
       "ma.L5           0.3145      0.072      4.386      0.000       0.174       0.455\n",
       "ma.L6          -0.4546      0.069     -6.607      0.000      -0.589      -0.320\n",
       "ma.L7          -0.3252      0.139     -2.344      0.019      -0.597      -0.053\n",
       "sigma2       1929.2879     82.863     23.283      0.000    1766.879    2091.697\n",
       "===================================================================================\n",
       "Ljung-Box (L1) (Q):                   0.00   Jarque-Bera (JB):               427.96\n",
       "Prob(Q):                              0.98   Prob(JB):                         0.00\n",
       "Heteroskedasticity (H):               3.33   Skew:                            -0.81\n",
       "Prob(H) (two-sided):                  0.00   Kurtosis:                         6.70\n",
       "===================================================================================\n",
       "\n",
       "Warnings:\n",
       "[1] Covariance matrix calculated using the outer product of gradients (complex-step).\n",
       "\"\"\""
      ]
     },
     "execution_count": 31,
     "metadata": {},
     "output_type": "execute_result"
    }
   ],
   "source": [
    "arima.summary()"
   ]
  },
  {
   "cell_type": "code",
   "execution_count": null,
   "metadata": {},
   "outputs": [],
   "source": [
    "arima.params"
   ]
  },
  {
   "cell_type": "code",
   "execution_count": 32,
   "metadata": {},
   "outputs": [
    {
     "data": {
      "text/plain": [
       "2023-09-23    230.804171\n",
       "2023-09-24    158.559412\n",
       "2023-09-25    365.378591\n",
       "2023-09-26    390.271826\n",
       "2023-09-27    376.198780\n",
       "                 ...    \n",
       "2023-12-27    298.957002\n",
       "2023-12-28    305.953012\n",
       "2023-12-29    309.935252\n",
       "2023-12-30    186.739574\n",
       "2023-12-31    131.000542\n",
       "Freq: D, Length: 100, dtype: float64"
      ]
     },
     "execution_count": 32,
     "metadata": {},
     "output_type": "execute_result"
    }
   ],
   "source": [
    "pred=arima.predict(n_periods=100, X=X_validate, alpha=0.05)\n",
    "pred"
   ]
  },
  {
   "cell_type": "code",
   "execution_count": 33,
   "metadata": {},
   "outputs": [
    {
     "data": {
      "image/png": "[encoded data removed]",
      "text/plain": [
       "<Figure size 1500x500 with 1 Axes>"
      ]
     },
     "metadata": {},
     "output_type": "display_data"
    }
   ],
   "source": [
    "plt.figure(figsize=(15,5))\n",
    "plt.grid()\n",
    "#plt.plot(data['Period'][:-10], train['GDP_GROWTH'], marker='o', label='Train')\n",
    "plt.plot(df_validate.index,y_validate, marker='o', label='Test')\n",
    "plt.plot(df_validate.index,pred, marker='v', label='Prediction')\n",
    "plt.legend()\n",
    "plt.xticks(rotation=90)\n",
    "plt.show()"
   ]
  },
  {
   "cell_type": "code",
   "execution_count": 34,
   "metadata": {},
   "outputs": [
    {
     "name": "stdout",
     "output_type": "stream",
     "text": [
      "Mean Absolute Percentage Error 0.42294960592909425\n"
     ]
    }
   ],
   "source": [
    "mape=mean_absolute_percentage_error(y_validate, pred)\n",
    "print(\"Mean Absolute Percentage Error\", mape)\n"
   ]
  },
  {
   "cell_type": "code",
   "execution_count": 35,
   "metadata": {},
   "outputs": [
    {
     "name": "stdout",
     "output_type": "stream",
     "text": [
      "Mean Squared Error 7378.224087627599\n"
     ]
    }
   ],
   "source": [
    "mse=mean_squared_error(y_validate, pred)\n",
    "print(\"Mean Squared Error\",mse)"
   ]
  },
  {
   "cell_type": "code",
   "execution_count": 36,
   "metadata": {},
   "outputs": [
    {
     "name": "stdout",
     "output_type": "stream",
     "text": [
      "RMSE 85.89658949939513\n"
     ]
    }
   ],
   "source": [
    "print(\"RMSE\", (mse)**0.5)"
   ]
  },
  {
   "cell_type": "code",
   "execution_count": 37,
   "metadata": {},
   "outputs": [
    {
     "name": "stdout",
     "output_type": "stream",
     "text": [
      "AIC values 6595.530925945915\n"
     ]
    }
   ],
   "source": [
    "print(\"AIC values {}\".format(arima.aic()))"
   ]
  },
  {
   "cell_type": "markdown",
   "metadata": {},
   "source": [
    "# ARIMA"
   ]
  },
  {
   "cell_type": "code",
   "execution_count": 31,
   "metadata": {},
   "outputs": [],
   "source": [
    "from statsmodels.tsa.seasonal import seasonal_decompose\n",
    "\n",
    "# decompose the time series into its trend, seasonal and residuals components\n",
    "result_decompose = seasonal_decompose(df_train['new_total_usage'], model='additive')\n"
   ]
  },
  {
   "cell_type": "code",
   "execution_count": null,
   "metadata": {},
   "outputs": [],
   "source": [
    "df_train.info()"
   ]
  },
  {
   "cell_type": "code",
   "execution_count": null,
   "metadata": {},
   "outputs": [],
   "source": [
    "trend     = result_decompose.trend\n",
    "seasonal  = result_decompose.seasonal\n",
    "residuals = result_decompose.resid\n",
    "# plot every component\n",
    "plt.figure(figsize=(20,10))\n",
    "plt.subplot(311)\n",
    "plt.plot(trend)\n",
    "plt.title('trend')\n",
    "plt.subplot(312)\n",
    "plt.plot(seasonal)\n",
    "plt.title('seasonality')\n",
    "plt.subplot(313)\n",
    "plt.plot(residuals)\n",
    "plt.title('residuals')"
   ]
  },
  {
   "cell_type": "code",
   "execution_count": null,
   "metadata": {},
   "outputs": [],
   "source": []
  }
 ],
 "metadata": {
  "kernelspec": {
   "display_name": "time_series_env",
   "language": "python",
   "name": "python3"
  },
  "language_info": {
   "codemirror_mode": {
    "name": "ipython",
    "version": 3
   },
   "file_extension": ".py",
   "mimetype": "text/x-python",
   "name": "python",
   "nbconvert_exporter": "python",
   "pygments_lexer": "ipython3",
   "version": "3.12.4"
  }
 },
 "nbformat": 4,
 "nbformat_minor": 2
}
